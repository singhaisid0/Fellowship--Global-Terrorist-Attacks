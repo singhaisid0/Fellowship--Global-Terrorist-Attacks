{
 "cells": [
  {
   "cell_type": "code",
   "execution_count": null,
   "metadata": {},
   "outputs": [],
   "source": [
    "'''As this model is developed for problem case: \"Use attack type, weapons used, description of the attack, etc. to build a model that can predict what group may have been responsible for an incident. \n",
    "\"\n",
    "where I have used multi class logistic regression\n",
    "'''"
   ]
  },
  {
   "cell_type": "code",
   "execution_count": 1,
   "metadata": {},
   "outputs": [
    {
     "name": "stderr",
     "output_type": "stream",
     "text": [
      "/usr/lib/python3.5/importlib/_bootstrap.py:222: RuntimeWarning: numpy.dtype size changed, may indicate binary incompatibility. Expected 96, got 88\n",
      "  return f(*args, **kwds)\n"
     ]
    }
   ],
   "source": [
    "import pandas as pd"
   ]
  },
  {
   "cell_type": "code",
   "execution_count": 2,
   "metadata": {},
   "outputs": [],
   "source": [
    "df = pd.read_excel(\"/home/siddharth/Downloads/fellowship/GTD_0718dist/gtd_96to13_0718dist.xlsx\")"
   ]
  },
  {
   "cell_type": "code",
   "execution_count": null,
   "metadata": {
    "scrolled": true
   },
   "outputs": [],
   "source": [
    "print(df.head())"
   ]
  },
  {
   "cell_type": "code",
   "execution_count": 4,
   "metadata": {},
   "outputs": [],
   "source": [
    "df1 = df['gname']"
   ]
  },
  {
   "cell_type": "code",
   "execution_count": 5,
   "metadata": {},
   "outputs": [
    {
     "name": "stdout",
     "output_type": "stream",
     "text": [
      "0                                     Corsican Separatists\n",
      "1                                     Corsican Separatists\n",
      "2                                                  Unknown\n",
      "3                                                  Unknown\n",
      "4                                                  Unknown\n",
      "5                                                  Unknown\n",
      "6                                                  Unknown\n",
      "7                                                  Unknown\n",
      "8                                                  Unknown\n",
      "9                                                  Unknown\n",
      "10                                                 Unknown\n",
      "11                                                 Unknown\n",
      "12                                                 Unknown\n",
      "13                                                 Unknown\n",
      "14                                    Corsican Separatists\n",
      "15                                    Corsican Separatists\n",
      "16                                    Corsican Separatists\n",
      "17                                    Corsican Separatists\n",
      "18                                                 Unknown\n",
      "19                      Direct Action Against Drugs (DADD)\n",
      "20       Anti-Nuclear Society for a Silent Counter-Offe...\n",
      "21                                                 Unknown\n",
      "22                                                 Unknown\n",
      "23                                                 Unknown\n",
      "24                                                 Unknown\n",
      "25                                                 Unknown\n",
      "26                                                 Unknown\n",
      "27                                                 Unknown\n",
      "28                                                 Unknown\n",
      "29                                                 Unknown\n",
      "                               ...                        \n",
      "64054                                              Unknown\n",
      "64055               Ansar Bayt al-Maqdis (Ansar Jerusalem)\n",
      "64056                                              Unknown\n",
      "64057                                              Unknown\n",
      "64058                                              Unknown\n",
      "64059                                              Unknown\n",
      "64060                                              Unknown\n",
      "64061                                              Unknown\n",
      "64062                                              Unknown\n",
      "64063                                              Unknown\n",
      "64064                                              Unknown\n",
      "64065                                              Unknown\n",
      "64066                                              Unknown\n",
      "64067                                              Unknown\n",
      "64068                                  Anti-Balaka Militia\n",
      "64069                                              Unknown\n",
      "64070                                              Unknown\n",
      "64071                                              Unknown\n",
      "64072                                    Fulani extremists\n",
      "64073                                   Israeli extremists\n",
      "64074           Bangsamoro Islamic Freedom Movement (BIFM)\n",
      "64075           Bangsamoro Islamic Freedom Movement (BIFM)\n",
      "64076                                              Unknown\n",
      "64077                                              Unknown\n",
      "64078                                              Maoists\n",
      "64079                                              Maoists\n",
      "64080                                              Unknown\n",
      "64081        Mozambique National Resistance Movement (MNR)\n",
      "64082                                              Unknown\n",
      "64083          Islamic State of Iraq and the Levant (ISIL)\n",
      "Name: gname, Length: 64084, dtype: object\n"
     ]
    }
   ],
   "source": [
    "print(df1)"
   ]
  },
  {
   "cell_type": "code",
   "execution_count": 6,
   "metadata": {},
   "outputs": [],
   "source": [
    "set_df = set(df1)"
   ]
  },
  {
   "cell_type": "code",
   "execution_count": 7,
   "metadata": {},
   "outputs": [
    {
     "name": "stdout",
     "output_type": "stream",
     "text": [
      "{'Bani Jaber tribe', 'Nihilists Faction', 'Youth of Islamic Awakening', 'Kurdistan Freedom Hawks (TAK)', 'Muslim Youth', 'Mujahedeen Brigades', 'Enyele Militia', 'The Justice Department', 'Banner of Islam', 'People Against Gangsterism and Drugs (PAGAD)', 'Resistencia Galega', 'Fatherland and Liberty Nationalist Front (FNPL - Frente Nacionalista Patria y Libertad FNPL)', 'Baby Liberation Army', 'Pro-Pakistani extremists', 'Neo-Nazi extremists', 'Al-Qaida in Lebanon', 'Hoodie Wearers', 'Urhobo Revolutionary Army', 'Beli Orlovi (White Eagles)', 'Islamic Movement of Iraqi Mujahidin', 'Turkestan Islamic Party', 'Anarchist Action (CA / United States)', 'Qari Kamran Group', 'Tajamo Ansar al-Islam', 'Tehrik-e-Nifaz-e-Aman Balochistan-Jhalawan Brigade (TNAB-Jhalawan Brigade)', 'Right-Wing Gunmen', 'Kach', 'Popular Front for the Liberation of Palestine, Gen Cmd (PFLP-GC)', 'Yakariya Bango Insurgent Group', 'Belarusian Liberation Army', 'Support of Ocalan-The Hawks of Thrace', 'Government Supporters', 'United Democratic Terai Liberation Front (UDTLF)', 'Shabelle Valley militia', 'Knights Templar (Caballeros Templarios)', 'Thavar Caste', 'Armed People', 'Borderless Solidarity Cell (BSC)', 'Tupamaro Revolutionary Movement', 'Oromo Liberation Front', 'Adivasi National Liberation Army (ANLA)', 'Right-Wing Paramilitaries', 'Gang', 'Institutional Revolutionary Party (PRI)', 'Sipah-e-Sahaba/Pakistan (SSP)', 'Modakeke Ethnics', \"People's Liberation Organization of Tamil Eelam\", 'Al-Khobar', 'Jharkhand Liberation Tigers (JLT)', 'Rebels', 'Islamic Jihad Brigades', 'Nepali Congress Party (NC)', 'Wahhabi Movement', 'Vanuatu Mobile Force (VMF)', 'Egbesu Youths of the Bayelsa', 'Revolted Persons of the Polytech School', 'Alcubar group', 'Mujahidin Ambon', '14 K Triad', 'Mahidi', 'Barisan Revolusi Nasional (BRN)', 'Protectors of Islam Brigade', 'Combat 18', 'Amr Bil Maroof Wa Nahi Anil Munkir', 'Jerusalem Groups Hebrew (Qvutzot Yerushalayim)', 'Bosnian refugee', 'Beja Congress', 'Korubo Tribe', 'Madhesh Rastra Janatantrik Revolutionary (RJR) - Nepal', 'Al-Jub Tribe', 'Direct Action Against Drugs (DADD)', \"People's Amn Committee\", 'Naga People', 'Opposition Group', 'Tolib Ayombekov loyalists', 'Revenge of the Trees', 'Tehrik-e-Nafaz-e-Shariat-e-Mohammadi (TNSM)', 'Unidentified Infiltrators', 'Anti-Imperialist Commando', 'Tamil Liberation Army', 'Fatah Hawks', 'Kuki tribesmen', 'Coalition to Save the Preserves (CSP)', 'National Democratic Front of Bodoland (NDFB)', 'Enraged Revolutionaries', 'Council for the Destruction of Order', 'Popular Front for the Liberation of Palestine (PFLP)', 'Political Activists', 'Kaingang Indians', 'Abdul Qader Husseini Battalions of the Free Palestine movement', 'Tribesmen', 'Liwa al-Tawhid', 'Ayesha bint al-Sadiq Brigade', 'Patriotic Union of Kurdistan (PUK)', 'Ashuar Tribe', 'Civil War Veterans', 'Anti-State Justice', 'Justice and Equality Movement (JEM)', 'The United Revolutionary Front of Bhutan', 'Afghan Revolutionary Front', 'We Who Built Sweden', 'Samyukta Janatantrik Terai Mukti Morcha (SJTMM)', 'Popular Will (Greece)', 'Gugama Youth Federation', 'Tehrik-e-Taliban Islami (TTI)', 'Ulster Volunteer Force (UVF)', 'Ikhwan Jammu and Kashmir', 'National Redemption Front', 'Anti-United States extremists', 'Allied Democratic Forces of Guinea (RDFG)', \"Sa'ad Militia\", 'Islambouli Brigades of al-Qaida', 'Houthi extremists (Ansar Allah)', 'Jihadist Soldiers', 'Zero Tolerance', 'Aqmur', 'Pro-LGBT Rights extremists', 'Jaish-e-Islam', 'National Democratic Front-Bicol (NDF-Bicol)', 'Peasant protesters', 'Martyr Sami al-Ghul Brigades', 'Libya Shield Force', 'Kurdish Militants', 'Anti-Nuclear extremists', 'Taliban (Pakistan)', 'Islamic Jihad Union (Uzbekistan)', 'Dignity for Colombia', 'Sudan Alliance Forces', 'Anti-Authority Group (Greece)', 'Overall Deniers of Joining the Existing', \"Naga People's Council (NPC)\", 'Mahaz-e-Inquilab', 'The War That Was Never Declared', 'Left-Wing Guerrillas', 'Pirates', 'Columbia PM', 'All Ethiopian Unity Party (AEUP)', 'Egyptians', 'Kuki National Army (KNA)', 'Mujahedeen Corps in Iraq', 'Provisional RSPCA', \"Madhesi People's Rights Forum (MPRF)\", 'Karabulak Gang', 'Global Intifada', 'Khumbuwan Mukti Morcha', 'Congolese Patriotic Resistence-Patriotic Armed Forces (Pareco/FAP)', 'Anti-Muslim extremists', 'Pro Hartal Activists', 'Movement of Niger People for Justice (MNJ)', 'Terai Madheshi Mukti Morcha (TMMM)', 'Attack Teams for the Dissolution of the Nation (Greece)', 'Pattani United Liberation Organization (PULO)', 'Wolves of Islam', 'Supporters of Ernest Wamba dia Wamba', 'Supporters of Pascal Lissouba', 'Union of Chadian Forces (UFNT)', 'Kirat Janabadi Workers Party', 'Black Eagles', 'Gazteriak', 'Hynniewtrep National Liberation Council (HNLC)', 'Georgian Militants', 'Chukakuha Revolutionary Army', 'Praveen Dalam', 'Al-Qaida Kurdish Battalions (AQKB)', 'Albanian Separatists', 'Takfir wal-Hijra (Excommunication and Exodus)', 'Devrimici Halk Kurtulus Cephesi (DHKP/C)', 'Jihadi-inspired extremists', \"Jaish al-Ta'ifa al-Mansura\", 'Coalition for Unity and Democracy (CUD)', 'Kuki Revolutionary Army (KRA)', 'National Liberation Front of Tripura (NLFT)', 'Gbagbo Loyalists', 'Association Totalement Anti-Guerre (ATAG)', 'Garo National Liberation Army', 'Student Militants', 'Al-Sunni muslim sect', 'Corsican National Liberation Front- Historic Channel', 'National Democratic Alliance of Sudan', 'Jaish-e-Mohammad (Iraq)', 'National Liberation Army of Colombia (ELN)', 'Tehrik-e-Galba Islam', 'Izberbash Gang', 'Islamic Shashantantra Andolon (ISA)', 'Fatherland', 'Supporters of Ali Mahdi Mohammed', 'United Front for Democracy Against Dictatorship', 'The Mujahadeen Room in Latakia Countryside', 'Anti-Zionist Movement', 'National Bolshevik Party (Partiya Natsionalnikh Bolshevikov - PNB)', 'Hutu extremists', 'Intifada Martyrs', 'Macedonian nationalists', \"People's War Group (PWG)\", 'Revolutionary Action of Liberation', 'Revolutionary Popular Left', 'Anti-State Proletarian Nuclei', 'Sword of Islam', 'Brelvi Muslims', 'Ansar Wa Mohajir (Pakistan)', 'Macheteros', 'Armed Islamic Group (GIA)', 'Just Punishment Brigades', 'Kokang', 'Revolutionary Force', 'Vandalicia Teodoro Suarez', 'M-19 (Movement of April 19)', 'Golden Dawn', 'Hells Angels', 'Al-Aqsa Martyrs Brigade', \"Odua Peoples' Congress (OPC)\", 'Islamic Front for the Liberation of Bahrain', 'Taxi Drivers', 'Unification Army Sons Brigade', 'Coordination Committee (CORCOM)', 'Jamaat Tauhid Wal Jihad (Pakistan)', 'Anti-Gun Control extremists', 'Al-Adl Wal Ihsane', \"Asa'ib Ahl al-Haqq\", 'Al-Hamas Mujahideen', 'Afar Revolutionary Democratic Unity Front', 'Iraqi Sunni Extremists', 'Muslim United Liberation Tigers of Assam (MULTA)', 'Ranbir Sena', 'Left-wing extremists', 'Irish Republican Army (IRA)', 'Albanian National Army (ANA)', 'Eastern Turkistan Islamic Movement (ETIM)', 'Revolutionary Front', 'Massive escape', 'Ombatse Cult', 'Salafi Daawa Group', 'Popular Resistance (Laiki Antistasi)', 'Kachin Independence Army (KIA)', 'Convention of Liberal Reformers (CLR)', 'Last Generation', 'Salafi Abu-Bakr al-Siddiq Army', 'Islamic Front', 'Jharkhand Janmukti Parishad (JJP)', 'Self Defense Forces', 'Popular Resistance Committees', 'Karbi Tribe', 'Zuwar al-Imam Rida', 'Tutsi extremists', 'Sudan Liberation Movement', 'Karen National Union', 'Right-Wing Group', 'Ummah Liberation Army', 'Islamic Swords of Justice in the Land of Ribat', 'Al-Shuda Brigade', \"Sudan People's Liberation Movement - North\", \"United People's Democratic Front (UPDF) - Bangladesh\", 'Communist Party of India- Marxist', 'Rahanwein Resistance Army (RRA)', 'Muslim Militants', 'South Londonderry Volunteers (SLV)', 'Fight Against Authority', \"The Nation's Army\", 'Kara clan', 'Balakhani Group', 'Grupo de Combatientes Populares', 'Paramilitaries', \"United Front for Nigeria's Liberation (UFNL)\", 'Islamic Jihad Organization (Yemen)', 'National Anti-Corruption Front (FNA)', 'Bharatiya Janata Party', 'Republican Action Against Drugs (RAAD)', \"Umbane People's Liberation Army (Swaziland)\", 'Sudan Revolutionary Front (SRF)', 'Bru National Liberation Front (BNLF)', 'Group of Popular Fighters', 'Borana bandits', 'Lashkar-e-Jhangvi', 'Veterans United for Non-Religious Memorials', 'Al Zawahiri Loyalists', 'Karbi Longri National Liberation Front (KLNLF)', 'Unarmed Algerian', 'Abu Nidal Organization (ANO)', 'Jamaah Ansharut Tauhid (JAT)', 'Army of the Republic of Ilirida', 'Future movement (Lebanon)', 'Anti-Independence extremists', 'All Kamatapur Liberation Force', 'Front for the Liberation of the Enclave of Cabinda (FLEC)', 'Powers of the Revolutionary Arc', \"People's Alliance\", 'Rival peasant band', 'Kidnapping gang', 'Movement for Democracy and Justice in Chad (MDJT)', 'Communist Party of Nepal-Maoist (Baidya)', 'U/I Liberians', 'Hizbul Mujahideen (HM)', 'Tawheedul Islam', 'Ansar Bayt al-Maqdis (Ansar Jerusalem)', 'Irianese Tribesmen', 'Achik National Volunteer Council-B (ANVC-B)', 'Parbatya Chattagram Jana Sanghati Samity (PCJSS) - Bangladesh', 'Children of November', 'Ansarullah Bangla Team', 'Al-Fatah', \"Al-Shabaab al-Mu'minin\", 'Tehrik-e-Tuhafaz (Pakistan)', 'Cambodian Freedom Fighters (CFF)', 'Otpor', 'Cuban Exiles', 'Eritrean Salvation Front (ESF)', 'Uighur Liberation Organization', 'Tribal Separatists', 'Armata di Liberazione Naziunale (ALN)', 'Animal Rights Militia', 'Brigade of al-Mukhtar al-Thaqafi', \"People's Protection Units (YPG)\", 'Continuity Irish Republican Army (CIRA)', 'Lebanese male', 'Mahdaviyat', 'Congolese Rally for Democracy (RCD)', 'Abida Tribe', 'Right-Wing Militants', 'United Liberation Front of Assam (ULFA)', 'Revolutionary Struggle', 'Khmer Rouge', 'Black Star', 'Former Soldiers/Police', 'Ogaden National Liberation Front (ONLF)', 'Tajik Rebels', 'Sipah-I-Mohammed', 'Tribesmen Murad Tribe', 'Insurgents', 'Terai Army', 'Basque Separatists', 'The Northern Alliance (or United Islamic Front for Salvation of Afghanistan - UIFSA)', \"Paraguayan People's Army (EPP)\", 'Union of Revolutionary Communists in Turkey (TIKB)', 'Jund al-Sham for Tawhid and Jihad', 'Animal Rights extremists', 'Minutemen American Defense', 'Aba Cheali Group', 'National Union for the Total Independence of Angola (UNITA)', 'Bini-Oru', 'Janatantrik Terai Madhesh Mukti Morcha (JTMMM)', 'Loyalist Volunteer Forces (LVF)', 'Mullah Dadullah Front', 'Supporters of Johnny Adair', 'Mahdi Army', 'Zapatista National Liberation Army', 'Hizb-I-Islami', 'Angry Brigade', 'Moro Ghuraba', 'Proletarian Nuclei for Communism', 'Grozny Jamaat', 'Afrikaner Resistance Movement (AWB)', \"Lord's Resistance Army (LRA)\", 'Nobles of Jordan', 'Jamaat-E-Islami (India/Pakistan)', 'Al-Ittihaad al-Islami (AIAI)', 'Rival Afghan Group', 'Villagers', 'First of October Antifascist Resistance Group (GRAPO)', 'Armata Corsa', 'Skinheads', 'Liwa al-Haqq', 'Forces for the Unification of the Central African Republic (FIRCA)', 'Sindhudesh Revolutionary Army (SRA)', 'National Alliance (Chad)', 'Congolese Democratic Coalition', 'Muslim Separatists', 'Alex Boncayao Brigade (ABB)', 'Black Widows', 'Friends of Loukanikos', \"Landless Peasants' Movement (MST)\", 'Kamal Boulander Group', 'Ansar al-Sharia (Libya)', 'Black and Red Anarchist and Anti-Authoritarians Initiative (Greece)', 'Bodo Liberation Tigers (BLT)', 'Armed Group for the Defence of the People', 'Tamil Nadu Liberation Army', \"Comite d'Action Viticole\", 'South Sudan Democratic Army', 'Israeli settlers', 'Party Unity', 'Harkatul Jihad-e-Islami', 'Bengali Tiger Force (BTF)', 'Liberation Tigers of Tamil Eelam (LTTE)', 'Jamaat-E-Islami (Bangladesh)', 'Mazdoor Kisan Sangram Samiti (MKSS)', 'Nepal Defense Army', 'Tritiya Prastuti Committee (TPC)', 'Kurdish Democratic Party-Iraq (KDP)', 'Babbar Khalsa International (BKI)', 'Ansarul Islam (Pakistan)', 'Extremists', 'Kashmir Freedom Force', \"Manipur Naga People's Army (MNPA)\", 'Jaljala Army', 'Hassan Mabkhut Group', 'White Wolves (UK)', 'Islamic Tendency', 'Kisii Activists', \"National People's Movement Coordination Committee\", 'Hindu extremists', 'Bedouin Movement (Sudan)', \"Ansaru (Jama'atu Ansarul Muslimina Fi Biladis Sudan)\", 'National Liberation Force of Bengalis (Bangali Janamukti Bahini)', 'February 14th Movement', 'Zimbabwe African Nationalist Union (ZANU)', 'Mujahedeen Shura Council in the Environs of Jerusalem', 'Terena Indians', 'Association of Mobil Spill Affected Communities (AMSAC)', 'Bandits', 'International Solidarity', 'Extortionists', 'Karbi National Volunteers (KNV)', 'Maoists', 'Autonomous Decorators', 'Anarchist Liberation Brigade', 'Bangsamoro Islamic Freedom Movement (BIFM)', 'United Jihad Council', 'Deccan Mujahideen', 'Abkhazian Separatists', 'Popular Revolutionary Action', 'Anbar Salvation Council', 'Al-Qaida', 'Nationalist Integrationist Front (FNI)', 'Groups for Dissemination of Revolutionary Theory and Action', 'Jatav Caste', 'Zintani Militia', 'National Front Against Tigers (NFAT)', 'Movement for the Actualization of the Sovereign State of Biafra (MASSOB)', 'Madhesi Virus Killers', 'Adivasi Cobra Militants of Assam (ACMA)', 'Musa Sudi Yalahow Militia', 'Palestinian Hezbollah', 'Rastas', \"National People's Party (Rashtriya Janata Dal - RJD)\", 'United Kuki Liberation Front (UKLF) - India', 'Naxalites', 'Sympathizers of Al-Qaida Organization', 'Mlada Bosna', 'Partido Marxista-Leninista ng Pilipinas (PMLP)', 'Gun runners', \"Farmer's Movement of the Philippines (KMP)\", 'Mariano Moreno National Liberation Commando', 'White Legion (Georgia)', 'Al-Nasirin (India)', 'Turkish Leftists', 'Revolutionary Proletarian Army', 'Youth Gang', 'Bodo Militants', 'Lendu extremists', 'Young Officer Union of the New Generation and Reformist Armed Forces of the Philippines (YOU-RAFP)', 'Anti-Apostate Movement Alliance (AGAP)', 'Tanzim', 'Badr Brigades', \"Cambodian People's Party (CPP)\", 'Maoist Communist Center (MCC)', 'Anti-Capitalist Action', 'Harkat ul Ansar', 'Nepalbad Party', 'South Ossetian Separatists', 'Besi Merah Putih Militia', 'Islamic Movement of Uzbekistan (IMU)', 'Diyala Salvation Council', '14 March Coalition', 'Baathist extremists', 'Red Line', 'Tibetan separatists', 'Isatabu Freedom Movement (IFM)', 'Union of Forces for Democracy and Development (UFDD)', 'Volunteers of Innocent People of Nagas (VIPN)', 'Jewish Defense League (JDL)', 'Al-Qaida in the Islamic Maghreb (AQIM)', 'Salafi Extremists', 'Hofstad Network', 'Afridi Tribe', 'Rebel Military Unit', 'Omar Bin Khattab Group', 'Jundallah (Pakistan)', 'Political Group', 'Rebellious Group Lambros Foundas', 'South Sudan Liberation Army (SSLA)', 'Kuki Tribal Militants', 'Epanastatiki Anatropi (Revolutionary Overthrow)', 'Al-Ummah', 'Mujahedeen Group', 'Sunni Supporters', 'Aibed Er-Rahman katibet', 'Neo-Fascists', 'Sanghiya Limbuwan Committee (SLC)', \"Al-Mua'qi'oon Biddam Brigade (Those who Sign with Blood)\", 'Supreme Council for Islamic Revolution in Iraq (SCIRI)', 'Rival clan', \"People's Revolutionary Army (ERP)\", \"Iraq's Jihadist Leagues\", 'GN-95', 'Kenya African National Union (KANU)', 'Pemuda Pancasila', 'Death Squad', 'Serbs', 'Anti-Government Guerrillas', 'Liberation and Justice Movement (LJM)', 'Sudanese Rebels', \"Defenders of the Nation's Sovereignty\", 'Muslim Rebels', 'Red Hand Defenders (RHD)', 'Sindhu Desh Liberation Army (SDLA)', 'Zeliangrong United Front', 'West Side Boys', 'Karen Insurgents', 'Boko Haram', 'Serb demonstrators', 'National Congress for the Defense of the People (CNDP)', 'Caucasus Emirate', 'Kaka-Tribesmen', 'Kangleipak Communist Party (KCP)', 'Guerrilla Command Force 97', 'Mujahidin Indonesia Timur (MIT)', 'Muslim Renewal', 'Last Alternative Guerrilla Front', \"Habi's Er'roub seriat\", 'Angry Brigade (Italy)', 'Terai Communist Party', 'Al-Haramayn Brigades', 'Abkhazian guerrillas', 'Revolutionary Leninist Brigades', 'Fanmi Lavalas', 'Merille Militia', 'Supporters of Laurent Nkunda', 'United Democratic Liberation Army (UDLA)', 'Kawal ng Pilipinas (Soldier of the Philippines)', 'National League for Democracy', 'Los Rastrojos (Colombia)', 'Telangana Separatists', 'Mob', 'Al-Masni Tribe', 'Madhesi Mukti Tigers (MMT)', 'Guatemalan National Revolutionary Unity (URNG)', 'Serbian extremists', 'Human Rights Renewal Movement (Renovacion por los Derechos Humanos)', 'Republic of Texas', 'Azawad National Liberation Movement (MNLA)', 'National Renewal Party', 'Rohingya Solidarity Organization', 'Swaziland Youth Congress (Swayoco)', 'Baloch Nationalists', 'Democratic Karen Buddhist Army (DKBA)', 'Aryan Nation', 'Civil Association for Peace in Colombia, Asocipaz', 'National Liberation Alliance of Sa Kaeo', 'Shiv Sena', 'Purbo Banglar Communist Party', 'Right-wing extremists', 'Maasai', 'Guatemalan hired assasins', 'Jund Al-Tawid', 'Mombasa Republican Council (MRC)', 'Incendiary Committee of Solidarity for Detainees', 'Unknown', 'Real Irish Republican Army (RIRA)', 'National United Front of Democracy Against Dictatorship (UDD)', 'Sect of Revolutionaries (Greece)', 'Narco-Terrorists', 'Students For Insurrection', 'Abdullah Azzam Brigades', 'Conscientious Arsonists (CA)', 'Democratic Revolutionary Party', 'Forbidden Blockade (Greece)', 'Friends of Freedom', 'Islamic Jihad Group (IJG)', 'Unsubordinated Desires', 'Revolutionary Front for an Independent East Timor (FRETILIN)', 'Revolutionary Cells-Animal Liberation Brigade', 'Janatantrik Terai Mukti Morcha- Rajan Mukti (JTMM-R)', 'Diraa al-Shahbaa Rebel Brigade', 'Revolutionary Armed Forces of Colombia (FARC)', 'Asbat al-Ansar', 'Anarchist Squad', \"People's Revolutionary Party of Kangleipak (PREPAK)\", 'Sandinista National Liberation Front (FSLN)', 'Mutahida Majlis-e-Amal', 'Terai Janatantrik Madhes Party', 'Arab Socialist Baath Party of Iraq', 'Al-Nusrah Front', 'Kilafah Islamic Movement', 'Angry Foxes Cell', 'Tribal guerrillas', 'East Turkistan Liberation Organization', 'Strikers', 'U/I Somali Militiamen', \"United People's Democratic Solidarity (UPDS)\", 'Loyalist Action Force', '1920 Revolution Brigades', 'Thai Islamic Militants', 'New Patriotic Party (NPP)', 'Tuareg extremists', 'United Baloch Army (UBA)', 'Bersatu', 'Terai Janatantrik Party', 'Movement for Oneness and Jihad in West Africa (MUJAO)', 'Maoist Communist Party of Manipur', 'Mayi Mayi', 'Chukakuha (Middle Core Faction)', \"Dagestani Shari'ah Jamaat\", 'National Socialist Council of Nagaland-Khaplang (NSCN-K)', 'Syrian Army deserters', 'Dynamic Youth Forum', 'Bhisan Himali Bag', 'Northern Diriangen Front (FND)', 'Zviadists', 'E. Timorese Youths', 'Erotic Anti-authority Cells', 'Sovereign Citizen', 'Makhachkala Gang', 'Supporters of Saddam Hussein', 'Comando Bautista B', 'Popular Liberation Army (EPL)', 'Environmentalists', 'CSS Movement', \"Federation of Students and Scholars of Cote d'Ivoire (FESCI)\", 'Anti-Government Group', 'Conspiracy of Cells of Fire', 'Khorasan jihadi group', 'Red Brigades Fighting Communist Union (BR-UCC)', 'Communist Party of India- Marxist-Leninist', 'Jammu and Kashmir Liberation Front', 'White extremists', 'Muslim United Army (MUA)', 'Revenge Brigade', 'Terai Rastriya Mukti Sena (TRMS)', 'Syrian Social Nationalist Party', 'Chechen Lone Wolf Group', 'Amal', 'Muslim extremists', 'Niger Delta Liberation Force (NDLF)-Nigeria', 'Free Syrian Army', 'U/I Liberian Gunmen', 'Sardinian Autonomy Movement', 'Vishwa Hindu Parishad (VHP)', 'Haika', 'Islamic State of Iraq and the Levant (ISIL)', 'Cambodian Gunmen', 'Army of God', 'Jordanian Islamic Resistance', 'Resistenza', 'Popular Movement for the Liberation of Angola', 'Robin Food', 'Union of Congolese Patriots (UPC)', 'Earth Liberation Front (ELF)', 'Ethiopians', 'Kosovo Liberation Army (KLA)', 'Fundamentalists', 'Gholam Yahya Akbar', 'Supporters of Muhammad Umar Habib', 'Mapuche Ancestral Resistance (RAM)', \"Islamic Defenders' Front (FPI)\", 'Civic United Front (CUF)', 'Recontras', 'Islamic Army in Iraq (al-Jaish al-Islami fi al-Iraq)', 'Balochistan National Army', 'Rodolfo Walsh National Command', 'First Capital Command (PCC)', 'Muslim Guerrillas', 'Popular Revolutionary Army (Mexico)', 'Anarchist Struggle', 'Etnocacerista Movement', 'Movement for the Emancipation of the Niger Delta (MEND)', 'Rizvon Sadirov Group', \"Sudan People's Liberation Army (SPLA)\", 'Afghans', 'Comando Malvinas Argentinas', 'Ninjas', 'Armed Revolutionary Action (ENEDRA)', 'Group of Carlo Giuliani', 'Anti-Balaka Militia', 'Arsonists for Social Cohesion', 'Ansar Sarallah', 'Anti-Bhutto demonstrators', 'Khasi Students Union', 'United Achik Liberation Army (UALA)', 'Ahrar al-Sham', 'Tehrik al-Mojahedin', 'Liberals of Galilee', 'Colonel Albert Kahasha Militia', \"Kata'ib al-Khoul\", 'Vanguards of the Caliphate', 'Bunda Dia Kongo (BDK)', 'Illuminating Paths of Solidarity', 'Al-Sunna wal Jamma', 'Swatantra Nepal Dal', 'Abu Sayyaf Group (ASG)', 'English Defense League (EDL)', 'Colombian Guerrillas', 'Muttahida Qami Movement (MQM)', 'Free Papua Movement (OPM-Organisasi Papua Merdeka)', 'Pentagon Kidnap Group', 'All India Anna Dravida Munetra Kazgan Party', 'Anti-Racist Guerrilla Nuclei', 'Janatantrik Terai Mukti Morcha- Bisphot Singh (JTMM-B)', 'United Janatantrik Terai Mukti Morcha (U-JTMM)', \"People's United Democratic Movement (PUDEMO)\", 'Holders of the Black Banners', 'Chechen Rebels', 'Organization 544', 'Great Eastern Islamic Raiders Front (IBDA-C)', 'September 11', 'Mongolian Mukti Morcha', 'Deniers of Holidays', 'CCCCC', 'Grey Wolves', 'National Youth Service of Zimbabwe', 'Animal Liberation Front (ALF)', 'Civilian Defense', 'Anarchists', 'Forum for the Restoration of Democracy-Kenya', 'Jaish al-Muhajireen wal-Ansar (Muhajireen Army)', 'Commander Luciano Varela Antiguerrilla Group', 'The Front for the Liberation of the Cabinda Enclave - Renewed (FLEC)', 'The Jean Marc Rouillan Armed and Heartless Columns', 'Matan Abdulle', 'Moro National Liberation Front (MNLF)', 'Free Vietnam Movement', 'Arsonists', 'Anarchists Attack Team', 'Free Aceh Movement (GAM)', 'Samyukta Jatiya Mukti Morcha (SJMM)', 'Banyamulenge rebels', 'Athens and Thessaloniki Arsonist Nuclei', 'Armed Forces of the Chechen Republic of Ichkeria', 'Biswabhumi Sena Bishal Nepal', 'Partisan Sharpshooters', 'Hutus Former Soldiers', 'Aniban ng Ayaw sa Komunista (ANAK)\\xa0', 'National Committee for the Restoration of Democracy and State (CNRDR)', 'Al-Toaiman Tribesmen', 'Tawhid and Jihad', 'The Extraditables', 'National Organization of Cypriot Fighters (EOKA)', 'Corsican Separatists', 'Tamil Makkal Viduthalai Pulikal (TMVP)', 'David Yau Yau Militia', 'Islamic Movement of Martyrs', 'Shahid Khalsa Force', \"Al-Gama'at al-Islamiyya (IG)\", 'Ejercito Revolucionario Guevarista (Guevarist Revolutionary Army)', 'Jamiat ul-Mujahedin (JuM)', 'National Liberation Army (NLA) (Macedonia)', \"Hmar People's Convention-Democracy (HPC-D)\", 'Boere Aanvals Troepe (BAT)', 'Croatians', 'United National Party', 'Resistance Cell', 'Chakma tribal group', 'Scottish National Liberation Army', 'SKIF Detachment', 'Qaddafi loyalists', 'Jemaah Islamiya (JI)', 'Harakat ul-Mujahidin Al-Almi', 'National United Front for an Independent, Neutral, Peaceful, and Cooperative Cambodia (FUNCINPEC)', 'Turkish Communist Party/Marxist (TKP-ML)', 'Revolutionary Perspective', 'Aitarak Militia', 'Al-Qaida Organization for Jihad in Sweden', 'Che Guevara Guerrillas', 'Riyadus-Salikhin Reconnaissance and Sabotage Battalion of Chechen Martyrs', 'Tribal Group', 'Militants', 'West Nile Bank Front (WNBF)', 'Protesters', 'Tupac Amaru Revolutionary Movement (MRTA)', 'Israeli extremists', 'Rastriya Janashakti Party (RJP)', 'Shinwari Tribe', 'Madhesh Mukti Sangram (MMS)', 'May 15', 'All Tripura Tiger Force (ATTF)', 'Akhil Terai Mukti Morcha (ATMM)', 'Ujjan Tribe', 'Bedouin tribesmen', 'Supporters of ret. Gen. Lino Oviedo', 'Armenian nationalists', 'Mouhajiroune Brigade', 'Shan United Revolutionary Army', 'Local Extremist', \"People's Revolutionary Organization\", 'Democratic Movement for the Liberation of the Eritrean Kunamas (DMLEK)', 'Pahadi Cheetah', 'Balochistan Liberation United Front (BLUF)', 'Harakat ul-Mujahidin (HuM)', 'Peasant Self-Defense Group (ACCU)', 'Turkish radicals', 'Tigers', 'Sindh Liberation Front', 'Gulf Cartel', 'Modakeke Ethnic Activists', 'Chin National Army', 'Jundallah (Iran)', 'Shanti Bahini - Peace Force', 'Activists', 'Palestinians', 'Islamic State of Iraq (ISI)', \"God's Army\", 'Yimchunger Liberation Front (YLF)', 'Algerian Moslem Fundamentalists', 'Aisha Umm-al Mouemeneen (Brigades of Aisha)', 'Four Martyrs Brigade', 'Croat Democratic Union', 'Adan Abyan Islamic Army (AAIA)', \"Kata'ib Hezbollah\", 'Al-Yemenia al-Ulia Tribesmen', 'Mujahedeen Army', 'Haqqani Network', 'Kuki National Liberation Front (KNLF)', \"New People's Army (NPA)\", 'Mujahideen Youth Movement (MYM)', 'Militant Organization of Russian Nationalists', 'Angola Rebels', \"People's Tamil Organization\", 'Ansar al-Din', 'Manuel Rodriguez Patriotic Front (FPMR)', 'Mujahideen Islam Pattani', 'Armed Vanguards of a Second Mohammed Army', 'Islamic Unification Movement', 'Ansar al-Sunna', 'Rashtriya Swayamsevak Sangh', 'Initiative de Resistance Internationaliste', 'Muslims Against Global Oppression (MAGO)', 'Islamist extremists', 'Fighters of Democratic Latvia', \"Kurdistan Workers' Party (PKK)\", 'United Liberation Front of Barak Valley (ULFBV) - India', 'Niger Delta Vigilante (NDV)', 'Baloch National Liberation Front', 'Communists', 'Taliban', 'Right-Wing Death Squad', 'Ramzi Nahra Martyr Organization', 'National Council of Maubere Resistance', 'Al-Mujahedin Brigades (Palestine)', 'Jaish al-Muslimin (Army of the Muslims)', 'Southern Mobility Movement (Yemen)', 'Jenin Martyrs Brigades', 'Anti-Gentrification Front', 'Palestinian Islamic Jihad (PIJ)', 'Red Flag (Venezuela)', 'Anti-Semitic extremists', 'Salafist Group for Preaching and Fighting (GSPC)', 'All Karanataka Youth Council', 'Dissident Republicans', 'Popular Front of India', 'Armed Revolutionary Left (IRA)', \"Al-Ahwaz Arab People's Democratic Front\", 'Islamic Companies', 'Labor Union Leaders', 'United National Liberation Front (UNLF)', 'Hamas (Islamic Resistance Movement)', 'U/I Snipers', 'Fuerzas Autonómicas y Destructivas León Czolgoscz', 'Jaime Bateman Cayon Group (JBC)', 'Ingush Rebels', 'Iconoclasts', 'Saif-ul-Muslimeen', 'Koreans', 'Pro-Indonesia extremists', 'Iparretarrak (IK)', 'National Socialist Council of Nagaland', 'Oglaigh na hEireann', '313 Brigade (Syria)', 'Seleka', 'East Timorese extremists', 'Lashkar-e-Islam (Pakistan)', 'Corsican National Liberation Front (FLNC)', 'Jewish Extremists', 'Christian extremists', 'Liberation War Veterans Association', 'National Development Party (NDP)', 'Likud Political Party', 'Militant Minority (Greece)', 'Gunmen', 'Fighting For Freedom Coalition (FFFC-Ottawa)', 'Sagrado Corazon Fanatic Group', 'Supporters of Johnny Paul Koroma', 'Majerten clansmen', 'Muslims', 'Anti-Environmentalists', 'Democratic Front for the Liberation of Rwanda (FDLR)', 'Movement for Democratic Change (MDC)', 'Fatah al-Islam', 'Individuals Tending Toward Savagery', 'Sunni Muslim extremists', 'Misseriya Arab Tribesmen', 'Pokot extremists', 'Hezbollah', 'Party for the Liberation of the Hutu People (PALIPEHUTU)', 'Itsekiri', 'Ansar al-Tahwid wal Sunna', 'Elos security firm', 'Patriotic Resistance Front in Ituri (FRPI)', 'Tehrik-i-Taliban Pakistan (TTP)', 'Supreme Command for Jihad and Liberation', 'Convention of Patriots for Justice and Peace', 'Al-Shabaab', 'Left-Wing Terrorists', 'Al-Bakazim', \"Communist Party of Nepal (People's War Group)\", 'Miscreants', 'Caspian Group', 'Students Islamic Movement of India (SIMI)', 'Georgian extremists', 'Janatantrik Terai Mukti Morcha- Prithvi Singh (JTMM-P)', 'Pattali Makkal Katchi (PMK)', 'Al-Umar Mujahideen', 'Kamtapur Liberation Organization (KLO)', 'Moroccan extremists', 'Amazigh Islamic Front', 'Somali Islamic Front', 'Harakat Ansar Iran (HAI)', 'National Freedom Party', 'Al-Qaida in the Indian Subcontinent', 'Baloch Liberation Army (BLA)', 'Baloch Mussalah Diffah Tanzim (BMDT)', 'Hizb al-Tahrir al-Islami (HT)', 'Laskar Jihad', 'Islamic Movement for Change', 'Bengali Sangram Mukti Bahini', 'Awami League', \"Adivasi People's Army (APA)\", 'M23', 'Khalistan Liberation Force', 'Supporters of Colonel Mahmud Khudoyberdiyev', 'French Armed Islamic Front', 'Resistenza Corsa', 'Janatantrik Terai Madhes Mukti Party- Bhagat Singh (JTMMP)', 'Tamils', 'Anarkista Jorge Banos Front of the Everyone For The Homeland Movement (MTP)', 'Al-Naqshabandiya Army', 'Uighur Separatists', 'Runda Kumpulan Kecil (RKK)', 'Red Sea Afar Democratic Organization (RSADO)', 'Squadrons of Terror (Katibat El Ahoual)', 'Juarez Cartel (Carrillo-Fuentes / Mexico)', 'Arabs', 'Saharan Revolutionary Armed Front (FARS)', 'Young Liberators of Pattani', 'Gangs of Conscience', 'Delta Democratic Militia', 'Ansar al-Jihad', 'Rally of Democratic Forces (RAFD)', 'Death to Rustlers', 'Kashmiri extremists', 'Vietnamese', 'Basque extremists', 'Guadalcanal Liberation Front (GLF)', 'National Socialist Council of Nagaland-Isak-Muivah (NSCN-IM)', 'Yarmouk Martyrs Brigade', 'New Revolutionary Popular Struggle (NELA)', 'Alexandros Grigoropoulos Anarchist Attack Group', \"Karbi People's Liberation Tigers (KPLT)\", 'Separatists', 'Ku Klux Klan', 'Real Ulster Freedom Fighters (UFF) - Northern Ireland', \"Al-Ma'unah\", 'Colonel Karuna Faction', \"Citizen's Rights Protection Volunteers\", 'Lashkar-e-Balochistan', 'Force Etudiante Critique', 'Zwai Tribe', 'Sudan Liberation Army-Minni Minawi (SLA-MM)', 'National Front for the Revolution in Burundi (FRONABU-Tabara)', 'Supporters of Ali Abdullah Saleh', 'Lufa Tribesmen', 'Anti-Democratic Struggle', 'National Liberation Army (Nepal)', 'Joint Meeting Parties (JMP)', 'Brigades of Imprisoned Sheikh Omar Abdel-Rahman', 'Timorese guerrillas', 'November 17 Revolutionary Organization (N17RO)', 'Mahan Madhesh Janakantri Party (MMJP)- Nepal', 'Jihad Islamic League Front', \"Didier Ratsiraka's Militia\", 'Baloch Militant Defense Army', 'Lashkar-e-Taiba (LeT)', 'Guerrillas', 'Filipino Soldiers for the Country', 'Armed Forces Revolutionary Council (AFRC)', 'Jaish-e-Mohammad (JeM)', 'Mungiki Sect', 'Armenian Secret Army for the Liberation of Armenia', 'Democratic Front for the Liberation of Palestine (DFLP)', 'Janjaweed', 'Opposition Militants', 'Black Mambas', 'Ulster Freedom Fighters (UFF)', 'Youths', 'Al-Nasireen Group', 'Communist Party of India - Maoist (CPI-Maoist)', \"Niger Delta People's Volunteer Force (NDPVF)\", 'Islamic Courts Union (ICU)', 'Brigades of Iman Hassan-al-Basri', 'Solidarity with imprisoned members of Action Directe (AD)', 'Popular Army for the Restoration of Democracy (APRD)', 'Gono Bahini (GB)', 'Revolutionary Insurgent Armed Forces of Ecuador (FAIRE)', 'Revolutionary Headquarters (Turkey)', 'Tawhid and Jihad (Palestine)', 'Freedom Eagles of Africa', 'Al-Ashtar Brigades', 'Corsican Nationalists', 'Catholic Reaction Force', 'Farmers', \"People's Liberation Army (India)\", 'Revolutionary Combat Brigades', 'Front for Peace and Reconciliation (FRP)', 'Algerian Islamic Extremists', 'Janatantrik Terai Mukti Morcha (JTMM)', 'Mapuche activists', \"Bodo People's Front (BPF)\", 'Al-Fatihin Army (AFA)', 'Supporters of General Lino Oviedo', 'Popular Front for Recovery (FPR)', 'Saudi Hezbollah', 'Bin Zabyan Tribesmen', 'Kanglei Yawol Kanna Lup (KYKL)', 'Revolutionary Continuity', 'Revolutionary Violence Units', 'Communist Party of Nepal- Maoist (CPN-M)', 'Jagrata Towhidi Janata (Rising Faithfuls)', 'Mujahedin Kompak', 'Revolutionary Proletarian Initiative Nuclei (NIPR)', 'Al-Arifeen', 'Loyalists', 'Coca Farmers', 'Hezbollah Palestine', 'Munadil al-Jumalyi Brigade', 'Jaish al-Mukhtar', 'Fighting Guerrilla Formation', 'Forest Brothers', 'Arauco Malleco Coordinating Group (CAM) - Chile', 'Terai Cobra', 'Ijaw extremists', 'Supporters of Muse Sudi Yalahow', 'Al-Qaida Network for Southwestern Khulna Division', 'Jacinto Araujo Internationalist Rebel Insurrectionist Brigade', 'Al-Fajr', 'Jaish al-Adl', 'Mujahideen Ansar', 'Tuareg Guerrillas', 'Ahlu-sunah Wal-jamea (Somalia)', 'Black Hawks (Anti-Wahhabists)', 'Comando Autónomo Voltaire Argandoña', 'Militant Peasants (NFI)', 'Kurdish Rebels', 'Army of State Liberators', 'Friendly Company', 'Soldiers of the Caliphate', 'Basque Fatherland and Freedom (ETA)', \"Militant People's Revolutionary Forces\", \"Revolutionary Workers' Council (Kakurokyo)\", 'Democratic Front for Renewal (FDR)', 'Revolutionary Military Council', \"People's Sovereignty Party (PDR)\", 'Revolutionary Liberation Action (Epanastatiki Apelevtherotiki Drasi) - Greece', 'Porattom', 'Al-Herak Al-Tihami Movement', 'Indian Tigers', 'United Self Defense Units of Colombia (AUC)', 'Guadalcanal Liberation Army', 'Conqueror Army', 'Jaish Al-Umma (Army of the Nation)', 'Al-Intiqami al-Pakistani', 'Turkish Hezbollah', 'Jadid Al-Qaida Bangladesh (JAQB)', 'Zionist Resistance Fighters', 'Bangladesh Nationalist Party (BNP)', 'National Council for Defense of Democracy (NCDD)', 'Allied Democratic Forces (ADF)', 'United Bengali Liberation Front (UBLF)', 'Iraqi Islamic Vanguards for National Salvation (IIVNS)', \"Ed'daoua Es'salafia Lilqadha\", 'Dayak gang', 'Gilad Shalhevet Brigades', 'The Black Sun', 'Democratic Iraqi Opposition of Germany', 'National Liberation Front of Provence (FLNP)', 'Pattani United Liberation Organization-MKP (PULO-MKP)', 'Republican Anticlerical Group', 'Phineas Priesthood', 'May 98', 'Bangsamoro National Liberation Army', 'The Islamic Revolution to Liberate Palestine', \"People's Revolutionary Party of Kangleipak-Progressive (PREPAK-P)\", 'Kurdish Separatists', 'Retired Soldier', \"People's Democratic Party (PDP)\", 'Fulani extremists', 'Southern Yemen Separatists', 'Anti-Christian extremists', 'Albanian extremists', 'Viviana Gallardo Command', 'Baloch Liberation Front (BLF)', 'Andres Castro United Front', 'White Legion (Ecuador)', \"Pakistani People's Party (PPP)\", 'Kuki National Front (KNF)', 'Informal Anarchist Federation', 'Civilian Joint Task Force (JTF)', 'Irish Republican Extremists', 'National Liberation Front (FNL) (Burundi)', 'Paramilitary members', 'Hill Tiger Force (HTF)', 'Proletariat Self-defense Groups', 'Raul Ernesto Cruz Leon, Salvadorian', 'The New Irish Republican Army', 'Hanchongryun', 'Serb Radical Party', 'Islamic Fateh', \"People's Militia of Dagestan\", 'Liwa al-Islam', 'Popular Resistance Brigade', 'Anonymous Underground Movement (MCA)', 'Face to Face (Face-a-Face)', 'Army of Islam', 'Sudurpaschim Janata Dal', 'Jarrai', 'Syrian Mujahideen', 'United Front for Democratic Change (FUC)', 'Anarchist Faction', 'Wild Freedom', 'Egbema National Front', 'Anti-Imperialist Territorial Nuclei (NTA)', \"Indigenous People's Federal Army (IPFA)\", 'Vigorous Burmese Student Warriors', 'Special Purpose Islamic Regiment (SPIR)', 'Save Kashmir Movement', 'Orange Volunteers (OV)', 'NVF', 'Janatantrik Terai Mukti Morcha- Ranbir Singh (JTMM-RS)', 'Liwa al-Sham', \"People's Revolutionary Militias (MRP)\", 'Zomi Revolutionary Army (ZRA)', 'Mahsud Tribe', 'Imam Hussein Brigade', 'Ansar al-Sharia (Tunisia)', 'Al-Badr', 'Vanguard of Red Youth (AKM)', \"Arab People's Group\", 'Union Parishad', 'Himali Tigers', 'Popular Front for Justice in the Congo', 'Africa Marine Commando', 'Ethiopian Dongiro tribesmen', 'El-Feth katibat', 'Anti-Police extremists', 'National Army for the Liberation of Uganda (NALU)', 'Al-Qaida in Iraq', 'Sungu Sungu', 'Anti-Nuclear Society for a Silent Counter-Offensive (ANGST)', 'Anti-State Action', 'Zetas', 'Habr Gedir Clan', 'Chinese Illegal Immigrant', 'Junaid Jihadist Battalion', 'Mukhtar Army', 'Popular Army Vanguards- Battalions of Return', 'Achik National Volunteer Council (ANVC)', 'Anti-Clerical Pro-Sex Toys Group', 'Civil Servants and Unionists', 'Marhan Clan', 'Cannibal Army', 'Justice Army for Defenseless Peoples', 'Students', 'Al-Nawaz', 'Yemenis', 'Jammu and Kashmir Islamic Front', 'Jaish Usama', 'Sayfullakh', 'Palestinian Extremists', 'Karenni National Progressive Party', 'Bhumi Uchched Pratirodh Committee (BUPC)', 'Islamic Party (Somalia)', 'Timorese Students', 'New Revolutionary Alternative (NRA)', 'Akhilesh Singh Gang', 'Red Brigades Fighting Communist Party (BR-PCC)', 'Pakistan Muslim League (PML)', 'Al-Mansoorian', 'Sanatan Sanstha', 'Civil Defense Force (CDF)', \"The Husayn Ubayyat Martyrs' Brigades\", 'Anonima Sequestri', 'Breton Liberation Front (FLB)', 'Ansar Al Sunnah (Palestine)', 'Protestant extremists', 'Movement of Democratic Forces of Casamance', 'Mozambique National Resistance Movement (MNR)', 'Shan State Army - South (SSA-S)', \"Free Democratic People's Government of Laos\", 'Revolutionary Cells (Argentina)', 'Mahaz Fedai Tahrik Islami Afghanistan', 'Moro Islamic Liberation Front (MILF)', 'Dissident Republican Guard', 'Danish Neo-Nazi Group', 'Mateo Morral Insurrectionist Commandos', 'Social Christian Party (PSC)', '23 May Democratic Alliance (Algeria)', 'Ansar al-Islam', 'Bani Hilal Tribe', 'Naga National Council (NNC)', 'Tharuhat Joint Struggle Committee (TJSC)', 'Avengers of the Infants', 'Liberians United for Reconciliation and Democracy (LURD)', 'Al-Qaida in Saudi Arabia', 'Catholic E. Timurese', 'Dev Sol', 'Kamajor Hunters', 'Jamaica Labor Party', 'Muslim Fundamentalists', 'Fedayeen Imam Mahdi', 'Organization of Soldiers of the Levant', 'Kurdistan Free Life Party', 'Shining Path (SL)', 'Core Conspirators for the Extension of Chaos (Núcleo de Conspiradores por la Extensión de Kaos)', 'Mujahedin-e Khalq (MEK)', 'LW', 'Egyptian Tawhid and Jihad', 'Anti-Israeli extremists', 'Al-Qaida in Yemen', 'Supporters of Sultan Abd-al-Bagi', 'Communist Party of Nepal- Unified Marxist-Leninist (CPN-UML)', 'Bahujan Samaj Party', 'Simon Bolivar Guerrilla Coordinating Board (CGSB)', 'Janatantrik Terai Mukti Morcha- Goit (JTMM-G)', 'Hekla Reception Committee-Initiative for More Social Eruptions', 'Kuki Liberation Army (KLA)', 'Inkatha Freedom Party (IFP)', 'Miners', 'Uganda Federal Democratic Alliance (UFEDA)', 'Revolutionary United Front (RUF)', 'Al-Furqan Brigades', 'Punjabi Taliban', 'Militia Members', 'Anti-Kim Jong-il extremists', 'World Church of the Creator', 'Irish National Liberation Army (INLA)', 'All Nepal National Free Student Union-Revolutionary', 'Bhittani tribe', 'National Patriotic Front of Liberia (NPFL)', 'Niger Delta Freedom Fighters (NDDF)', 'Baloch Liberation Tigers (BLT)', 'Detonators of Social Uprisings', 'Okba Ibn Nafaa Brigade', 'Lashkar-e-Omar', 'Mujahedeen Shura Council', 'Ansaru ash-Sharia (Russia)', 'Shield of Islam Brigade', 'Draa El Mizan Seriat', 'Progressive Socialist Party (PSP)', 'Shia Muslim extremists', 'Karamojong Warriors', 'Islami Jamiat-e-Talaba (IJT)', 'Zemun Clan', 'International Revolutionary Front', 'Forces for the Defense of Democracy (FDD)', 'Islamic Movement of Kashmir', 'Rabid Brothers of Giuliani', 'Baloch Republican Army (BRA)', 'Colombian Patriotic Resistance', 'Dima Halao Daoga (DHD)', 'Anti-Communist Command (KAK)', 'Urban Guerrilla War', 'Union of Democratic Forces', \"All Burma Students' Democratic Front (ABSDF)\", 'The Organization for the Return of Legality', 'Ansar al-Dine (Mali)', 'Fuerzas Armadas Revolucionarias del Pueblo (FARP)', 'Zehri Youth Force (ZYF)', 'Anti-Abortion extremists', 'Pataxo Indians', 'Jumuiya ya Taasisi za Kiislam (Community of Muslim Organizations)', 'National Liberation Army (Ecuador)', \"People's Liberation Front of India\", 'Anti-Government extremists', 'Rival caste', 'Jund al-Sahabah Group', 'Liberation Army for Presevo, Medvedja and Bujanovac (UCPMB)', \"People's United Liberation Front (PULF)\", 'Ahrar Al-Jalil (Free People of the Galilee)', 'The Inevitables', \"People's Democratic Struggle Movement\", 'Anti-Liberal extremists', 'Khalid ibn Walid Brigade', 'Maori', 'Bharat Zinc Workers', 'Al-Madina', 'Dissident', 'Militant Forces Against Huntingdon', 'Iraqi extremists', 'Revolutionary Nuclei', 'Clandestini Corsi', 'Janatantrik Terai Mukti Morcha- Jwala Singh (JTMM-J)', 'Jihadi Movement of the Sunna People of Iran', 'Sisters in Arms', \"People's Committee against Police Atrocities (PCPA)\", 'Demonstrators', 'Hushaysh Tribal Members', 'National Socialist Underground', 'Buddhist Monks', 'Ariska Brodraskapet (Aryan Brotherhood)', 'Umar al-Mukhtar Martyr Forces', 'Hizbul al Islam (Somalia)', 'Turkish Revenge Brigade', 'Karnataka State Farmers Association', 'The Joint Revolutionary Council', \"Jama'atul Mujahideen Bangladesh (JMB)\", 'Al-Qaida in the Arabian Peninsula (AQAP)', 'National Democratic Alliance Army (NDAA-ESSA)', 'Tela Mohammed', 'African National Congress (South Africa)', 'Karbi Longri North Cachar Liberation Front (KLNLF)', 'Salafia Jihadia', 'Sabaot Land Defense Force (SLDF)', 'Mai Mai Simba Militia', 'Muslim Brotherhood', 'Libya Revolutionaries Operations Room (LROR)', 'Indian Mujahideen', 'Guaycaipuro Indians', 'Rival Activists', 'Samyukta Terai Madhes Mukti Party', 'Secessionists', 'Tribesmen, al-Itada', 'Bougainville Revolutionary Army (BRA)', '28s', 'Bangladesh Sarbahara Party', 'Al-Zaidi Tribe - Mareb', 'Arbav Martyrs of Khuzestan', 'Ticuna Indian', 'Young Communist League'}\n"
     ]
    }
   ],
   "source": [
    "print(set_df)"
   ]
  },
  {
   "cell_type": "code",
   "execution_count": 8,
   "metadata": {},
   "outputs": [
    {
     "name": "stdout",
     "output_type": "stream",
     "text": [
      "1335\n"
     ]
    }
   ],
   "source": [
    "print(len(set_df))"
   ]
  },
  {
   "cell_type": "code",
   "execution_count": 9,
   "metadata": {},
   "outputs": [
    {
     "name": "stdout",
     "output_type": "stream",
     "text": [
      "1335\n"
     ]
    }
   ],
   "source": [
    "op = []\n",
    "op = list(set_df)\n",
    "print(len(op))"
   ]
  },
  {
   "cell_type": "code",
   "execution_count": 10,
   "metadata": {},
   "outputs": [
    {
     "name": "stdout",
     "output_type": "stream",
     "text": [
      "[1, 2, 1, 15, 1, 1, 1, 15, 1, 10, 2, 1, 1, 1, 17, 1, 1, 1, 1, 1, 3, 1, 1, 1, 1, 1, 2, 3, 2, 1, 1, 2, 1, 2, 1, 1, 6, 1, 4, 6, 5, 13, 1, 14, 9, 4, 1, 7, 6, 33, 1, 1, 1, 2, 2, 1, 1, 1, 4, 1, 11, 1, 3, 3, 1, 1, 4, 1, 5, 1, 1, 2, 3, 63, 1, 1, 6, 1, 1, 2, 1, 4, 8, 104, 1, 1, 57, 4, 1, 1, 35, 1, 1, 1, 1, 1, 5, 18, 2, 1, 1, 5, 3, 1, 1, 16, 2, 1, 4, 1, 1, 5, 35, 1, 3, 1, 1, 10, 1, 2, 1, 1, 3, 2, 38, 2, 2, 4, 6, 3, 1, 3, 1, 60, 2, 2, 1, 2, 3, 2, 1, 3, 1, 3, 2, 2, 10, 1, 10, 1, 3, 10, 1, 1, 1, 1, 5, 2, 1, 2, 1, 1, 1, 2, 1, 10, 24, 13, 2, 4, 4, 67, 7, 1, 95, 1, 1, 84, 1, 1, 422, 2, 1, 2, 1, 1, 21, 1, 2, 1, 142, 1, 1, 73, 4, 1, 1, 1, 2, 2, 3, 132, 1, 1, 1, 1, 4, 1, 1, 161, 3, 1, 4, 1, 16, 1, 3, 1, 10, 1, 2, 1, 1, 15, 11, 63, 6, 4, 1, 1, 1, 1, 2, 6, 1, 1, 2, 5, 1, 1, 44, 1, 1, 9, 12, 41, 2, 1, 1, 4, 22, 5, 7, 7, 66, 2, 1, 1, 1, 1, 2, 39, 1, 2, 1, 1, 1, 2, 3, 1, 2, 1, 80, 2, 1, 2, 1, 1, 8, 2, 1, 3, 1, 5, 1, 1, 1, 1, 2, 33, 1, 96, 1, 16, 2, 1, 2, 2, 2, 28, 4, 2, 5, 1, 2, 1, 1, 1, 8, 1, 1, 1, 28, 1, 1, 1, 3, 1, 266, 22, 29, 7, 1, 6, 1, 3, 4, 9, 10, 1, 5, 20, 1, 7, 13, 1, 1, 145, 1, 8, 26, 1, 1, 19, 5, 31, 1, 1, 2, 1, 1, 221, 1, 8, 4, 1, 3, 17, 3, 3, 1, 1, 12, 3, 2, 70, 5, 12, 1, 6, 1, 5, 1, 9, 2, 1, 4, 1, 5, 1, 15, 1, 863, 30, 1, 6, 9, 3, 2, 2, 4, 1, 1, 1, 2, 1, 1, 1, 3, 4, 2, 6, 4, 3, 4, 5, 2, 1, 5, 2, 2, 3, 620, 1, 1, 91, 1, 8, 2, 1, 1, 72, 2, 1, 1, 1, 3, 3, 1, 1, 1, 2, 2, 1, 4, 39, 4, 1, 1, 1, 2, 3, 3, 2, 8, 1, 1, 11, 1, 1, 1, 5, 1, 4, 32, 1, 2, 1, 10, 3, 4, 1, 1, 3, 1, 1, 1, 3, 1, 2, 207, 1, 1, 1, 2, 1, 10, 8, 1, 3, 1, 1, 15, 1, 1, 1, 2, 1, 1, 8, 1, 10, 3, 1, 2, 1, 2, 3, 12, 3, 1, 1, 30, 23, 47, 4, 1, 1, 810, 1, 5, 38, 1, 32, 1, 6, 1, 1, 1, 2, 2, 3, 1, 1, 1, 3, 2, 4, 1, 1, 1, 2, 1, 1, 8, 6, 2, 1, 1, 17, 1, 1, 1, 13, 14, 1, 1, 1, 2, 18, 8, 1, 1, 1, 6, 1, 37524, 41, 1, 3, 2, 1, 19, 5, 7, 1, 2, 3, 1, 7, 2, 14, 1, 1301, 2, 1, 21, 2, 2, 1, 1, 65, 1, 1, 2, 1, 8, 1, 7, 1, 2, 58, 1, 13, 32, 1, 1, 36, 1, 21, 2, 5, 17, 1, 2, 1, 3, 1, 1, 1, 1, 1, 1, 1, 14, 2, 1, 1, 4, 48, 2, 1, 8, 2, 14, 1, 1, 1, 1, 2, 3, 202, 3, 36, 1, 1, 9, 1, 374, 1, 7, 2, 48, 1, 4, 2, 71, 1, 55, 1, 1, 1, 1, 2, 1, 7, 7, 1, 1, 1, 1, 22, 1, 1, 78, 2, 28, 1, 1, 7, 2, 1, 5, 3, 1, 1, 2, 2, 2, 2, 1, 1, 2, 1, 1, 6, 1, 1, 243, 1, 4, 25, 23, 1, 1, 1, 3, 1, 1, 1, 322, 1, 14, 4, 1, 1, 5, 5, 1, 72, 1, 17, 1, 1, 1, 2, 1, 1, 21, 1, 1, 1, 110, 12, 1, 8, 12, 1, 1, 3, 1, 1, 2, 50, 3, 1, 16, 3, 6, 1, 2, 53, 1, 12, 35, 1, 3, 2, 1, 1, 1, 2, 1, 4, 75, 1, 2, 12, 5, 2, 1, 5, 10, 33, 75, 1, 6, 6, 18, 1, 1, 1, 1, 11, 12, 1, 10, 1, 1, 1, 5, 1, 3, 2, 1, 8, 3, 23, 2, 1, 2, 1, 2, 1, 13, 13, 4, 31, 145, 2, 1, 2, 1, 1, 1, 2, 3, 1, 2, 65, 2, 665, 23, 1, 1, 2, 1, 3, 4, 1, 2, 17, 4, 1, 1, 117, 1, 403, 2, 3, 1, 3, 3231, 3, 1, 1, 1, 2, 36, 1, 1, 150, 1, 13, 214, 1, 31, 1, 2, 3, 1, 1, 16, 240, 1, 1, 4, 1, 1, 1, 2, 5, 9, 6, 33, 3, 1, 6, 81, 165, 11, 1, 1, 1, 2, 7, 255, 1, 1, 1, 1, 13, 2, 40, 3, 2, 2, 28, 2, 1, 147, 37, 1, 1, 1, 1, 882, 2, 8, 886, 1, 2, 8, 3, 1, 8, 2, 2, 4, 3, 13, 1, 1, 3, 1, 1, 1, 95, 1, 2, 7, 1, 1, 8, 3, 8, 3, 1, 1, 4, 1, 2, 1, 1, 60, 51, 3, 2, 1, 2, 3, 1, 2, 1, 1, 1, 3, 8, 1, 8, 1, 44, 2, 1, 1, 17, 240, 1, 4, 2, 9, 2, 8, 1, 1, 5, 2, 1, 1, 2, 1, 1, 3, 2, 16, 4, 1, 1, 1, 116, 2, 2, 2, 22, 5, 1, 18, 8, 3, 1, 16, 11, 3, 1518, 3, 12, 1, 2, 1, 2, 1, 1, 2, 2, 3, 2, 2, 3, 46, 1, 1, 373, 29, 4, 1, 1, 1, 1, 1, 1, 9, 1, 1, 23, 1, 1, 2, 4, 14, 2, 1, 1, 1, 5, 2, 2, 2, 7, 1, 2, 1, 1, 5, 12, 1, 4, 1, 1, 2, 1, 1, 1, 2, 335, 1, 3, 1, 1, 1, 3, 1, 1, 1, 67, 1, 2, 1, 2, 4, 3, 1, 44, 15, 50, 3, 1, 1, 1, 1, 1, 1, 2, 1, 1, 4, 2, 1, 1, 3, 2, 1, 2, 20, 5, 1, 45, 1, 34, 3, 1, 5, 7, 33, 1, 19, 27, 1, 4, 3, 3, 11, 1, 1, 1, 2, 1, 2, 1, 1, 3, 1, 1, 1, 4, 2, 1, 1, 2, 1, 2, 3, 3, 11, 4, 1, 1, 4, 1, 1, 2, 11, 2, 1, 1, 1, 1, 5, 5, 1, 1, 1, 1, 638, 1, 1, 3, 2, 1, 1, 1, 3, 2, 1, 2, 1, 1, 4, 1, 1, 1, 2, 3, 1, 1, 41, 1, 1, 2, 2, 1, 1, 4, 1, 17, 1, 1, 1, 1, 5, 3, 22, 51, 20, 3, 1, 2, 3, 321, 1, 1, 2, 1, 3, 27, 1, 2, 2, 2, 6, 8, 1, 5, 2, 1, 4, 1, 1, 11, 95, 1, 22, 1, 2, 1, 12, 1, 3, 2, 2, 27, 5, 4, 2, 1, 1, 34, 2, 2, 10, 1, 6, 16, 3, 1, 1, 1, 6, 1, 2, 2, 8, 1, 2, 2, 1, 8, 3, 2, 1, 1, 5, 2, 1, 95, 3, 24, 1, 1, 1, 4, 1, 6, 3, 1, 47, 1, 1, 1, 24, 27, 5, 1, 3, 7, 4, 1, 1, 1, 1, 1, 1, 4, 1, 1, 11, 12, 2, 78, 1, 1, 22, 1, 1, 14, 34, 1, 2, 18, 1, 1, 7, 22, 472, 1, 1, 2, 15, 5, 4, 2, 3, 1, 51, 1, 8, 1, 3, 1, 6, 1, 2, 1, 1, 1, 10]\n"
     ]
    }
   ],
   "source": [
    "a = [0] * len(op)\n",
    "for p in range(0,len(op)):\n",
    "    for qw in range(0,len(df1)):\n",
    "        if(op[p] == df1[qw]):\n",
    "            a[p] = a[p] + 1\n",
    "print(a)"
   ]
  },
  {
   "cell_type": "code",
   "execution_count": 45,
   "metadata": {},
   "outputs": [
    {
     "name": "stdout",
     "output_type": "stream",
     "text": [
      "[[0, 'Bani Jaber tribe', 1], [1, 'Nihilists Faction', 2], [2, 'Youth of Islamic Awakening', 1], [3, 'Kurdistan Freedom Hawks (TAK)', 15], [4, 'Muslim Youth', 1], [5, 'Mujahedeen Brigades', 1], [6, 'Enyele Militia', 1], [7, 'The Justice Department', 15], [8, 'Banner of Islam', 1], [9, 'People Against Gangsterism and Drugs (PAGAD)', 10], [10, 'Resistencia Galega', 2], [11, 'Fatherland and Liberty Nationalist Front (FNPL - Frente Nacionalista Patria y Libertad FNPL)', 1], [12, 'Baby Liberation Army', 1], [13, 'Pro-Pakistani extremists', 1], [14, 'Neo-Nazi extremists', 17], [15, 'Al-Qaida in Lebanon', 1], [16, 'Hoodie Wearers', 1], [17, 'Urhobo Revolutionary Army', 1], [18, 'Beli Orlovi (White Eagles)', 1], [19, 'Islamic Movement of Iraqi Mujahidin', 1], [20, 'Turkestan Islamic Party', 3], [21, 'Anarchist Action (CA / United States)', 1], [22, 'Qari Kamran Group', 1], [23, 'Tajamo Ansar al-Islam', 1], [24, 'Tehrik-e-Nifaz-e-Aman Balochistan-Jhalawan Brigade (TNAB-Jhalawan Brigade)', 1], [25, 'Right-Wing Gunmen', 1], [26, 'Kach', 2], [27, 'Popular Front for the Liberation of Palestine, Gen Cmd (PFLP-GC)', 3], [28, 'Yakariya Bango Insurgent Group', 2], [29, 'Belarusian Liberation Army', 1], [30, 'Support of Ocalan-The Hawks of Thrace', 1], [31, 'Government Supporters', 2], [32, 'United Democratic Terai Liberation Front (UDTLF)', 1], [33, 'Shabelle Valley militia', 2], [34, 'Knights Templar (Caballeros Templarios)', 1], [35, 'Thavar Caste', 1], [36, 'Armed People', 6], [37, 'Borderless Solidarity Cell (BSC)', 1], [38, 'Tupamaro Revolutionary Movement', 4], [39, 'Oromo Liberation Front', 6], [40, 'Adivasi National Liberation Army (ANLA)', 5], [41, 'Right-Wing Paramilitaries', 13], [42, 'Gang', 1], [43, 'Institutional Revolutionary Party (PRI)', 14], [44, 'Sipah-e-Sahaba/Pakistan (SSP)', 9], [45, 'Modakeke Ethnics', 4], [46, \"People's Liberation Organization of Tamil Eelam\", 1], [47, 'Al-Khobar', 7], [48, 'Jharkhand Liberation Tigers (JLT)', 6], [49, 'Rebels', 33], [50, 'Islamic Jihad Brigades', 1], [51, 'Nepali Congress Party (NC)', 1], [52, 'Wahhabi Movement', 1], [53, 'Vanuatu Mobile Force (VMF)', 2], [54, 'Egbesu Youths of the Bayelsa', 2], [55, 'Revolted Persons of the Polytech School', 1], [56, 'Alcubar group', 1], [57, 'Mujahidin Ambon', 1], [58, '14 K Triad', 4], [59, 'Mahidi', 1], [60, 'Barisan Revolusi Nasional (BRN)', 11], [61, 'Protectors of Islam Brigade', 1], [62, 'Combat 18', 3], [63, 'Amr Bil Maroof Wa Nahi Anil Munkir', 3], [64, 'Jerusalem Groups Hebrew (Qvutzot Yerushalayim)', 1], [65, 'Bosnian refugee', 1], [66, 'Beja Congress', 4], [67, 'Korubo Tribe', 1], [68, 'Madhesh Rastra Janatantrik Revolutionary (RJR) - Nepal', 5], [69, 'Al-Jub Tribe', 1], [70, 'Direct Action Against Drugs (DADD)', 1], [71, \"People's Amn Committee\", 2], [72, 'Naga People', 3], [73, 'Opposition Group', 63], [74, 'Tolib Ayombekov loyalists', 1], [75, 'Revenge of the Trees', 1], [76, 'Tehrik-e-Nafaz-e-Shariat-e-Mohammadi (TNSM)', 6], [77, 'Unidentified Infiltrators', 1], [78, 'Anti-Imperialist Commando', 1], [79, 'Tamil Liberation Army', 2], [80, 'Fatah Hawks', 1], [81, 'Kuki tribesmen', 4], [82, 'Coalition to Save the Preserves (CSP)', 8], [83, 'National Democratic Front of Bodoland (NDFB)', 104], [84, 'Enraged Revolutionaries', 1], [85, 'Council for the Destruction of Order', 1], [86, 'Popular Front for the Liberation of Palestine (PFLP)', 57], [87, 'Political Activists', 4], [88, 'Kaingang Indians', 1], [89, 'Abdul Qader Husseini Battalions of the Free Palestine movement', 1], [90, 'Tribesmen', 35], [91, 'Liwa al-Tawhid', 1], [92, 'Ayesha bint al-Sadiq Brigade', 1], [93, 'Patriotic Union of Kurdistan (PUK)', 1], [94, 'Ashuar Tribe', 1], [95, 'Civil War Veterans', 1], [96, 'Anti-State Justice', 5], [97, 'Justice and Equality Movement (JEM)', 18], [98, 'The United Revolutionary Front of Bhutan', 2], [99, 'Afghan Revolutionary Front', 1], [100, 'We Who Built Sweden', 1], [101, 'Samyukta Janatantrik Terai Mukti Morcha (SJTMM)', 5], [102, 'Popular Will (Greece)', 3], [103, 'Gugama Youth Federation', 1], [104, 'Tehrik-e-Taliban Islami (TTI)', 1], [105, 'Ulster Volunteer Force (UVF)', 16], [106, 'Ikhwan Jammu and Kashmir', 2], [107, 'National Redemption Front', 1], [108, 'Anti-United States extremists', 4], [109, 'Allied Democratic Forces of Guinea (RDFG)', 1], [110, \"Sa'ad Militia\", 1], [111, 'Islambouli Brigades of al-Qaida', 5], [112, 'Houthi extremists (Ansar Allah)', 35], [113, 'Jihadist Soldiers', 1], [114, 'Zero Tolerance', 3], [115, 'Aqmur', 1], [116, 'Pro-LGBT Rights extremists', 1], [117, 'Jaish-e-Islam', 10], [118, 'National Democratic Front-Bicol (NDF-Bicol)', 1], [119, 'Peasant protesters', 2], [120, 'Martyr Sami al-Ghul Brigades', 1], [121, 'Libya Shield Force', 1], [122, 'Kurdish Militants', 3], [123, 'Anti-Nuclear extremists', 2], [124, 'Taliban (Pakistan)', 38], [125, 'Islamic Jihad Union (Uzbekistan)', 2], [126, 'Dignity for Colombia', 2], [127, 'Sudan Alliance Forces', 4], [128, 'Anti-Authority Group (Greece)', 6], [129, 'Overall Deniers of Joining the Existing', 3], [130, \"Naga People's Council (NPC)\", 1], [131, 'Mahaz-e-Inquilab', 3], [132, 'The War That Was Never Declared', 1], [133, 'Left-Wing Guerrillas', 60], [134, 'Pirates', 2], [135, 'Columbia PM', 2], [136, 'All Ethiopian Unity Party (AEUP)', 1], [137, 'Egyptians', 2], [138, 'Kuki National Army (KNA)', 3], [139, 'Mujahedeen Corps in Iraq', 2], [140, 'Provisional RSPCA', 1], [141, \"Madhesi People's Rights Forum (MPRF)\", 3], [142, 'Karabulak Gang', 1], [143, 'Global Intifada', 3], [144, 'Khumbuwan Mukti Morcha', 2], [145, 'Congolese Patriotic Resistence-Patriotic Armed Forces (Pareco/FAP)', 2], [146, 'Anti-Muslim extremists', 10], [147, 'Pro Hartal Activists', 1], [148, 'Movement of Niger People for Justice (MNJ)', 10], [149, 'Terai Madheshi Mukti Morcha (TMMM)', 1], [150, 'Attack Teams for the Dissolution of the Nation (Greece)', 3], [151, 'Pattani United Liberation Organization (PULO)', 10], [152, 'Wolves of Islam', 1], [153, 'Supporters of Ernest Wamba dia Wamba', 1], [154, 'Supporters of Pascal Lissouba', 1], [155, 'Union of Chadian Forces (UFNT)', 1], [156, 'Kirat Janabadi Workers Party', 5], [157, 'Black Eagles', 2], [158, 'Gazteriak', 1], [159, 'Hynniewtrep National Liberation Council (HNLC)', 2], [160, 'Georgian Militants', 1], [161, 'Chukakuha Revolutionary Army', 1], [162, 'Praveen Dalam', 1], [163, 'Al-Qaida Kurdish Battalions (AQKB)', 2], [164, 'Albanian Separatists', 1], [165, 'Takfir wal-Hijra (Excommunication and Exodus)', 10], [166, 'Devrimici Halk Kurtulus Cephesi (DHKP/C)', 24], [167, 'Jihadi-inspired extremists', 13], [168, \"Jaish al-Ta'ifa al-Mansura\", 2], [169, 'Coalition for Unity and Democracy (CUD)', 4], [170, 'Kuki Revolutionary Army (KRA)', 4], [171, 'National Liberation Front of Tripura (NLFT)', 67], [172, 'Gbagbo Loyalists', 7], [173, 'Association Totalement Anti-Guerre (ATAG)', 1], [174, 'Garo National Liberation Army', 95], [175, 'Student Militants', 1], [176, 'Al-Sunni muslim sect', 1], [177, 'Corsican National Liberation Front- Historic Channel', 84], [178, 'National Democratic Alliance of Sudan', 1], [179, 'Jaish-e-Mohammad (Iraq)', 1], [180, 'National Liberation Army of Colombia (ELN)', 422], [181, 'Tehrik-e-Galba Islam', 2], [182, 'Izberbash Gang', 1], [183, 'Islamic Shashantantra Andolon (ISA)', 2], [184, 'Fatherland', 1], [185, 'Supporters of Ali Mahdi Mohammed', 1], [186, 'United Front for Democracy Against Dictatorship', 21], [187, 'The Mujahadeen Room in Latakia Countryside', 1], [188, 'Anti-Zionist Movement', 2], [189, 'National Bolshevik Party (Partiya Natsionalnikh Bolshevikov - PNB)', 1], [190, 'Hutu extremists', 142], [191, 'Intifada Martyrs', 1], [192, 'Macedonian nationalists', 1], [193, \"People's War Group (PWG)\", 73], [194, 'Revolutionary Action of Liberation', 4], [195, 'Revolutionary Popular Left', 1], [196, 'Anti-State Proletarian Nuclei', 1], [197, 'Sword of Islam', 1], [198, 'Brelvi Muslims', 2], [199, 'Ansar Wa Mohajir (Pakistan)', 2], [200, 'Macheteros', 3], [201, 'Armed Islamic Group (GIA)', 132], [202, 'Just Punishment Brigades', 1], [203, 'Kokang', 1], [204, 'Revolutionary Force', 1], [205, 'Vandalicia Teodoro Suarez', 1], [206, 'M-19 (Movement of April 19)', 4], [207, 'Golden Dawn', 1], [208, 'Hells Angels', 1], [209, 'Al-Aqsa Martyrs Brigade', 161], [210, \"Odua Peoples' Congress (OPC)\", 3], [211, 'Islamic Front for the Liberation of Bahrain', 1], [212, 'Taxi Drivers', 4], [213, 'Unification Army Sons Brigade', 1], [214, 'Coordination Committee (CORCOM)', 16], [215, 'Jamaat Tauhid Wal Jihad (Pakistan)', 1], [216, 'Anti-Gun Control extremists', 3], [217, 'Al-Adl Wal Ihsane', 1], [218, \"Asa'ib Ahl al-Haqq\", 10], [219, 'Al-Hamas Mujahideen', 1], [220, 'Afar Revolutionary Democratic Unity Front', 2], [221, 'Iraqi Sunni Extremists', 1], [222, 'Muslim United Liberation Tigers of Assam (MULTA)', 1], [223, 'Ranbir Sena', 15], [224, 'Left-wing extremists', 11], [225, 'Irish Republican Army (IRA)', 63], [226, 'Albanian National Army (ANA)', 6], [227, 'Eastern Turkistan Islamic Movement (ETIM)', 4], [228, 'Revolutionary Front', 1], [229, 'Massive escape', 1], [230, 'Ombatse Cult', 1], [231, 'Salafi Daawa Group', 1], [232, 'Popular Resistance (Laiki Antistasi)', 2], [233, 'Kachin Independence Army (KIA)', 6], [234, 'Convention of Liberal Reformers (CLR)', 1], [235, 'Last Generation', 1], [236, 'Salafi Abu-Bakr al-Siddiq Army', 2], [237, 'Islamic Front', 5], [238, 'Jharkhand Janmukti Parishad (JJP)', 1], [239, 'Self Defense Forces', 1], [240, 'Popular Resistance Committees', 44], [241, 'Karbi Tribe', 1], [242, 'Zuwar al-Imam Rida', 1], [243, 'Tutsi extremists', 9], [244, 'Sudan Liberation Movement', 12], [245, 'Karen National Union', 41], [246, 'Right-Wing Group', 2], [247, 'Ummah Liberation Army', 1], [248, 'Islamic Swords of Justice in the Land of Ribat', 1], [249, 'Al-Shuda Brigade', 4], [250, \"Sudan People's Liberation Movement - North\", 22], [251, \"United People's Democratic Front (UPDF) - Bangladesh\", 5], [252, 'Communist Party of India- Marxist', 7], [253, 'Rahanwein Resistance Army (RRA)', 7], [254, 'Muslim Militants', 66], [255, 'South Londonderry Volunteers (SLV)', 2], [256, 'Fight Against Authority', 1], [257, \"The Nation's Army\", 1], [258, 'Kara clan', 1], [259, 'Balakhani Group', 1], [260, 'Grupo de Combatientes Populares', 2], [261, 'Paramilitaries', 39], [262, \"United Front for Nigeria's Liberation (UFNL)\", 1], [263, 'Islamic Jihad Organization (Yemen)', 2], [264, 'National Anti-Corruption Front (FNA)', 1], [265, 'Bharatiya Janata Party', 1], [266, 'Republican Action Against Drugs (RAAD)', 1], [267, \"Umbane People's Liberation Army (Swaziland)\", 2], [268, 'Sudan Revolutionary Front (SRF)', 3], [269, 'Bru National Liberation Front (BNLF)', 1], [270, 'Group of Popular Fighters', 2], [271, 'Borana bandits', 1], [272, 'Lashkar-e-Jhangvi', 80], [273, 'Veterans United for Non-Religious Memorials', 2], [274, 'Al Zawahiri Loyalists', 1], [275, 'Karbi Longri National Liberation Front (KLNLF)', 2], [276, 'Unarmed Algerian', 1], [277, 'Abu Nidal Organization (ANO)', 1], [278, 'Jamaah Ansharut Tauhid (JAT)', 8], [279, 'Army of the Republic of Ilirida', 2], [280, 'Future movement (Lebanon)', 1], [281, 'Anti-Independence extremists', 3], [282, 'All Kamatapur Liberation Force', 1], [283, 'Front for the Liberation of the Enclave of Cabinda (FLEC)', 5], [284, 'Powers of the Revolutionary Arc', 1], [285, \"People's Alliance\", 1], [286, 'Rival peasant band', 1], [287, 'Kidnapping gang', 1], [288, 'Movement for Democracy and Justice in Chad (MDJT)', 2], [289, 'Communist Party of Nepal-Maoist (Baidya)', 33], [290, 'U/I Liberians', 1], [291, 'Hizbul Mujahideen (HM)', 96], [292, 'Tawheedul Islam', 1], [293, 'Ansar Bayt al-Maqdis (Ansar Jerusalem)', 16], [294, 'Irianese Tribesmen', 2], [295, 'Achik National Volunteer Council-B (ANVC-B)', 1], [296, 'Parbatya Chattagram Jana Sanghati Samity (PCJSS) - Bangladesh', 2], [297, 'Children of November', 2], [298, 'Ansarullah Bangla Team', 2], [299, 'Al-Fatah', 28], [300, \"Al-Shabaab al-Mu'minin\", 4], [301, 'Tehrik-e-Tuhafaz (Pakistan)', 2], [302, 'Cambodian Freedom Fighters (CFF)', 5], [303, 'Otpor', 1], [304, 'Cuban Exiles', 2], [305, 'Eritrean Salvation Front (ESF)', 1], [306, 'Uighur Liberation Organization', 1], [307, 'Tribal Separatists', 1], [308, 'Armata di Liberazione Naziunale (ALN)', 8], [309, 'Animal Rights Militia', 1], [310, 'Brigade of al-Mukhtar al-Thaqafi', 1], [311, \"People's Protection Units (YPG)\", 1], [312, 'Continuity Irish Republican Army (CIRA)', 28], [313, 'Lebanese male', 1], [314, 'Mahdaviyat', 1], [315, 'Congolese Rally for Democracy (RCD)', 1], [316, 'Abida Tribe', 3], [317, 'Right-Wing Militants', 1], [318, 'United Liberation Front of Assam (ULFA)', 266], [319, 'Revolutionary Struggle', 22], [320, 'Khmer Rouge', 29], [321, 'Black Star', 7], [322, 'Former Soldiers/Police', 1], [323, 'Ogaden National Liberation Front (ONLF)', 6], [324, 'Tajik Rebels', 1], [325, 'Sipah-I-Mohammed', 3], [326, 'Tribesmen Murad Tribe', 4], [327, 'Insurgents', 9], [328, 'Terai Army', 10], [329, 'Basque Separatists', 1], [330, 'The Northern Alliance (or United Islamic Front for Salvation of Afghanistan - UIFSA)', 5], [331, \"Paraguayan People's Army (EPP)\", 20], [332, 'Union of Revolutionary Communists in Turkey (TIKB)', 1], [333, 'Jund al-Sham for Tawhid and Jihad', 7], [334, 'Animal Rights extremists', 13], [335, 'Minutemen American Defense', 1], [336, 'Aba Cheali Group', 1], [337, 'National Union for the Total Independence of Angola (UNITA)', 145], [338, 'Bini-Oru', 1], [339, 'Janatantrik Terai Madhesh Mukti Morcha (JTMMM)', 8], [340, 'Loyalist Volunteer Forces (LVF)', 26], [341, 'Mullah Dadullah Front', 1], [342, 'Supporters of Johnny Adair', 1], [343, 'Mahdi Army', 19], [344, 'Zapatista National Liberation Army', 5], [345, 'Hizb-I-Islami', 31], [346, 'Angry Brigade', 1], [347, 'Moro Ghuraba', 1], [348, 'Proletarian Nuclei for Communism', 2], [349, 'Grozny Jamaat', 1], [350, 'Afrikaner Resistance Movement (AWB)', 1], [351, \"Lord's Resistance Army (LRA)\", 221], [352, 'Nobles of Jordan', 1], [353, 'Jamaat-E-Islami (India/Pakistan)', 8], [354, 'Al-Ittihaad al-Islami (AIAI)', 4], [355, 'Rival Afghan Group', 1], [356, 'Villagers', 3], [357, 'First of October Antifascist Resistance Group (GRAPO)', 17], [358, 'Armata Corsa', 3], [359, 'Skinheads', 3], [360, 'Liwa al-Haqq', 1], [361, 'Forces for the Unification of the Central African Republic (FIRCA)', 1], [362, 'Sindhudesh Revolutionary Army (SRA)', 12], [363, 'National Alliance (Chad)', 3], [364, 'Congolese Democratic Coalition', 2], [365, 'Muslim Separatists', 70], [366, 'Alex Boncayao Brigade (ABB)', 5], [367, 'Black Widows', 12], [368, 'Friends of Loukanikos', 1], [369, \"Landless Peasants' Movement (MST)\", 6], [370, 'Kamal Boulander Group', 1], [371, 'Ansar al-Sharia (Libya)', 5], [372, 'Black and Red Anarchist and Anti-Authoritarians Initiative (Greece)', 1], [373, 'Bodo Liberation Tigers (BLT)', 9], [374, 'Armed Group for the Defence of the People', 2], [375, 'Tamil Nadu Liberation Army', 1], [376, \"Comite d'Action Viticole\", 4], [377, 'South Sudan Democratic Army', 1], [378, 'Israeli settlers', 5], [379, 'Party Unity', 1], [380, 'Harkatul Jihad-e-Islami', 15], [381, 'Bengali Tiger Force (BTF)', 1], [382, 'Liberation Tigers of Tamil Eelam (LTTE)', 863], [383, 'Jamaat-E-Islami (Bangladesh)', 30], [384, 'Mazdoor Kisan Sangram Samiti (MKSS)', 1], [385, 'Nepal Defense Army', 6], [386, 'Tritiya Prastuti Committee (TPC)', 9], [387, 'Kurdish Democratic Party-Iraq (KDP)', 3], [388, 'Babbar Khalsa International (BKI)', 2], [389, 'Ansarul Islam (Pakistan)', 2], [390, 'Extremists', 4], [391, 'Kashmir Freedom Force', 1], [392, \"Manipur Naga People's Army (MNPA)\", 1], [393, 'Jaljala Army', 1], [394, 'Hassan Mabkhut Group', 2], [395, 'White Wolves (UK)', 1], [396, 'Islamic Tendency', 1], [397, 'Kisii Activists', 1], [398, \"National People's Movement Coordination Committee\", 3], [399, 'Hindu extremists', 4], [400, 'Bedouin Movement (Sudan)', 2], [401, \"Ansaru (Jama'atu Ansarul Muslimina Fi Biladis Sudan)\", 6], [402, 'National Liberation Force of Bengalis (Bangali Janamukti Bahini)', 4], [403, 'February 14th Movement', 3], [404, 'Zimbabwe African Nationalist Union (ZANU)', 4], [405, 'Mujahedeen Shura Council in the Environs of Jerusalem', 5], [406, 'Terena Indians', 2], [407, 'Association of Mobil Spill Affected Communities (AMSAC)', 1], [408, 'Bandits', 5], [409, 'International Solidarity', 2], [410, 'Extortionists', 2], [411, 'Karbi National Volunteers (KNV)', 3], [412, 'Maoists', 620], [413, 'Autonomous Decorators', 1], [414, 'Anarchist Liberation Brigade', 1], [415, 'Bangsamoro Islamic Freedom Movement (BIFM)', 91], [416, 'United Jihad Council', 1], [417, 'Deccan Mujahideen', 8], [418, 'Abkhazian Separatists', 2], [419, 'Popular Revolutionary Action', 1], [420, 'Anbar Salvation Council', 1], [421, 'Al-Qaida', 72], [422, 'Nationalist Integrationist Front (FNI)', 2], [423, 'Groups for Dissemination of Revolutionary Theory and Action', 1], [424, 'Jatav Caste', 1], [425, 'Zintani Militia', 1], [426, 'National Front Against Tigers (NFAT)', 3], [427, 'Movement for the Actualization of the Sovereign State of Biafra (MASSOB)', 3], [428, 'Madhesi Virus Killers', 1], [429, 'Adivasi Cobra Militants of Assam (ACMA)', 1], [430, 'Musa Sudi Yalahow Militia', 1], [431, 'Palestinian Hezbollah', 2], [432, 'Rastas', 2], [433, \"National People's Party (Rashtriya Janata Dal - RJD)\", 1], [434, 'United Kuki Liberation Front (UKLF) - India', 4], [435, 'Naxalites', 39], [436, 'Sympathizers of Al-Qaida Organization', 4], [437, 'Mlada Bosna', 1], [438, 'Partido Marxista-Leninista ng Pilipinas (PMLP)', 1], [439, 'Gun runners', 1], [440, \"Farmer's Movement of the Philippines (KMP)\", 2], [441, 'Mariano Moreno National Liberation Commando', 3], [442, 'White Legion (Georgia)', 3], [443, 'Al-Nasirin (India)', 2], [444, 'Turkish Leftists', 8], [445, 'Revolutionary Proletarian Army', 1], [446, 'Youth Gang', 1], [447, 'Bodo Militants', 11], [448, 'Lendu extremists', 1], [449, 'Young Officer Union of the New Generation and Reformist Armed Forces of the Philippines (YOU-RAFP)', 1], [450, 'Anti-Apostate Movement Alliance (AGAP)', 1], [451, 'Tanzim', 5], [452, 'Badr Brigades', 1], [453, \"Cambodian People's Party (CPP)\", 4], [454, 'Maoist Communist Center (MCC)', 32], [455, 'Anti-Capitalist Action', 1], [456, 'Harkat ul Ansar', 2], [457, 'Nepalbad Party', 1], [458, 'South Ossetian Separatists', 10], [459, 'Besi Merah Putih Militia', 3], [460, 'Islamic Movement of Uzbekistan (IMU)', 4], [461, 'Diyala Salvation Council', 1], [462, '14 March Coalition', 1], [463, 'Baathist extremists', 3], [464, 'Red Line', 1], [465, 'Tibetan separatists', 1], [466, 'Isatabu Freedom Movement (IFM)', 1], [467, 'Union of Forces for Democracy and Development (UFDD)', 3], [468, 'Volunteers of Innocent People of Nagas (VIPN)', 1], [469, 'Jewish Defense League (JDL)', 2], [470, 'Al-Qaida in the Islamic Maghreb (AQIM)', 207], [471, 'Salafi Extremists', 1], [472, 'Hofstad Network', 1], [473, 'Afridi Tribe', 1], [474, 'Rebel Military Unit', 2], [475, 'Omar Bin Khattab Group', 1], [476, 'Jundallah (Pakistan)', 10], [477, 'Political Group', 8], [478, 'Rebellious Group Lambros Foundas', 1], [479, 'South Sudan Liberation Army (SSLA)', 3], [480, 'Kuki Tribal Militants', 1], [481, 'Epanastatiki Anatropi (Revolutionary Overthrow)', 1], [482, 'Al-Ummah', 15], [483, 'Mujahedeen Group', 1], [484, 'Sunni Supporters', 1], [485, 'Aibed Er-Rahman katibet', 1], [486, 'Neo-Fascists', 2], [487, 'Sanghiya Limbuwan Committee (SLC)', 1], [488, \"Al-Mua'qi'oon Biddam Brigade (Those who Sign with Blood)\", 1], [489, 'Supreme Council for Islamic Revolution in Iraq (SCIRI)', 8], [490, 'Rival clan', 1], [491, \"People's Revolutionary Army (ERP)\", 10], [492, \"Iraq's Jihadist Leagues\", 3], [493, 'GN-95', 1], [494, 'Kenya African National Union (KANU)', 2], [495, 'Pemuda Pancasila', 1], [496, 'Death Squad', 2], [497, 'Serbs', 3], [498, 'Anti-Government Guerrillas', 12], [499, 'Liberation and Justice Movement (LJM)', 3], [500, 'Sudanese Rebels', 1], [501, \"Defenders of the Nation's Sovereignty\", 1], [502, 'Muslim Rebels', 30], [503, 'Red Hand Defenders (RHD)', 23], [504, 'Sindhu Desh Liberation Army (SDLA)', 47], [505, 'Zeliangrong United Front', 4], [506, 'West Side Boys', 1], [507, 'Karen Insurgents', 1], [508, 'Boko Haram', 810], [509, 'Serb demonstrators', 1], [510, 'National Congress for the Defense of the People (CNDP)', 5], [511, 'Caucasus Emirate', 38], [512, 'Kaka-Tribesmen', 1], [513, 'Kangleipak Communist Party (KCP)', 32], [514, 'Guerrilla Command Force 97', 1], [515, 'Mujahidin Indonesia Timur (MIT)', 6], [516, 'Muslim Renewal', 1], [517, 'Last Alternative Guerrilla Front', 1], [518, \"Habi's Er'roub seriat\", 1], [519, 'Angry Brigade (Italy)', 2], [520, 'Terai Communist Party', 2], [521, 'Al-Haramayn Brigades', 3], [522, 'Abkhazian guerrillas', 1], [523, 'Revolutionary Leninist Brigades', 1], [524, 'Fanmi Lavalas', 1], [525, 'Merille Militia', 3], [526, 'Supporters of Laurent Nkunda', 2], [527, 'United Democratic Liberation Army (UDLA)', 4], [528, 'Kawal ng Pilipinas (Soldier of the Philippines)', 1], [529, 'National League for Democracy', 1], [530, 'Los Rastrojos (Colombia)', 1], [531, 'Telangana Separatists', 2], [532, 'Mob', 1], [533, 'Al-Masni Tribe', 1], [534, 'Madhesi Mukti Tigers (MMT)', 8], [535, 'Guatemalan National Revolutionary Unity (URNG)', 6], [536, 'Serbian extremists', 2], [537, 'Human Rights Renewal Movement (Renovacion por los Derechos Humanos)', 1], [538, 'Republic of Texas', 1], [539, 'Azawad National Liberation Movement (MNLA)', 17], [540, 'National Renewal Party', 1], [541, 'Rohingya Solidarity Organization', 1], [542, 'Swaziland Youth Congress (Swayoco)', 1], [543, 'Baloch Nationalists', 13], [544, 'Democratic Karen Buddhist Army (DKBA)', 14], [545, 'Aryan Nation', 1], [546, 'Civil Association for Peace in Colombia, Asocipaz', 1], [547, 'National Liberation Alliance of Sa Kaeo', 1], [548, 'Shiv Sena', 2], [549, 'Purbo Banglar Communist Party', 18], [550, 'Right-wing extremists', 8], [551, 'Maasai', 1], [552, 'Guatemalan hired assasins', 1], [553, 'Jund Al-Tawid', 1], [554, 'Mombasa Republican Council (MRC)', 6], [555, 'Incendiary Committee of Solidarity for Detainees', 1], [556, 'Unknown', 37524], [557, 'Real Irish Republican Army (RIRA)', 41], [558, 'National United Front of Democracy Against Dictatorship (UDD)', 1], [559, 'Sect of Revolutionaries (Greece)', 3], [560, 'Narco-Terrorists', 2], [561, 'Students For Insurrection', 1], [562, 'Abdullah Azzam Brigades', 19], [563, 'Conscientious Arsonists (CA)', 5], [564, 'Democratic Revolutionary Party', 7], [565, 'Forbidden Blockade (Greece)', 1], [566, 'Friends of Freedom', 2], [567, 'Islamic Jihad Group (IJG)', 3], [568, 'Unsubordinated Desires', 1], [569, 'Revolutionary Front for an Independent East Timor (FRETILIN)', 7], [570, 'Revolutionary Cells-Animal Liberation Brigade', 2], [571, 'Janatantrik Terai Mukti Morcha- Rajan Mukti (JTMM-R)', 14], [572, 'Diraa al-Shahbaa Rebel Brigade', 1], [573, 'Revolutionary Armed Forces of Colombia (FARC)', 1301], [574, 'Asbat al-Ansar', 2], [575, 'Anarchist Squad', 1], [576, \"People's Revolutionary Party of Kangleipak (PREPAK)\", 21], [577, 'Sandinista National Liberation Front (FSLN)', 2], [578, 'Mutahida Majlis-e-Amal', 2], [579, 'Terai Janatantrik Madhes Party', 1], [580, 'Arab Socialist Baath Party of Iraq', 1], [581, 'Al-Nusrah Front', 65], [582, 'Kilafah Islamic Movement', 1], [583, 'Angry Foxes Cell', 1], [584, 'Tribal guerrillas', 2], [585, 'East Turkistan Liberation Organization', 1], [586, 'Strikers', 8], [587, 'U/I Somali Militiamen', 1], [588, \"United People's Democratic Solidarity (UPDS)\", 7], [589, 'Loyalist Action Force', 1], [590, '1920 Revolution Brigades', 2], [591, 'Thai Islamic Militants', 58], [592, 'New Patriotic Party (NPP)', 1], [593, 'Tuareg extremists', 13], [594, 'United Baloch Army (UBA)', 32], [595, 'Bersatu', 1], [596, 'Terai Janatantrik Party', 1], [597, 'Movement for Oneness and Jihad in West Africa (MUJAO)', 36], [598, 'Maoist Communist Party of Manipur', 1], [599, 'Mayi Mayi', 21], [600, 'Chukakuha (Middle Core Faction)', 2], [601, \"Dagestani Shari'ah Jamaat\", 5], [602, 'National Socialist Council of Nagaland-Khaplang (NSCN-K)', 17], [603, 'Syrian Army deserters', 1], [604, 'Dynamic Youth Forum', 2], [605, 'Bhisan Himali Bag', 1], [606, 'Northern Diriangen Front (FND)', 3], [607, 'Zviadists', 1], [608, 'E. Timorese Youths', 1], [609, 'Erotic Anti-authority Cells', 1], [610, 'Sovereign Citizen', 1], [611, 'Makhachkala Gang', 1], [612, 'Supporters of Saddam Hussein', 1], [613, 'Comando Bautista B', 1], [614, 'Popular Liberation Army (EPL)', 14], [615, 'Environmentalists', 2], [616, 'CSS Movement', 1], [617, \"Federation of Students and Scholars of Cote d'Ivoire (FESCI)\", 1], [618, 'Anti-Government Group', 4], [619, 'Conspiracy of Cells of Fire', 48], [620, 'Khorasan jihadi group', 2], [621, 'Red Brigades Fighting Communist Union (BR-UCC)', 1], [622, 'Communist Party of India- Marxist-Leninist', 8], [623, 'Jammu and Kashmir Liberation Front', 2], [624, 'White extremists', 14], [625, 'Muslim United Army (MUA)', 1], [626, 'Revenge Brigade', 1], [627, 'Terai Rastriya Mukti Sena (TRMS)', 1], [628, 'Syrian Social Nationalist Party', 1], [629, 'Chechen Lone Wolf Group', 2], [630, 'Amal', 3], [631, 'Muslim extremists', 202], [632, 'Niger Delta Liberation Force (NDLF)-Nigeria', 3], [633, 'Free Syrian Army', 36], [634, 'U/I Liberian Gunmen', 1], [635, 'Sardinian Autonomy Movement', 1], [636, 'Vishwa Hindu Parishad (VHP)', 9], [637, 'Haika', 1], [638, 'Islamic State of Iraq and the Levant (ISIL)', 374], [639, 'Cambodian Gunmen', 1], [640, 'Army of God', 7], [641, 'Jordanian Islamic Resistance', 2], [642, 'Resistenza', 48], [643, 'Popular Movement for the Liberation of Angola', 1], [644, 'Robin Food', 4], [645, 'Union of Congolese Patriots (UPC)', 2], [646, 'Earth Liberation Front (ELF)', 71], [647, 'Ethiopians', 1], [648, 'Kosovo Liberation Army (KLA)', 55], [649, 'Fundamentalists', 1], [650, 'Gholam Yahya Akbar', 1], [651, 'Supporters of Muhammad Umar Habib', 1], [652, 'Mapuche Ancestral Resistance (RAM)', 1], [653, \"Islamic Defenders' Front (FPI)\", 2], [654, 'Civic United Front (CUF)', 1], [655, 'Recontras', 7], [656, 'Islamic Army in Iraq (al-Jaish al-Islami fi al-Iraq)', 7], [657, 'Balochistan National Army', 1], [658, 'Rodolfo Walsh National Command', 1], [659, 'First Capital Command (PCC)', 1], [660, 'Muslim Guerrillas', 1], [661, 'Popular Revolutionary Army (Mexico)', 22], [662, 'Anarchist Struggle', 1], [663, 'Etnocacerista Movement', 1], [664, 'Movement for the Emancipation of the Niger Delta (MEND)', 78], [665, 'Rizvon Sadirov Group', 2], [666, \"Sudan People's Liberation Army (SPLA)\", 28], [667, 'Afghans', 1], [668, 'Comando Malvinas Argentinas', 1], [669, 'Ninjas', 7], [670, 'Armed Revolutionary Action (ENEDRA)', 2], [671, 'Group of Carlo Giuliani', 1], [672, 'Anti-Balaka Militia', 5], [673, 'Arsonists for Social Cohesion', 3], [674, 'Ansar Sarallah', 1], [675, 'Anti-Bhutto demonstrators', 1], [676, 'Khasi Students Union', 2], [677, 'United Achik Liberation Army (UALA)', 2], [678, 'Ahrar al-Sham', 2], [679, 'Tehrik al-Mojahedin', 2], [680, 'Liberals of Galilee', 1], [681, 'Colonel Albert Kahasha Militia', 1], [682, \"Kata'ib al-Khoul\", 2], [683, 'Vanguards of the Caliphate', 1], [684, 'Bunda Dia Kongo (BDK)', 1], [685, 'Illuminating Paths of Solidarity', 6], [686, 'Al-Sunna wal Jamma', 1], [687, 'Swatantra Nepal Dal', 1], [688, 'Abu Sayyaf Group (ASG)', 243], [689, 'English Defense League (EDL)', 1], [690, 'Colombian Guerrillas', 4], [691, 'Muttahida Qami Movement (MQM)', 25], [692, 'Free Papua Movement (OPM-Organisasi Papua Merdeka)', 23], [693, 'Pentagon Kidnap Group', 1], [694, 'All India Anna Dravida Munetra Kazgan Party', 1], [695, 'Anti-Racist Guerrilla Nuclei', 1], [696, 'Janatantrik Terai Mukti Morcha- Bisphot Singh (JTMM-B)', 3], [697, 'United Janatantrik Terai Mukti Morcha (U-JTMM)', 1], [698, \"People's United Democratic Movement (PUDEMO)\", 1], [699, 'Holders of the Black Banners', 1], [700, 'Chechen Rebels', 322], [701, 'Organization 544', 1], [702, 'Great Eastern Islamic Raiders Front (IBDA-C)', 14], [703, 'September 11', 4], [704, 'Mongolian Mukti Morcha', 1], [705, 'Deniers of Holidays', 1], [706, 'CCCCC', 5], [707, 'Grey Wolves', 5], [708, 'National Youth Service of Zimbabwe', 1], [709, 'Animal Liberation Front (ALF)', 72], [710, 'Civilian Defense', 1], [711, 'Anarchists', 17], [712, 'Forum for the Restoration of Democracy-Kenya', 1], [713, 'Jaish al-Muhajireen wal-Ansar (Muhajireen Army)', 1], [714, 'Commander Luciano Varela Antiguerrilla Group', 1], [715, 'The Front for the Liberation of the Cabinda Enclave - Renewed (FLEC)', 2], [716, 'The Jean Marc Rouillan Armed and Heartless Columns', 1], [717, 'Matan Abdulle', 1], [718, 'Moro National Liberation Front (MNLF)', 21], [719, 'Free Vietnam Movement', 1], [720, 'Arsonists', 1], [721, 'Anarchists Attack Team', 1], [722, 'Free Aceh Movement (GAM)', 110], [723, 'Samyukta Jatiya Mukti Morcha (SJMM)', 12], [724, 'Banyamulenge rebels', 1], [725, 'Athens and Thessaloniki Arsonist Nuclei', 8], [726, 'Armed Forces of the Chechen Republic of Ichkeria', 12], [727, 'Biswabhumi Sena Bishal Nepal', 1], [728, 'Partisan Sharpshooters', 1], [729, 'Hutus Former Soldiers', 3], [730, 'Aniban ng Ayaw sa Komunista (ANAK)\\xa0', 1], [731, 'National Committee for the Restoration of Democracy and State (CNRDR)', 1], [732, 'Al-Toaiman Tribesmen', 2], [733, 'Tawhid and Jihad', 50], [734, 'The Extraditables', 3], [735, 'National Organization of Cypriot Fighters (EOKA)', 1], [736, 'Corsican Separatists', 16], [737, 'Tamil Makkal Viduthalai Pulikal (TMVP)', 3], [738, 'David Yau Yau Militia', 6], [739, 'Islamic Movement of Martyrs', 1], [740, 'Shahid Khalsa Force', 2], [741, \"Al-Gama'at al-Islamiyya (IG)\", 53], [742, 'Ejercito Revolucionario Guevarista (Guevarist Revolutionary Army)', 1], [743, 'Jamiat ul-Mujahedin (JuM)', 12], [744, 'National Liberation Army (NLA) (Macedonia)', 35], [745, \"Hmar People's Convention-Democracy (HPC-D)\", 1], [746, 'Boere Aanvals Troepe (BAT)', 3], [747, 'Croatians', 2], [748, 'United National Party', 1], [749, 'Resistance Cell', 1], [750, 'Chakma tribal group', 1], [751, 'Scottish National Liberation Army', 2], [752, 'SKIF Detachment', 1], [753, 'Qaddafi loyalists', 4], [754, 'Jemaah Islamiya (JI)', 75], [755, 'Harakat ul-Mujahidin Al-Almi', 1], [756, 'National United Front for an Independent, Neutral, Peaceful, and Cooperative Cambodia (FUNCINPEC)', 2], [757, 'Turkish Communist Party/Marxist (TKP-ML)', 12], [758, 'Revolutionary Perspective', 5], [759, 'Aitarak Militia', 2], [760, 'Al-Qaida Organization for Jihad in Sweden', 1], [761, 'Che Guevara Guerrillas', 5], [762, 'Riyadus-Salikhin Reconnaissance and Sabotage Battalion of Chechen Martyrs', 10], [763, 'Tribal Group', 33], [764, 'Militants', 75], [765, 'West Nile Bank Front (WNBF)', 1], [766, 'Protesters', 6], [767, 'Tupac Amaru Revolutionary Movement (MRTA)', 6], [768, 'Israeli extremists', 18], [769, 'Rastriya Janashakti Party (RJP)', 1], [770, 'Shinwari Tribe', 1], [771, 'Madhesh Mukti Sangram (MMS)', 1], [772, 'May 15', 1], [773, 'All Tripura Tiger Force (ATTF)', 11], [774, 'Akhil Terai Mukti Morcha (ATMM)', 12], [775, 'Ujjan Tribe', 1], [776, 'Bedouin tribesmen', 10], [777, 'Supporters of ret. Gen. Lino Oviedo', 1], [778, 'Armenian nationalists', 1], [779, 'Mouhajiroune Brigade', 1], [780, 'Shan United Revolutionary Army', 5], [781, 'Local Extremist', 1], [782, \"People's Revolutionary Organization\", 3], [783, 'Democratic Movement for the Liberation of the Eritrean Kunamas (DMLEK)', 2], [784, 'Pahadi Cheetah', 1], [785, 'Balochistan Liberation United Front (BLUF)', 8], [786, 'Harakat ul-Mujahidin (HuM)', 3], [787, 'Peasant Self-Defense Group (ACCU)', 23], [788, 'Turkish radicals', 2], [789, 'Tigers', 1], [790, 'Sindh Liberation Front', 2], [791, 'Gulf Cartel', 1], [792, 'Modakeke Ethnic Activists', 2], [793, 'Chin National Army', 1], [794, 'Jundallah (Iran)', 13], [795, 'Shanti Bahini - Peace Force', 13], [796, 'Activists', 4], [797, 'Palestinians', 31], [798, 'Islamic State of Iraq (ISI)', 145], [799, \"God's Army\", 2], [800, 'Yimchunger Liberation Front (YLF)', 1], [801, 'Algerian Moslem Fundamentalists', 2], [802, 'Aisha Umm-al Mouemeneen (Brigades of Aisha)', 1], [803, 'Four Martyrs Brigade', 1], [804, 'Croat Democratic Union', 1], [805, 'Adan Abyan Islamic Army (AAIA)', 2], [806, \"Kata'ib Hezbollah\", 3], [807, 'Al-Yemenia al-Ulia Tribesmen', 1], [808, 'Mujahedeen Army', 2], [809, 'Haqqani Network', 65], [810, 'Kuki National Liberation Front (KNLF)', 2], [811, \"New People's Army (NPA)\", 665], [812, 'Mujahideen Youth Movement (MYM)', 23], [813, 'Militant Organization of Russian Nationalists', 1], [814, 'Angola Rebels', 1], [815, \"People's Tamil Organization\", 2], [816, 'Ansar al-Din', 1], [817, 'Manuel Rodriguez Patriotic Front (FPMR)', 3], [818, 'Mujahideen Islam Pattani', 4], [819, 'Armed Vanguards of a Second Mohammed Army', 1], [820, 'Islamic Unification Movement', 2], [821, 'Ansar al-Sunna', 17], [822, 'Rashtriya Swayamsevak Sangh', 4], [823, 'Initiative de Resistance Internationaliste', 1], [824, 'Muslims Against Global Oppression (MAGO)', 1], [825, 'Islamist extremists', 117], [826, 'Fighters of Democratic Latvia', 1], [827, \"Kurdistan Workers' Party (PKK)\", 403], [828, 'United Liberation Front of Barak Valley (ULFBV) - India', 2], [829, 'Niger Delta Vigilante (NDV)', 3], [830, 'Baloch National Liberation Front', 1], [831, 'Communists', 3], [832, 'Taliban', 3231], [833, 'Right-Wing Death Squad', 3], [834, 'Ramzi Nahra Martyr Organization', 1], [835, 'National Council of Maubere Resistance', 1], [836, 'Al-Mujahedin Brigades (Palestine)', 1], [837, 'Jaish al-Muslimin (Army of the Muslims)', 2], [838, 'Southern Mobility Movement (Yemen)', 36], [839, 'Jenin Martyrs Brigades', 1], [840, 'Anti-Gentrification Front', 1], [841, 'Palestinian Islamic Jihad (PIJ)', 150], [842, 'Red Flag (Venezuela)', 1], [843, 'Anti-Semitic extremists', 13], [844, 'Salafist Group for Preaching and Fighting (GSPC)', 214], [845, 'All Karanataka Youth Council', 1], [846, 'Dissident Republicans', 31], [847, 'Popular Front of India', 1], [848, 'Armed Revolutionary Left (IRA)', 2], [849, \"Al-Ahwaz Arab People's Democratic Front\", 3], [850, 'Islamic Companies', 1], [851, 'Labor Union Leaders', 1], [852, 'United National Liberation Front (UNLF)', 16], [853, 'Hamas (Islamic Resistance Movement)', 240], [854, 'U/I Snipers', 1], [855, 'Fuerzas Autonómicas y Destructivas León Czolgoscz', 1], [856, 'Jaime Bateman Cayon Group (JBC)', 4], [857, 'Ingush Rebels', 1], [858, 'Iconoclasts', 1], [859, 'Saif-ul-Muslimeen', 1], [860, 'Koreans', 2], [861, 'Pro-Indonesia extremists', 5], [862, 'Iparretarrak (IK)', 9], [863, 'National Socialist Council of Nagaland', 6], [864, 'Oglaigh na hEireann', 33], [865, '313 Brigade (Syria)', 3], [866, 'Seleka', 1], [867, 'East Timorese extremists', 6], [868, 'Lashkar-e-Islam (Pakistan)', 81], [869, 'Corsican National Liberation Front (FLNC)', 165], [870, 'Jewish Extremists', 11], [871, 'Christian extremists', 1], [872, 'Liberation War Veterans Association', 1], [873, 'National Development Party (NDP)', 1], [874, 'Likud Political Party', 2], [875, 'Militant Minority (Greece)', 7], [876, 'Gunmen', 255], [877, 'Fighting For Freedom Coalition (FFFC-Ottawa)', 1], [878, 'Sagrado Corazon Fanatic Group', 1], [879, 'Supporters of Johnny Paul Koroma', 1], [880, 'Majerten clansmen', 1], [881, 'Muslims', 13], [882, 'Anti-Environmentalists', 2], [883, 'Democratic Front for the Liberation of Rwanda (FDLR)', 40], [884, 'Movement for Democratic Change (MDC)', 3], [885, 'Fatah al-Islam', 2], [886, 'Individuals Tending Toward Savagery', 2], [887, 'Sunni Muslim extremists', 28], [888, 'Misseriya Arab Tribesmen', 2], [889, 'Pokot extremists', 1], [890, 'Hezbollah', 147], [891, 'Party for the Liberation of the Hutu People (PALIPEHUTU)', 37], [892, 'Itsekiri', 1], [893, 'Ansar al-Tahwid wal Sunna', 1], [894, 'Elos security firm', 1], [895, 'Patriotic Resistance Front in Ituri (FRPI)', 1], [896, 'Tehrik-i-Taliban Pakistan (TTP)', 882], [897, 'Supreme Command for Jihad and Liberation', 2], [898, 'Convention of Patriots for Justice and Peace', 8], [899, 'Al-Shabaab', 886], [900, 'Left-Wing Terrorists', 1], [901, 'Al-Bakazim', 2], [902, \"Communist Party of Nepal (People's War Group)\", 8], [903, 'Miscreants', 3], [904, 'Caspian Group', 1], [905, 'Students Islamic Movement of India (SIMI)', 8], [906, 'Georgian extremists', 2], [907, 'Janatantrik Terai Mukti Morcha- Prithvi Singh (JTMM-P)', 2], [908, 'Pattali Makkal Katchi (PMK)', 4], [909, 'Al-Umar Mujahideen', 3], [910, 'Kamtapur Liberation Organization (KLO)', 13], [911, 'Moroccan extremists', 1], [912, 'Amazigh Islamic Front', 1], [913, 'Somali Islamic Front', 3], [914, 'Harakat Ansar Iran (HAI)', 1], [915, 'National Freedom Party', 1], [916, 'Al-Qaida in the Indian Subcontinent', 1], [917, 'Baloch Liberation Army (BLA)', 95], [918, 'Baloch Mussalah Diffah Tanzim (BMDT)', 1], [919, 'Hizb al-Tahrir al-Islami (HT)', 2], [920, 'Laskar Jihad', 7], [921, 'Islamic Movement for Change', 1], [922, 'Bengali Sangram Mukti Bahini', 1], [923, 'Awami League', 8], [924, \"Adivasi People's Army (APA)\", 3], [925, 'M23', 8], [926, 'Khalistan Liberation Force', 3], [927, 'Supporters of Colonel Mahmud Khudoyberdiyev', 1], [928, 'French Armed Islamic Front', 1], [929, 'Resistenza Corsa', 4], [930, 'Janatantrik Terai Madhes Mukti Party- Bhagat Singh (JTMMP)', 1], [931, 'Tamils', 2], [932, 'Anarkista Jorge Banos Front of the Everyone For The Homeland Movement (MTP)', 1], [933, 'Al-Naqshabandiya Army', 1], [934, 'Uighur Separatists', 60], [935, 'Runda Kumpulan Kecil (RKK)', 51], [936, 'Red Sea Afar Democratic Organization (RSADO)', 3], [937, 'Squadrons of Terror (Katibat El Ahoual)', 2], [938, 'Juarez Cartel (Carrillo-Fuentes / Mexico)', 1], [939, 'Arabs', 2], [940, 'Saharan Revolutionary Armed Front (FARS)', 3], [941, 'Young Liberators of Pattani', 1], [942, 'Gangs of Conscience', 2], [943, 'Delta Democratic Militia', 1], [944, 'Ansar al-Jihad', 1], [945, 'Rally of Democratic Forces (RAFD)', 1], [946, 'Death to Rustlers', 3], [947, 'Kashmiri extremists', 8], [948, 'Vietnamese', 1], [949, 'Basque extremists', 8], [950, 'Guadalcanal Liberation Front (GLF)', 1], [951, 'National Socialist Council of Nagaland-Isak-Muivah (NSCN-IM)', 44], [952, 'Yarmouk Martyrs Brigade', 2], [953, 'New Revolutionary Popular Struggle (NELA)', 1], [954, 'Alexandros Grigoropoulos Anarchist Attack Group', 1], [955, \"Karbi People's Liberation Tigers (KPLT)\", 17], [956, 'Separatists', 240], [957, 'Ku Klux Klan', 1], [958, 'Real Ulster Freedom Fighters (UFF) - Northern Ireland', 4], [959, \"Al-Ma'unah\", 2], [960, 'Colonel Karuna Faction', 9], [961, \"Citizen's Rights Protection Volunteers\", 2], [962, 'Lashkar-e-Balochistan', 8], [963, 'Force Etudiante Critique', 1], [964, 'Zwai Tribe', 1], [965, 'Sudan Liberation Army-Minni Minawi (SLA-MM)', 5], [966, 'National Front for the Revolution in Burundi (FRONABU-Tabara)', 2], [967, 'Supporters of Ali Abdullah Saleh', 1], [968, 'Lufa Tribesmen', 1], [969, 'Anti-Democratic Struggle', 2], [970, 'National Liberation Army (Nepal)', 1], [971, 'Joint Meeting Parties (JMP)', 1], [972, 'Brigades of Imprisoned Sheikh Omar Abdel-Rahman', 3], [973, 'Timorese guerrillas', 2], [974, 'November 17 Revolutionary Organization (N17RO)', 16], [975, 'Mahan Madhesh Janakantri Party (MMJP)- Nepal', 4], [976, 'Jihad Islamic League Front', 1], [977, \"Didier Ratsiraka's Militia\", 1], [978, 'Baloch Militant Defense Army', 1], [979, 'Lashkar-e-Taiba (LeT)', 116], [980, 'Guerrillas', 2], [981, 'Filipino Soldiers for the Country', 2], [982, 'Armed Forces Revolutionary Council (AFRC)', 2], [983, 'Jaish-e-Mohammad (JeM)', 22], [984, 'Mungiki Sect', 5], [985, 'Armenian Secret Army for the Liberation of Armenia', 1], [986, 'Democratic Front for the Liberation of Palestine (DFLP)', 18], [987, 'Janjaweed', 8], [988, 'Opposition Militants', 3], [989, 'Black Mambas', 1], [990, 'Ulster Freedom Fighters (UFF)', 16], [991, 'Youths', 11], [992, 'Al-Nasireen Group', 3], [993, 'Communist Party of India - Maoist (CPI-Maoist)', 1518], [994, \"Niger Delta People's Volunteer Force (NDPVF)\", 3], [995, 'Islamic Courts Union (ICU)', 12], [996, 'Brigades of Iman Hassan-al-Basri', 1], [997, 'Solidarity with imprisoned members of Action Directe (AD)', 2], [998, 'Popular Army for the Restoration of Democracy (APRD)', 1], [999, 'Gono Bahini (GB)', 2], [1000, 'Revolutionary Insurgent Armed Forces of Ecuador (FAIRE)', 1], [1001, 'Revolutionary Headquarters (Turkey)', 1], [1002, 'Tawhid and Jihad (Palestine)', 2], [1003, 'Freedom Eagles of Africa', 2], [1004, 'Al-Ashtar Brigades', 3], [1005, 'Corsican Nationalists', 2], [1006, 'Catholic Reaction Force', 2], [1007, 'Farmers', 3], [1008, \"People's Liberation Army (India)\", 46], [1009, 'Revolutionary Combat Brigades', 1], [1010, 'Front for Peace and Reconciliation (FRP)', 1], [1011, 'Algerian Islamic Extremists', 373], [1012, 'Janatantrik Terai Mukti Morcha (JTMM)', 29], [1013, 'Mapuche activists', 4], [1014, \"Bodo People's Front (BPF)\", 1], [1015, 'Al-Fatihin Army (AFA)', 1], [1016, 'Supporters of General Lino Oviedo', 1], [1017, 'Popular Front for Recovery (FPR)', 1], [1018, 'Saudi Hezbollah', 1], [1019, 'Bin Zabyan Tribesmen', 1], [1020, 'Kanglei Yawol Kanna Lup (KYKL)', 9], [1021, 'Revolutionary Continuity', 1], [1022, 'Revolutionary Violence Units', 1], [1023, 'Communist Party of Nepal- Maoist (CPN-M)', 23], [1024, 'Jagrata Towhidi Janata (Rising Faithfuls)', 1], [1025, 'Mujahedin Kompak', 1], [1026, 'Revolutionary Proletarian Initiative Nuclei (NIPR)', 2], [1027, 'Al-Arifeen', 4], [1028, 'Loyalists', 14], [1029, 'Coca Farmers', 2], [1030, 'Hezbollah Palestine', 1], [1031, 'Munadil al-Jumalyi Brigade', 1], [1032, 'Jaish al-Mukhtar', 1], [1033, 'Fighting Guerrilla Formation', 5], [1034, 'Forest Brothers', 2], [1035, 'Arauco Malleco Coordinating Group (CAM) - Chile', 2], [1036, 'Terai Cobra', 2], [1037, 'Ijaw extremists', 7], [1038, 'Supporters of Muse Sudi Yalahow', 1], [1039, 'Al-Qaida Network for Southwestern Khulna Division', 2], [1040, 'Jacinto Araujo Internationalist Rebel Insurrectionist Brigade', 1], [1041, 'Al-Fajr', 1], [1042, 'Jaish al-Adl', 5], [1043, 'Mujahideen Ansar', 12], [1044, 'Tuareg Guerrillas', 1], [1045, 'Ahlu-sunah Wal-jamea (Somalia)', 4], [1046, 'Black Hawks (Anti-Wahhabists)', 1], [1047, 'Comando Autónomo Voltaire Argandoña', 1], [1048, 'Militant Peasants (NFI)', 2], [1049, 'Kurdish Rebels', 1], [1050, 'Army of State Liberators', 1], [1051, 'Friendly Company', 1], [1052, 'Soldiers of the Caliphate', 2], [1053, 'Basque Fatherland and Freedom (ETA)', 335], [1054, \"Militant People's Revolutionary Forces\", 1], [1055, \"Revolutionary Workers' Council (Kakurokyo)\", 3], [1056, 'Democratic Front for Renewal (FDR)', 1], [1057, 'Revolutionary Military Council', 1], [1058, \"People's Sovereignty Party (PDR)\", 1], [1059, 'Revolutionary Liberation Action (Epanastatiki Apelevtherotiki Drasi) - Greece', 3], [1060, 'Porattom', 1], [1061, 'Al-Herak Al-Tihami Movement', 1], [1062, 'Indian Tigers', 1], [1063, 'United Self Defense Units of Colombia (AUC)', 67], [1064, 'Guadalcanal Liberation Army', 1], [1065, 'Conqueror Army', 2], [1066, 'Jaish Al-Umma (Army of the Nation)', 1], [1067, 'Al-Intiqami al-Pakistani', 2], [1068, 'Turkish Hezbollah', 4], [1069, 'Jadid Al-Qaida Bangladesh (JAQB)', 3], [1070, 'Zionist Resistance Fighters', 1], [1071, 'Bangladesh Nationalist Party (BNP)', 44], [1072, 'National Council for Defense of Democracy (NCDD)', 15], [1073, 'Allied Democratic Forces (ADF)', 50], [1074, 'United Bengali Liberation Front (UBLF)', 3], [1075, 'Iraqi Islamic Vanguards for National Salvation (IIVNS)', 1], [1076, \"Ed'daoua Es'salafia Lilqadha\", 1], [1077, 'Dayak gang', 1], [1078, 'Gilad Shalhevet Brigades', 1], [1079, 'The Black Sun', 1], [1080, 'Democratic Iraqi Opposition of Germany', 1], [1081, 'National Liberation Front of Provence (FLNP)', 2], [1082, 'Pattani United Liberation Organization-MKP (PULO-MKP)', 1], [1083, 'Republican Anticlerical Group', 1], [1084, 'Phineas Priesthood', 4], [1085, 'May 98', 2], [1086, 'Bangsamoro National Liberation Army', 1], [1087, 'The Islamic Revolution to Liberate Palestine', 1], [1088, \"People's Revolutionary Party of Kangleipak-Progressive (PREPAK-P)\", 3], [1089, 'Kurdish Separatists', 2], [1090, 'Retired Soldier', 1], [1091, \"People's Democratic Party (PDP)\", 2], [1092, 'Fulani extremists', 20], [1093, 'Southern Yemen Separatists', 5], [1094, 'Anti-Christian extremists', 1], [1095, 'Albanian extremists', 45], [1096, 'Viviana Gallardo Command', 1], [1097, 'Baloch Liberation Front (BLF)', 34], [1098, 'Andres Castro United Front', 3], [1099, 'White Legion (Ecuador)', 1], [1100, \"Pakistani People's Party (PPP)\", 5], [1101, 'Kuki National Front (KNF)', 7], [1102, 'Informal Anarchist Federation', 33], [1103, 'Civilian Joint Task Force (JTF)', 1], [1104, 'Irish Republican Extremists', 19], [1105, 'National Liberation Front (FNL) (Burundi)', 27], [1106, 'Paramilitary members', 1], [1107, 'Hill Tiger Force (HTF)', 4], [1108, 'Proletariat Self-defense Groups', 3], [1109, 'Raul Ernesto Cruz Leon, Salvadorian', 3], [1110, 'The New Irish Republican Army', 11], [1111, 'Hanchongryun', 1], [1112, 'Serb Radical Party', 1], [1113, 'Islamic Fateh', 1], [1114, \"People's Militia of Dagestan\", 2], [1115, 'Liwa al-Islam', 1], [1116, 'Popular Resistance Brigade', 2], [1117, 'Anonymous Underground Movement (MCA)', 1], [1118, 'Face to Face (Face-a-Face)', 1], [1119, 'Army of Islam', 3], [1120, 'Sudurpaschim Janata Dal', 1], [1121, 'Jarrai', 1], [1122, 'Syrian Mujahideen', 1], [1123, 'United Front for Democratic Change (FUC)', 4], [1124, 'Anarchist Faction', 2], [1125, 'Wild Freedom', 1], [1126, 'Egbema National Front', 1], [1127, 'Anti-Imperialist Territorial Nuclei (NTA)', 2], [1128, \"Indigenous People's Federal Army (IPFA)\", 1], [1129, 'Vigorous Burmese Student Warriors', 2], [1130, 'Special Purpose Islamic Regiment (SPIR)', 3], [1131, 'Save Kashmir Movement', 3], [1132, 'Orange Volunteers (OV)', 11], [1133, 'NVF', 4], [1134, 'Janatantrik Terai Mukti Morcha- Ranbir Singh (JTMM-RS)', 1], [1135, 'Liwa al-Sham', 1], [1136, \"People's Revolutionary Militias (MRP)\", 4], [1137, 'Zomi Revolutionary Army (ZRA)', 1], [1138, 'Mahsud Tribe', 1], [1139, 'Imam Hussein Brigade', 2], [1140, 'Ansar al-Sharia (Tunisia)', 11], [1141, 'Al-Badr', 2], [1142, 'Vanguard of Red Youth (AKM)', 1], [1143, \"Arab People's Group\", 1], [1144, 'Union Parishad', 1], [1145, 'Himali Tigers', 1], [1146, 'Popular Front for Justice in the Congo', 5], [1147, 'Africa Marine Commando', 5], [1148, 'Ethiopian Dongiro tribesmen', 1], [1149, 'El-Feth katibat', 1], [1150, 'Anti-Police extremists', 1], [1151, 'National Army for the Liberation of Uganda (NALU)', 1], [1152, 'Al-Qaida in Iraq', 638], [1153, 'Sungu Sungu', 1], [1154, 'Anti-Nuclear Society for a Silent Counter-Offensive (ANGST)', 1], [1155, 'Anti-State Action', 3], [1156, 'Zetas', 2], [1157, 'Habr Gedir Clan', 1], [1158, 'Chinese Illegal Immigrant', 1], [1159, 'Junaid Jihadist Battalion', 1], [1160, 'Mukhtar Army', 3], [1161, 'Popular Army Vanguards- Battalions of Return', 2], [1162, 'Achik National Volunteer Council (ANVC)', 1], [1163, 'Anti-Clerical Pro-Sex Toys Group', 2], [1164, 'Civil Servants and Unionists', 1], [1165, 'Marhan Clan', 1], [1166, 'Cannibal Army', 4], [1167, 'Justice Army for Defenseless Peoples', 1], [1168, 'Students', 1], [1169, 'Al-Nawaz', 1], [1170, 'Yemenis', 2], [1171, 'Jammu and Kashmir Islamic Front', 3], [1172, 'Jaish Usama', 1], [1173, 'Sayfullakh', 1], [1174, 'Palestinian Extremists', 41], [1175, 'Karenni National Progressive Party', 1], [1176, 'Bhumi Uchched Pratirodh Committee (BUPC)', 1], [1177, 'Islamic Party (Somalia)', 2], [1178, 'Timorese Students', 2], [1179, 'New Revolutionary Alternative (NRA)', 1], [1180, 'Akhilesh Singh Gang', 1], [1181, 'Red Brigades Fighting Communist Party (BR-PCC)', 4], [1182, 'Pakistan Muslim League (PML)', 1], [1183, 'Al-Mansoorian', 17], [1184, 'Sanatan Sanstha', 1], [1185, 'Civil Defense Force (CDF)', 1], [1186, \"The Husayn Ubayyat Martyrs' Brigades\", 1], [1187, 'Anonima Sequestri', 1], [1188, 'Breton Liberation Front (FLB)', 5], [1189, 'Ansar Al Sunnah (Palestine)', 3], [1190, 'Protestant extremists', 22], [1191, 'Movement of Democratic Forces of Casamance', 51], [1192, 'Mozambique National Resistance Movement (MNR)', 20], [1193, 'Shan State Army - South (SSA-S)', 3], [1194, \"Free Democratic People's Government of Laos\", 1], [1195, 'Revolutionary Cells (Argentina)', 2], [1196, 'Mahaz Fedai Tahrik Islami Afghanistan', 3], [1197, 'Moro Islamic Liberation Front (MILF)', 321], [1198, 'Dissident Republican Guard', 1], [1199, 'Danish Neo-Nazi Group', 1], [1200, 'Mateo Morral Insurrectionist Commandos', 2], [1201, 'Social Christian Party (PSC)', 1], [1202, '23 May Democratic Alliance (Algeria)', 3], [1203, 'Ansar al-Islam', 27], [1204, 'Bani Hilal Tribe', 1], [1205, 'Naga National Council (NNC)', 2], [1206, 'Tharuhat Joint Struggle Committee (TJSC)', 2], [1207, 'Avengers of the Infants', 2], [1208, 'Liberians United for Reconciliation and Democracy (LURD)', 6], [1209, 'Al-Qaida in Saudi Arabia', 8], [1210, 'Catholic E. Timurese', 1], [1211, 'Dev Sol', 5], [1212, 'Kamajor Hunters', 2], [1213, 'Jamaica Labor Party', 1], [1214, 'Muslim Fundamentalists', 4], [1215, 'Fedayeen Imam Mahdi', 1], [1216, 'Organization of Soldiers of the Levant', 1], [1217, 'Kurdistan Free Life Party', 11], [1218, 'Shining Path (SL)', 95], [1219, 'Core Conspirators for the Extension of Chaos (Núcleo de Conspiradores por la Extensión de Kaos)', 1], [1220, 'Mujahedin-e Khalq (MEK)', 22], [1221, 'LW', 1], [1222, 'Egyptian Tawhid and Jihad', 2], [1223, 'Anti-Israeli extremists', 1], [1224, 'Al-Qaida in Yemen', 12], [1225, 'Supporters of Sultan Abd-al-Bagi', 1], [1226, 'Communist Party of Nepal- Unified Marxist-Leninist (CPN-UML)', 3], [1227, 'Bahujan Samaj Party', 2], [1228, 'Simon Bolivar Guerrilla Coordinating Board (CGSB)', 2], [1229, 'Janatantrik Terai Mukti Morcha- Goit (JTMM-G)', 27], [1230, 'Hekla Reception Committee-Initiative for More Social Eruptions', 5], [1231, 'Kuki Liberation Army (KLA)', 4], [1232, 'Inkatha Freedom Party (IFP)', 2], [1233, 'Miners', 1], [1234, 'Uganda Federal Democratic Alliance (UFEDA)', 1], [1235, 'Revolutionary United Front (RUF)', 34], [1236, 'Al-Furqan Brigades', 2], [1237, 'Punjabi Taliban', 2], [1238, 'Militia Members', 10], [1239, 'Anti-Kim Jong-il extremists', 1], [1240, 'World Church of the Creator', 6], [1241, 'Irish National Liberation Army (INLA)', 16], [1242, 'All Nepal National Free Student Union-Revolutionary', 3], [1243, 'Bhittani tribe', 1], [1244, 'National Patriotic Front of Liberia (NPFL)', 1], [1245, 'Niger Delta Freedom Fighters (NDDF)', 1], [1246, 'Baloch Liberation Tigers (BLT)', 6], [1247, 'Detonators of Social Uprisings', 1], [1248, 'Okba Ibn Nafaa Brigade', 2], [1249, 'Lashkar-e-Omar', 2], [1250, 'Mujahedeen Shura Council', 8], [1251, 'Ansaru ash-Sharia (Russia)', 1], [1252, 'Shield of Islam Brigade', 2], [1253, 'Draa El Mizan Seriat', 2], [1254, 'Progressive Socialist Party (PSP)', 1], [1255, 'Shia Muslim extremists', 8], [1256, 'Karamojong Warriors', 3], [1257, 'Islami Jamiat-e-Talaba (IJT)', 2], [1258, 'Zemun Clan', 1], [1259, 'International Revolutionary Front', 1], [1260, 'Forces for the Defense of Democracy (FDD)', 5], [1261, 'Islamic Movement of Kashmir', 2], [1262, 'Rabid Brothers of Giuliani', 1], [1263, 'Baloch Republican Army (BRA)', 95], [1264, 'Colombian Patriotic Resistance', 3], [1265, 'Dima Halao Daoga (DHD)', 24], [1266, 'Anti-Communist Command (KAK)', 1], [1267, 'Urban Guerrilla War', 1], [1268, 'Union of Democratic Forces', 1], [1269, \"All Burma Students' Democratic Front (ABSDF)\", 4], [1270, 'The Organization for the Return of Legality', 1], [1271, 'Ansar al-Dine (Mali)', 6], [1272, 'Fuerzas Armadas Revolucionarias del Pueblo (FARP)', 3], [1273, 'Zehri Youth Force (ZYF)', 1], [1274, 'Anti-Abortion extremists', 47], [1275, 'Pataxo Indians', 1], [1276, 'Jumuiya ya Taasisi za Kiislam (Community of Muslim Organizations)', 1], [1277, 'National Liberation Army (Ecuador)', 1], [1278, \"People's Liberation Front of India\", 24], [1279, 'Anti-Government extremists', 27], [1280, 'Rival caste', 5], [1281, 'Jund al-Sahabah Group', 1], [1282, 'Liberation Army for Presevo, Medvedja and Bujanovac (UCPMB)', 3], [1283, \"People's United Liberation Front (PULF)\", 7], [1284, 'Ahrar Al-Jalil (Free People of the Galilee)', 4], [1285, 'The Inevitables', 1], [1286, \"People's Democratic Struggle Movement\", 1], [1287, 'Anti-Liberal extremists', 1], [1288, 'Khalid ibn Walid Brigade', 1], [1289, 'Maori', 1], [1290, 'Bharat Zinc Workers', 1], [1291, 'Al-Madina', 4], [1292, 'Dissident', 1], [1293, 'Militant Forces Against Huntingdon', 1], [1294, 'Iraqi extremists', 11], [1295, 'Revolutionary Nuclei', 12], [1296, 'Clandestini Corsi', 2], [1297, 'Janatantrik Terai Mukti Morcha- Jwala Singh (JTMM-J)', 78], [1298, 'Jihadi Movement of the Sunna People of Iran', 1], [1299, 'Sisters in Arms', 1], [1300, \"People's Committee against Police Atrocities (PCPA)\", 22], [1301, 'Demonstrators', 1], [1302, 'Hushaysh Tribal Members', 1], [1303, 'National Socialist Underground', 14], [1304, 'Buddhist Monks', 34], [1305, 'Ariska Brodraskapet (Aryan Brotherhood)', 1], [1306, 'Umar al-Mukhtar Martyr Forces', 2], [1307, 'Hizbul al Islam (Somalia)', 18], [1308, 'Turkish Revenge Brigade', 1], [1309, 'Karnataka State Farmers Association', 1], [1310, 'The Joint Revolutionary Council', 7], [1311, \"Jama'atul Mujahideen Bangladesh (JMB)\", 22], [1312, 'Al-Qaida in the Arabian Peninsula (AQAP)', 472], [1313, 'National Democratic Alliance Army (NDAA-ESSA)', 1], [1314, 'Tela Mohammed', 1], [1315, 'African National Congress (South Africa)', 2], [1316, 'Karbi Longri North Cachar Liberation Front (KLNLF)', 15], [1317, 'Salafia Jihadia', 5], [1318, 'Sabaot Land Defense Force (SLDF)', 4], [1319, 'Mai Mai Simba Militia', 2], [1320, 'Muslim Brotherhood', 3], [1321, 'Libya Revolutionaries Operations Room (LROR)', 1], [1322, 'Indian Mujahideen', 51], [1323, 'Guaycaipuro Indians', 1], [1324, 'Rival Activists', 8], [1325, 'Samyukta Terai Madhes Mukti Party', 1], [1326, 'Secessionists', 3], [1327, 'Tribesmen, al-Itada', 1], [1328, 'Bougainville Revolutionary Army (BRA)', 6], [1329, '28s', 1], [1330, 'Bangladesh Sarbahara Party', 2], [1331, 'Al-Zaidi Tribe - Mareb', 1], [1332, 'Arbav Martyrs of Khuzestan', 1], [1333, 'Ticuna Indian', 1], [1334, 'Young Communist League', 10]]\n"
     ]
    }
   ],
   "source": [
    "arr = []\n",
    "for _ in range(0,len(op)):\n",
    "    arr.append([_,op[_],a[_]])\n",
    "print(arr)"
   ]
  },
  {
   "cell_type": "code",
   "execution_count": 12,
   "metadata": {},
   "outputs": [],
   "source": [
    "import csv\n",
    "myFile = open('csvexample3.csv', 'w')  \n",
    "with myFile:  \n",
    "   writer = csv.writer(myFile)\n",
    "   writer.writerows(arr)"
   ]
  },
  {
   "cell_type": "code",
   "execution_count": 83,
   "metadata": {},
   "outputs": [
    {
     "name": "stdout",
     "output_type": "stream",
     "text": [
      "232 64084\n"
     ]
    }
   ],
   "source": [
    "import numpy as np\n",
    "fin = []\n",
    "df_fin = (df['gname'])\n",
    "df_f = df[['gname','country','multiple','suicide','attacktype1','targtype1']]\n",
    "#df_f = list(df_f)\n",
    "#print(df_f['gname'])\n",
    "df_fin = list(df_fin)\n",
    "#print(df_fin)\n",
    "#print(df_f['gname'][5])\n",
    "i =101\n",
    "#change\n",
    "for _ in range (0,500):\n",
    "    if df_fin[_] != 'Unknown':\n",
    "        fin.append([df_f['country'][_],df_f['multiple'][_],df_f['suicide'][_],df_f['attacktype1'][_],df_f['targtype1'][_],_])\n",
    "        i = i+1\n",
    "print(len(fin),len(df_fin))"
   ]
  },
  {
   "cell_type": "code",
   "execution_count": 85,
   "metadata": {
    "scrolled": true
   },
   "outputs": [
    {
     "name": "stdout",
     "output_type": "stream",
     "text": [
      "['country', 'multiple', 'suicide', 'attacktype1', 'targtype1', 'gname']\n"
     ]
    }
   ],
   "source": [
    "myFile = open('mastercsv2.csv', 'w')  \n",
    "fields = ['country','multiple','suicide','attacktype1','targtype1']\n",
    "fields.append('gname')\n",
    "print(fields)\n",
    "with myFile:  \n",
    "   writer = csv.writer(myFile)\n",
    "   writer.writerow(fields)\n",
    "   writer.writerows(fin)"
   ]
  },
  {
   "cell_type": "code",
   "execution_count": 70,
   "metadata": {},
   "outputs": [],
   "source": [
    "finarr = fin\n",
    "for _ in range(0,len(fin)):\n",
    "    finarr.append([])\n",
    "    for l in range(0,len(op)):\n",
    "        if(op[l]==df_fin[_]):\n",
    "            finarr[_].append(1)\n",
    "        else:\n",
    "            finarr[_].append(0)"
   ]
  },
  {
   "cell_type": "code",
   "execution_count": 16,
   "metadata": {},
   "outputs": [
    {
     "name": "stdout",
     "output_type": "stream",
     "text": [
      "1340 53120\n"
     ]
    }
   ],
   "source": [
    "myFile = open('resultcsv1.csv', 'w')\n",
    "fields = ['country','multiple','suicide','attacktype1','targtype1']\n",
    "for k in range(0,len(op)):\n",
    "    fields.append(op[k])\n",
    "print(len(fields),len(finarr))\n",
    "#for _ in finarr:\n",
    "#    fields.append(_)\n",
    "#fields.append('gname')\n",
    "with myFile:\n",
    "   writer = csv.writer(myFile)\n",
    "   writer.writerow(fields)\n",
    "   writer.writerows(fin)"
   ]
  },
  {
   "cell_type": "code",
   "execution_count": 1,
   "metadata": {},
   "outputs": [
    {
     "name": "stderr",
     "output_type": "stream",
     "text": [
      "/usr/lib/python3.5/importlib/_bootstrap.py:222: RuntimeWarning: numpy.dtype size changed, may indicate binary incompatibility. Expected 96, got 88\n",
      "  return f(*args, **kwds)\n",
      "/usr/lib/python3.5/importlib/_bootstrap.py:222: RuntimeWarning: numpy.dtype size changed, may indicate binary incompatibility. Expected 96, got 88\n",
      "  return f(*args, **kwds)\n",
      "/usr/lib/python3.5/importlib/_bootstrap.py:222: RuntimeWarning: numpy.dtype size changed, may indicate binary incompatibility. Expected 96, got 88\n",
      "  return f(*args, **kwds)\n",
      "/usr/lib/python3.5/importlib/_bootstrap.py:222: RuntimeWarning: numpy.dtype size changed, may indicate binary incompatibility. Expected 96, got 88\n",
      "  return f(*args, **kwds)\n",
      "/usr/lib/python3.5/importlib/_bootstrap.py:222: RuntimeWarning: numpy.dtype size changed, may indicate binary incompatibility. Expected 96, got 88\n",
      "  return f(*args, **kwds)\n",
      "/home/siddharth/.local/lib/python3.5/site-packages/sklearn/cross_validation.py:41: DeprecationWarning: This module was deprecated in version 0.18 in favor of the model_selection module into which all the refactored classes and functions are moved. Also note that the interface of the new CV iterators are different from that of this module. This module will be removed in 0.20.\n",
      "  \"This module will be removed in 0.20.\", DeprecationWarning)\n"
     ]
    }
   ],
   "source": [
    "import pandas as pd\n",
    "import numpy as np\n",
    "from sklearn import linear_model\n",
    "from sklearn import metrics\n",
    "from sklearn.cross_validation import train_test_split\n",
    "\n",
    "import plotly.graph_objs as go\n",
    "import plotly.plotly as py\n",
    "from plotly.graph_objs import *\n",
    "py.sign_in('singhaisid0', 'HxcQupFJfhxnyI9uqYay')"
   ]
  },
  {
   "cell_type": "code",
   "execution_count": 2,
   "metadata": {},
   "outputs": [
    {
     "name": "stdout",
     "output_type": "stream",
     "text": [
      "       69  1  0  3  1.1   0.1\n",
      "0      69  1  0  3    1     1\n",
      "1      69  1  0  3    1    14\n",
      "2      69  1  0  3    1    15\n",
      "3      69  1  0  3    1    16\n",
      "4      69  0  0  1    2    17\n",
      "5     603  0  0  1   14    19\n",
      "6     142  0  0  3    1    20\n",
      "7      92  0  0  3   14    46\n",
      "8     186  0  0  3   16    49\n",
      "9      36  0  0  3   14    50\n",
      "10     45  0  0  3    3    51\n",
      "11     69  0  0  3    2    52\n",
      "12    142  0  0  7    1    53\n",
      "13    142  0  0  7    7    54\n",
      "14    142  0  0  7    7    55\n",
      "15    186  0  0  1   14    56\n",
      "16     69  0  0  3    4    58\n",
      "17     75  1  0  7    1    59\n",
      "18     75  1  0  7    1    60\n",
      "19     75  1  0  7    1    61\n",
      "20     75  1  0  7    1    62\n",
      "21     75  1  0  7    1    63\n",
      "22     75  0  0  7    1    64\n",
      "23     75  0  0  7    1    65\n",
      "24     78  0  0  7    6    66\n",
      "25     45  0  0  3   16    70\n",
      "26     69  0  0  3    2    71\n",
      "27    183  0  0  2    2    75\n",
      "28     60  0  0  2    1    76\n",
      "29    160  0  0  2   14    79\n",
      "...   ... .. .. ..  ...   ...\n",
      "2187    6  0  0  9   14  4914\n",
      "2188   70  0  0  7    3  4917\n",
      "2189  110  0  0  3   14  4918\n",
      "2190  198  0  0  3   14  4923\n",
      "2191    6  0  0  9   14  4924\n",
      "2192   28  0  0  7   14  4925\n",
      "2193  228  0  0  6   14  4940\n",
      "2194   45  0  0  1   14  4944\n",
      "2195   92  0  0  3    3  4945\n",
      "2196    6  0  0  2   14  4950\n",
      "2197  104  0  0  9    3  4955\n",
      "2198  174  0  0  2    4  4957\n",
      "2199   45  0  0  1    2  4963\n",
      "2200   75  0  0  8   14  4965\n",
      "2201    6  0  0  2   14  4970\n",
      "2202   45  0  0  9    4  4971\n",
      "2203   45  1  0  3    1  4972\n",
      "2204   45  1  0  3    1  4973\n",
      "2205   75  0  0  7   14  4974\n",
      "2206  159  0  0  9   14  4975\n",
      "2207  160  0  0  2    3  4976\n",
      "2208   45  0  0  1    3  4982\n",
      "2209   92  0  0  3    7  4984\n",
      "2210   92  0  0  3    3  4985\n",
      "2211   92  0  0  2   14  4987\n",
      "2212   92  0  0  2   14  4988\n",
      "2213  209  0  0  3   19  4990\n",
      "2214    6  0  0  9   14  4994\n",
      "2215   45  0  0  2    1  4996\n",
      "2216   45  0  0  1    2  4998\n",
      "\n",
      "[2217 rows x 6 columns]\n"
     ]
    }
   ],
   "source": [
    "gname_data = pd.read_csv(\"/home/siddharth/mastercsv.csv\")\n",
    "print(gname_data)"
   ]
  },
  {
   "cell_type": "code",
   "execution_count": 3,
   "metadata": {},
   "outputs": [],
   "source": [
    "DATASET_PATH = \"/home/siddharth/mastercsv.csv\""
   ]
  },
  {
   "cell_type": "code",
   "execution_count": 73,
   "metadata": {},
   "outputs": [
    {
     "name": "stdout",
     "output_type": "stream",
     "text": [
      "hey3\n",
      "      country  multiple  suicide  attacktype1  targtype1\n",
      "241        36         0        0            3         14\n",
      "1470      217         0        0            7          5\n",
      "2151       45         0        0            6          2\n",
      "1003       45         0        0            9          3\n",
      "1249      186         0        0            1         20\n",
      "646       186         0        0            2          3\n",
      "2112      603         0        0            3          4\n",
      "554       185         0        0            3          4\n",
      "1642       69         1        0            3          1\n",
      "278        19         0        0            9         14\n",
      "1664       69         0        0            3         14\n",
      "877       186         0        0            6         11\n",
      "1684      186         0        0            3         14\n",
      "263        19         0        0            2          3\n",
      "591        36         1        0            9         14\n",
      "1341       78         1        0            7          2\n",
      "1535      168         0        0            2         12\n",
      "319        19         0        0            3          2\n",
      "1957        6         0        0            2         14\n",
      "596       153         0        0            7          2\n",
      "2173      222         0        0            9          1\n",
      "1538        6         0        0            2         15\n",
      "1665        6         0        0            9         14\n",
      "1430       45         0        0            3          3\n",
      "1643       69         1        0            3          1\n",
      "569        69         1        0            3          6\n",
      "1648       69         1        0            3          2\n",
      "1059       92         1        0            3          2\n",
      "925       185         0        0            3         18\n",
      "2102       45         1        0            2         19\n",
      "...       ...       ...      ...          ...        ...\n",
      "1335      185         0        0            3          1\n",
      "292        30         0        0            7          2\n",
      "1983      235         0        0            9         14\n",
      "93         93         0        0            2          4\n",
      "15        142         0        0            7          7\n",
      "377       160         0        0            2          4\n",
      "1754      138         1        0            9         15\n",
      "825       201         0        0            6          2\n",
      "268       603         0        0            3         14\n",
      "969        45         1        0            9         14\n",
      "2000      603         0        0            1         14\n",
      "279        19         0        0            2         14\n",
      "2081       45         1        0            2         19\n",
      "2010       93         0        0            2         14\n",
      "40         69         1        0            3         20\n",
      "1670      186         0        0            1         14\n",
      "1970       45         0        0            6          2\n",
      "860        60         0        0            1          3\n",
      "2210       92         0        0            3          7\n",
      "622        92         0        0            3          3\n",
      "1866       93         0        0            7          2\n",
      "752       217         1        0            2          1\n",
      "766        36         0        0            6         14\n",
      "2147      145         0        0            2          3\n",
      "930        69         1        0            3          2\n",
      "603        92         1        0            2          3\n",
      "477        75         0        0            9         19\n",
      "269        19         0        0            1         14\n",
      "2156      217         0        0            7          1\n",
      "864         4         0        0            3         14\n",
      "\n",
      "[1552 rows x 5 columns] 241      517\n",
      "1470    3063\n",
      "2151    4800\n",
      "1003    2052\n",
      "1249    2428\n",
      "646     1345\n",
      "2112    4655\n",
      "554     1185\n",
      "1642    3360\n",
      "278      591\n",
      "1664    3410\n",
      "877     1813\n",
      "1684    3440\n",
      "263      568\n",
      "591     1235\n",
      "1341    2665\n",
      "1535    3197\n",
      "319      679\n",
      "1957    4192\n",
      "596     1243\n",
      "2173    4861\n",
      "1538    3201\n",
      "1665    3411\n",
      "1430    2942\n",
      "1643    3361\n",
      "569     1203\n",
      "1648    3366\n",
      "1059    2132\n",
      "925     1924\n",
      "2102    4628\n",
      "        ... \n",
      "1335    2640\n",
      "292      615\n",
      "1983    4298\n",
      "93       146\n",
      "15        55\n",
      "377      804\n",
      "1754    3641\n",
      "825     1678\n",
      "268      579\n",
      "969     1994\n",
      "2000    4333\n",
      "279      592\n",
      "2081    4607\n",
      "2010    4383\n",
      "40        90\n",
      "1670    3418\n",
      "1970    4246\n",
      "860     1765\n",
      "2210    4984\n",
      "622     1288\n",
      "1866    3875\n",
      "752     1562\n",
      "766     1595\n",
      "2147    4773\n",
      "930     1937\n",
      "603     1254\n",
      "477     1019\n",
      "269      580\n",
      "2156    4813\n",
      "864     1771\n",
      "Name: gname, Length: 1552, dtype: int64\n",
      "hey2\n",
      "hey1\n"
     ]
    },
    {
     "name": "stderr",
     "output_type": "stream",
     "text": [
      "/home/siddharth/.local/lib/python3.5/site-packages/sklearn/utils/optimize.py:203: ConvergenceWarning:\n",
      "\n",
      "newton-cg failed to converge. Increase the number of iterations.\n",
      "\n"
     ]
    }
   ],
   "source": [
    "def main():\n",
    "    glass_data_headers = ['country','multiple','suicide','attacktype1','targtype1','gname']\n",
    "\n",
    "    glass_data = pd.read_csv(DATASET_PATH, names=glass_data_headers)\n",
    "    print(\"hey3\")\n",
    "    train_x, test_x, train_y, test_y = train_test_split(glass_data[glass_data_headers[:-1]],glass_data[glass_data_headers[-1]], train_size=0.7)\n",
    "    \n",
    "    print(\"hey2\")\n",
    "    # Train multinomial logistic regression\n",
    "    mul_lr = linear_model.LogisticRegression(multi_class='multinomial', solver='newton-cg').fit(train_x, train_y)\n",
    "    print('hey1')\n",
    " \n",
    " \n",
    "if __name__ == \"__main__\":\n",
    "    main()"
   ]
  },
  {
   "cell_type": "code",
   "execution_count": 29,
   "metadata": {
    "scrolled": true
   },
   "outputs": [
    {
     "name": "stdout",
     "output_type": "stream",
     "text": [
      "Number of observations ::  2218\n",
      "Number of columns ::  6\n",
      "Headers ::  ['country' 'multiple' 'suicide' 'attacktype1' 'targtype1' 'gname']\n",
      "Target ::  0          0\n",
      "1          1\n",
      "2         14\n",
      "3         15\n",
      "4         16\n",
      "5         17\n",
      "6         19\n",
      "7         20\n",
      "8         46\n",
      "9         49\n",
      "10        50\n",
      "11        51\n",
      "12        52\n",
      "13        53\n",
      "14        54\n",
      "15        55\n",
      "16        56\n",
      "17        58\n",
      "18        59\n",
      "19        60\n",
      "20        61\n",
      "21        62\n",
      "22        63\n",
      "23        64\n",
      "24        65\n",
      "25        66\n",
      "26        70\n",
      "27        71\n",
      "28        75\n",
      "29        76\n",
      "        ... \n",
      "2188    4914\n",
      "2189    4917\n",
      "2190    4918\n",
      "2191    4923\n",
      "2192    4924\n",
      "2193    4925\n",
      "2194    4940\n",
      "2195    4944\n",
      "2196    4945\n",
      "2197    4950\n",
      "2198    4955\n",
      "2199    4957\n",
      "2200    4963\n",
      "2201    4965\n",
      "2202    4970\n",
      "2203    4971\n",
      "2204    4972\n",
      "2205    4973\n",
      "2206    4974\n",
      "2207    4975\n",
      "2208    4976\n",
      "2209    4982\n",
      "2210    4984\n",
      "2211    4985\n",
      "2212    4987\n",
      "2213    4988\n",
      "2214    4990\n",
      "2215    4994\n",
      "2216    4996\n",
      "2217    4998\n",
      "Name: gname, Length: 2218, dtype: int64\n",
      "graphs\n",
      "fit\n",
      "Logistic regression Train Accuracy ::  0.01002004008016032\n",
      "Logistic regression Test Accuracy ::  0.0\n",
      "Multinomial Logistic regression Train Accuracy ::  0.15531062124248496\n",
      "Multinomial Logistic regression Test Accuracy ::  0.0\n"
     ]
    },
    {
     "name": "stderr",
     "output_type": "stream",
     "text": [
      "/home/siddharth/.local/lib/python3.5/site-packages/sklearn/utils/optimize.py:203: ConvergenceWarning:\n",
      "\n",
      "newton-cg failed to converge. Increase the number of iterations.\n",
      "\n"
     ]
    }
   ],
   "source": [
    "def main():\n",
    "    gname_headers = ['country','multiple','suicide','attacktype1','targtype1','gname']\n",
    "\n",
    "    gname_data = pd.read_csv('/home/siddharth/mastercsv.csv', names=gname_headers)\n",
    "\n",
    "    print (\"Number of observations :: \", len(gname_data.index))\n",
    "    print (\"Number of columns :: \", len(gname_data.columns))\n",
    "    print (\"Headers :: \", gname_data.columns.values)\n",
    "    print (\"Target :: \", gname_data[gname_headers[-1]])\n",
    "    #Train , Test data split\n",
    "\n",
    "    #print \"gname_data_RI :: \", list(gname_data[\"RI\"][:10])\n",
    "    #print \"gname_data_target :: \", np.array([1, 1, 1, 2, 2, 3, 4, 5, 6, 7])\n",
    "    graph_labels = [\"Number of Observations\", \"RI & Glass Type\", \"Sample RI - Glass Type Density Graph\"]\n",
    "    # scatter_with_color_dimension_graph(list(glass_data[\"RI\"][:10]),\n",
    "    #                                    np.array([1, 1, 1, 2, 2, 3, 4, 5, 6, 7]), graph_labels)\n",
    "    print(\"graphs\")\n",
    "    # print \"glass_data_headers[:-1] :: \", glass_data_headers[:-1]\n",
    "    # print \"glass_data_headers[-1] :: \", glass_data_headers[-1]\n",
    "    # create_density_graph(glass_data, glass_data_headers[1:-1], glass_data_headers[-1])\n",
    "\n",
    "    y = gname_data[gname_headers[-1]]\n",
    "    #y = np.array(y).reshape((len(y), 1))\n",
    "\n",
    "    train_x, test_x, train_y, test_y = train_test_split(gname_data[gname_headers[0:-1]],y, train_size=0.9)\n",
    "    # Train multi-classification model with logistic regression\n",
    "    #from sklearn.preprocessing import StandardScaler\n",
    "    #sc_X = StandardScaler()\n",
    "    \n",
    "    #train_x = sc_X.fit_transform(train_x)\n",
    "    #test_x = sc_X.transform(test_x)\n",
    "    #sc_y = StandardScaler()\n",
    "    #train_y = sc_y.fit_transform(train_y)\n",
    "    #test_y = sc_y.fit_transform(test_y)\n",
    "    lr = linear_model.LogisticRegression()\n",
    "    lr.fit(train_x, train_y.astype('int'))\n",
    "    print(\"fit\")\n",
    "\n",
    "    # Train multinomial logistic regression model\n",
    "    mul_lr = linear_model.LogisticRegression(multi_class='multinomial', solver='newton-cg').fit(train_x, train_y)\n",
    "\n",
    "    print (\"Logistic regression Train Accuracy :: \", metrics.accuracy_score(train_y, lr.predict(train_x)))\n",
    "    print (\"Logistic regression Test Accuracy :: \", metrics.accuracy_score(test_y, lr.predict(test_x)))\n",
    "        \n",
    "    print (\"Multinomial Logistic regression Train Accuracy :: \", metrics.accuracy_score(train_y, mul_lr.predict(train_x)))\n",
    "    print (\"Multinomial Logistic regression Test Accuracy :: \", metrics.accuracy_score(test_y, mul_lr.predict(test_x)))\n",
    "main()"
   ]
  },
  {
   "cell_type": "code",
   "execution_count": null,
   "metadata": {},
   "outputs": [],
   "source": []
  }
 ],
 "metadata": {
  "kernelspec": {
   "display_name": "Python 3",
   "language": "python",
   "name": "python3"
  },
  "language_info": {
   "codemirror_mode": {
    "name": "ipython",
    "version": 3
   },
   "file_extension": ".py",
   "mimetype": "text/x-python",
   "name": "python",
   "nbconvert_exporter": "python",
   "pygments_lexer": "ipython3",
   "version": "3.5.2"
  }
 },
 "nbformat": 4,
 "nbformat_minor": 2
}

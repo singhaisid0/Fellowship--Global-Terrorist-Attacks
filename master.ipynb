{
 "cells": [
  {
   "cell_type": "code",
   "execution_count": 1,
   "metadata": {},
   "outputs": [
    {
     "data": {
      "text/plain": [
       "'As this model is developed for problem case: \"Use attack type, weapons used, description of the attack, etc. to build a model that can predict what group may have been responsible for an incident. \\n\"\\nwhere I have used multi-class logistic regression.\\n'"
      ]
     },
     "execution_count": 1,
     "metadata": {},
     "output_type": "execute_result"
    }
   ],
   "source": [
    "'''As this model is developed for problem case: \"Use attack type, weapons used, description of the attack, etc. to build a model that can predict what group may have been responsible for an incident. \n",
    "\"\n",
    "where I have used multi-class logistic regression.\n",
    "'''"
   ]
  },
  {
   "cell_type": "code",
   "execution_count": 2,
   "metadata": {},
   "outputs": [
    {
     "name": "stderr",
     "output_type": "stream",
     "text": [
      "/usr/lib/python3.5/importlib/_bootstrap.py:222: RuntimeWarning: numpy.dtype size changed, may indicate binary incompatibility. Expected 96, got 88\n",
      "  return f(*args, **kwds)\n"
     ]
    }
   ],
   "source": [
    "import pandas as pd"
   ]
  },
  {
   "cell_type": "code",
   "execution_count": 3,
   "metadata": {},
   "outputs": [],
   "source": [
    "df = pd.read_excel(\"gtd_96to13_0718dist.xlsx\")"
   ]
  },
  {
   "cell_type": "code",
   "execution_count": 4,
   "metadata": {},
   "outputs": [
    {
     "data": {
      "text/plain": [
       "'I have imported data file using pandas to using pandas'"
      ]
     },
     "execution_count": 4,
     "metadata": {},
     "output_type": "execute_result"
    }
   ],
   "source": [
    "'''I have imported data file using pandas to using pandas'''"
   ]
  },
  {
   "cell_type": "code",
   "execution_count": 5,
   "metadata": {},
   "outputs": [],
   "source": [
    "df1 = df['gname']"
   ]
  },
  {
   "cell_type": "code",
   "execution_count": 6,
   "metadata": {},
   "outputs": [
    {
     "name": "stdout",
     "output_type": "stream",
     "text": [
      "0                                     Corsican Separatists\n",
      "1                                     Corsican Separatists\n",
      "2                                                  Unknown\n",
      "3                                                  Unknown\n",
      "4                                                  Unknown\n",
      "5                                                  Unknown\n",
      "6                                                  Unknown\n",
      "7                                                  Unknown\n",
      "8                                                  Unknown\n",
      "9                                                  Unknown\n",
      "10                                                 Unknown\n",
      "11                                                 Unknown\n",
      "12                                                 Unknown\n",
      "13                                                 Unknown\n",
      "14                                    Corsican Separatists\n",
      "15                                    Corsican Separatists\n",
      "16                                    Corsican Separatists\n",
      "17                                    Corsican Separatists\n",
      "18                                                 Unknown\n",
      "19                      Direct Action Against Drugs (DADD)\n",
      "20       Anti-Nuclear Society for a Silent Counter-Offe...\n",
      "21                                                 Unknown\n",
      "22                                                 Unknown\n",
      "23                                                 Unknown\n",
      "24                                                 Unknown\n",
      "25                                                 Unknown\n",
      "26                                                 Unknown\n",
      "27                                                 Unknown\n",
      "28                                                 Unknown\n",
      "29                                                 Unknown\n",
      "                               ...                        \n",
      "64054                                              Unknown\n",
      "64055               Ansar Bayt al-Maqdis (Ansar Jerusalem)\n",
      "64056                                              Unknown\n",
      "64057                                              Unknown\n",
      "64058                                              Unknown\n",
      "64059                                              Unknown\n",
      "64060                                              Unknown\n",
      "64061                                              Unknown\n",
      "64062                                              Unknown\n",
      "64063                                              Unknown\n",
      "64064                                              Unknown\n",
      "64065                                              Unknown\n",
      "64066                                              Unknown\n",
      "64067                                              Unknown\n",
      "64068                                  Anti-Balaka Militia\n",
      "64069                                              Unknown\n",
      "64070                                              Unknown\n",
      "64071                                              Unknown\n",
      "64072                                    Fulani extremists\n",
      "64073                                   Israeli extremists\n",
      "64074           Bangsamoro Islamic Freedom Movement (BIFM)\n",
      "64075           Bangsamoro Islamic Freedom Movement (BIFM)\n",
      "64076                                              Unknown\n",
      "64077                                              Unknown\n",
      "64078                                              Maoists\n",
      "64079                                              Maoists\n",
      "64080                                              Unknown\n",
      "64081        Mozambique National Resistance Movement (MNR)\n",
      "64082                                              Unknown\n",
      "64083          Islamic State of Iraq and the Levant (ISIL)\n",
      "Name: gname, Length: 64084, dtype: object\n"
     ]
    }
   ],
   "source": [
    "print(df1)"
   ]
  },
  {
   "cell_type": "code",
   "execution_count": 7,
   "metadata": {},
   "outputs": [
    {
     "data": {
      "text/plain": [
       "'looked at the terrorist groups to analyze result which is required to predict for \"Unknown\" '"
      ]
     },
     "execution_count": 7,
     "metadata": {},
     "output_type": "execute_result"
    }
   ],
   "source": [
    "'''looked at the terrorist groups to analyze result which is required to predict for \"Unknown\" '''"
   ]
  },
  {
   "cell_type": "code",
   "execution_count": 8,
   "metadata": {},
   "outputs": [],
   "source": [
    "set_df = set(df1)"
   ]
  },
  {
   "cell_type": "code",
   "execution_count": 9,
   "metadata": {},
   "outputs": [
    {
     "name": "stdout",
     "output_type": "stream",
     "text": [
      "{'Thavar Caste', 'Ashuar Tribe', 'Purbo Banglar Communist Party', 'Islamic Movement of Uzbekistan (IMU)', 'Al-Umar Mujahideen', \"Ansaru (Jama'atu Ansarul Muslimina Fi Biladis Sudan)\", 'Zintani Militia', 'Bangladesh Nationalist Party (BNP)', 'U/I Somali Militiamen', 'Arsonists', 'Grupo de Combatientes Populares', 'African National Congress (South Africa)', 'Combat 18', 'Anarchist Faction', 'Jaish Al-Umma (Army of the Nation)', 'Anti-Racist Guerrilla Nuclei', 'Abkhazian guerrillas', 'Black Mambas', \"People's United Liberation Front (PULF)\", 'Baloch Liberation Front (BLF)', 'Al-Qaida in the Arabian Peninsula (AQAP)', \"Militant People's Revolutionary Forces\", 'Orange Volunteers (OV)', 'Black and Red Anarchist and Anti-Authoritarians Initiative (Greece)', 'Alex Boncayao Brigade (ABB)', 'Oglaigh na hEireann', 'Ijaw extremists', 'Soldiers of the Caliphate', 'Anarchist Squad', 'Jundallah (Pakistan)', 'Bin Zabyan Tribesmen', 'Gang', 'Shinwari Tribe', 'Eastern Turkistan Islamic Movement (ETIM)', 'Riyadus-Salikhin Reconnaissance and Sabotage Battalion of Chechen Martyrs', 'Islamic Jihad Organization (Yemen)', 'Junaid Jihadist Battalion', 'Popular Front for Recovery (FPR)', 'Revolutionary Force', 'Armenian nationalists', 'Korubo Tribe', 'Supporters of Muse Sudi Yalahow', 'Deccan Mujahideen', 'National Committee for the Restoration of Democracy and State (CNRDR)', 'Mayi Mayi', 'Jamaat Tauhid Wal Jihad (Pakistan)', 'Young Liberators of Pattani', 'Forbidden Blockade (Greece)', 'Zionist Resistance Fighters', 'Arsonists for Social Cohesion', 'Al-Naqshabandiya Army', 'Fuerzas Armadas Revolucionarias del Pueblo (FARP)', 'Al-Qaida Organization for Jihad in Sweden', 'Islamic Front for the Liberation of Bahrain', 'Al-Yemenia al-Ulia Tribesmen', 'Karbi National Volunteers (KNV)', 'Popular Revolutionary Action', 'Irish Republican Army (IRA)', 'Lashkar-e-Jhangvi', 'Haika', 'Holders of the Black Banners', 'Mahdaviyat', 'Freedom Eagles of Africa', 'Al-Shuda Brigade', 'Communist Party of India- Marxist', 'Oromo Liberation Front', 'Islamic Movement of Iraqi Mujahidin', 'Anti-Government extremists', 'Ansar al-Sharia (Libya)', 'Epanastatiki Anatropi (Revolutionary Overthrow)', 'Gangs of Conscience', 'Makhachkala Gang', 'Continuity Irish Republican Army (CIRA)', 'Sindhudesh Revolutionary Army (SRA)', 'Revenge of the Trees', 'Free Syrian Army', 'Syrian Army deserters', 'Janatantrik Terai Mukti Morcha- Bisphot Singh (JTMM-B)', 'National League for Democracy', 'Tehrik-e-Taliban Islami (TTI)', 'Direct Action Against Drugs (DADD)', 'Hutu extremists', 'Congolese Rally for Democracy (RCD)', 'Loyalist Action Force', 'Hofstad Network', 'Face to Face (Face-a-Face)', 'Ansaru ash-Sharia (Russia)', 'Takfir wal-Hijra (Excommunication and Exodus)', 'Youth of Islamic Awakening', 'Vanguards of the Caliphate', \"People's Revolutionary Army (ERP)\", \"The Nation's Army\", 'Hizbul Mujahideen (HM)', 'East Timorese extremists', 'Anti-Bhutto demonstrators', 'Hushaysh Tribal Members', 'Liwa al-Haqq', 'Anti-Apostate Movement Alliance (AGAP)', 'Liwa al-Sham', 'Ansar al-Dine (Mali)', 'Anti-Independence extremists', 'Jaish Usama', 'Popular Movement for the Liberation of Angola', 'Sardinian Autonomy Movement', 'People Against Gangsterism and Drugs (PAGAD)', 'Khalid ibn Walid Brigade', 'David Yau Yau Militia', 'Enraged Revolutionaries', 'Habr Gedir Clan', 'Harkat ul Ansar', 'Pattani United Liberation Organization (PULO)', 'Tela Mohammed', 'Individuals Tending Toward Savagery', 'Bedouin Movement (Sudan)', 'Azawad National Liberation Movement (MNLA)', 'Anti-State Action', 'Justice and Equality Movement (JEM)', 'Anti-Gentrification Front', 'Sipah-I-Mohammed', \"Lord's Resistance Army (LRA)\", 'Anonima Sequestri', 'Congolese Democratic Coalition', 'Anti-Nuclear Society for a Silent Counter-Offensive (ANGST)', 'Retired Soldier', 'Islamic Courts Union (ICU)', 'Mahaz Fedai Tahrik Islami Afghanistan', 'Jewish Extremists', 'Khasi Students Union', 'Uighur Separatists', 'U/I Snipers', 'Likud Political Party', 'Secessionists', 'Unknown', 'Amr Bil Maroof Wa Nahi Anil Munkir', 'Opposition Group', 'Salafi Extremists', 'Fighting Guerrilla Formation', 'Lufa Tribesmen', 'May 98', 'Al-Qaida in Lebanon', 'Mahidi', 'Supporters of General Lino Oviedo', 'Anti-State Justice', 'Union of Chadian Forces (UFNT)', 'Kuki National Front (KNF)', 'Samyukta Terai Madhes Mukti Party', 'Tehrik al-Mojahedin', 'Al-Hamas Mujahideen', 'Sandinista National Liberation Front (FSLN)', 'Comando Bautista B', 'Belarusian Liberation Army', 'National Liberation Army (NLA) (Macedonia)', 'Baathist extremists', 'Pataxo Indians', 'Ninjas', 'French Armed Islamic Front', 'Vanuatu Mobile Force (VMF)', 'Arbav Martyrs of Khuzestan', 'Supporters of Ali Abdullah Saleh', 'Bru National Liberation Front (BNLF)', 'Tupac Amaru Revolutionary Movement (MRTA)', \"People's Liberation Army (India)\", 'Al-Toaiman Tribesmen', 'Turkestan Islamic Party', 'Sudanese Rebels', 'Borderless Solidarity Cell (BSC)', 'Islamic Fateh', 'Afridi Tribe', 'Tribal Separatists', 'Ulster Volunteer Force (UVF)', 'Student Militants', 'Anti-Kim Jong-il extremists', 'Opposition Militants', 'Otpor', 'Adan Abyan Islamic Army (AAIA)', 'Egbesu Youths of the Bayelsa', 'Muslim Militants', 'Global Intifada', 'Vietnamese', 'Janatantrik Terai Mukti Morcha- Rajan Mukti (JTMM-R)', \"People's Revolutionary Party of Kangleipak (PREPAK)\", 'Hizbul al Islam (Somalia)', 'Gholam Yahya Akbar', 'Egyptian Tawhid and Jihad', 'Madhesh Mukti Sangram (MMS)', 'South Sudan Democratic Army', 'Pro-LGBT Rights extremists', 'Jihadi Movement of the Sunna People of Iran', 'Delta Democratic Militia', 'Mai Mai Simba Militia', 'Supporters of Ernest Wamba dia Wamba', 'Afrikaner Resistance Movement (AWB)', 'Asbat al-Ansar', 'Munadil al-Jumalyi Brigade', 'Conqueror Army', 'Demonstrators', 'Albanian National Army (ANA)', 'Baloch Republican Army (BRA)', 'Mongolian Mukti Morcha', 'Mateo Morral Insurrectionist Commandos', 'Musa Sudi Yalahow Militia', 'Samyukta Janatantrik Terai Mukti Morcha (SJTMM)', 'Neo-Nazi extremists', 'National Democratic Alliance of Sudan', 'Nepali Congress Party (NC)', '14 March Coalition', 'Revolutionary Continuity', 'Al-Shabaab', 'Islamic State of Iraq and the Levant (ISIL)', 'Basque extremists', 'Revolutionary Violence Units', 'Army of State Liberators', 'Bunda Dia Kongo (BDK)', 'Terai Cobra', 'Right-Wing Death Squad', 'Avengers of the Infants', 'Jaish-e-Mohammad (Iraq)', 'Ansar Al Sunnah (Palestine)', 'Ansar Bayt al-Maqdis (Ansar Jerusalem)', 'Tehrik-e-Nafaz-e-Shariat-e-Mohammadi (TNSM)', 'Miners', 'Jaish-e-Islam', 'Baloch National Liberation Front', 'Incendiary Committee of Solidarity for Detainees', 'Supporters of Colonel Mahmud Khudoyberdiyev', 'Kurdistan Freedom Hawks (TAK)', 'Council for the Destruction of Order', 'Maoist Communist Party of Manipur', 'Ayesha bint al-Sadiq Brigade', 'M-19 (Movement of April 19)', 'May 15', 'Movement for Democratic Change (MDC)', 'Social Christian Party (PSC)', 'United Baloch Army (UBA)', 'White extremists', 'United Achik Liberation Army (UALA)', 'Zimbabwe African Nationalist Union (ZANU)', 'Kangleipak Communist Party (KCP)', 'Jaish al-Adl', 'Anti-Gun Control extremists', 'Pro Hartal Activists', 'Okba Ibn Nafaa Brigade', 'Clandestini Corsi', 'Mujahideen Youth Movement (MYM)', 'United Democratic Terai Liberation Front (UDTLF)', 'Serb demonstrators', 'Sudan Liberation Movement', 'Serbian extremists', '28s', 'Saif-ul-Muslimeen', 'Banner of Islam', 'Muttahida Qami Movement (MQM)', 'Jamiat ul-Mujahedin (JuM)', 'Terai Army', 'Harkatul Jihad-e-Islami', 'Veterans United for Non-Religious Memorials', 'Zehri Youth Force (ZYF)', 'Democratic Front for Renewal (FDR)', 'Shan State Army - South (SSA-S)', 'Anarchist Action (CA / United States)', 'Jaish al-Mukhtar', 'Kenya African National Union (KANU)', 'Union Parishad', '1920 Revolution Brigades', 'Anti-Nuclear extremists', 'The Organization for the Return of Legality', 'Union of Revolutionary Communists in Turkey (TIKB)', 'Ku Klux Klan', 'Democratic Front for the Liberation of Palestine (DFLP)', 'Croatians', 'Shan United Revolutionary Army', 'All Karanataka Youth Council', 'Tutsi extremists', 'Farmers', 'Al-Qaida in the Islamic Maghreb (AQIM)', 'Taliban (Pakistan)', 'Forces for the Defense of Democracy (FDD)', 'Ethiopians', 'Popular Resistance Committees', 'Dayak gang', 'CCCCC', 'Nationalist Integrationist Front (FNI)', 'Dissident Republicans', 'Babbar Khalsa International (BKI)', 'Red Sea Afar Democratic Organization (RSADO)', 'Gono Bahini (GB)', 'Mahdi Army', 'Izberbash Gang', 'The Islamic Revolution to Liberate Palestine', 'Madhesi Virus Killers', \"Asa'ib Ahl al-Haqq\", 'Syrian Social Nationalist Party', 'Scottish National Liberation Army', 'Ticuna Indian', 'Africa Marine Commando', 'Right-Wing Gunmen', 'Fight Against Authority', 'National Congress for the Defense of the People (CNDP)', 'Anarchists Attack Team', 'Zetas', 'Chukakuha Revolutionary Army', 'Anti-Police extremists', \"National People's Party (Rashtriya Janata Dal - RJD)\", \"Sudan People's Liberation Army (SPLA)\", 'Anti-Environmentalists', 'Revolutionary Armed Forces of Colombia (FARC)', 'NVF', 'Lendu extremists', 'Movement of Democratic Forces of Casamance', 'Saudi Hezbollah', 'Rahanwein Resistance Army (RRA)', 'Youth Gang', \"Revolutionary Workers' Council (Kakurokyo)\", 'Human Rights Renewal Movement (Renovacion por los Derechos Humanos)', 'Chakma tribal group', 'Omar Bin Khattab Group', 'National Front Against Tigers (NFAT)', \"Hmar People's Convention-Democracy (HPC-D)\", \"People's Liberation Front of India\", 'Dissident Republican Guard', \"The Husayn Ubayyat Martyrs' Brigades\", 'Balochistan Liberation United Front (BLUF)', 'Indian Mujahideen', 'Maoist Communist Center (MCC)', 'Resistenza Corsa', 'Special Purpose Islamic Regiment (SPIR)', 'M23', \"All Burma Students' Democratic Front (ABSDF)\", 'Militant Forces Against Huntingdon', 'National Liberation Front of Tripura (NLFT)', 'Janjaweed', 'Movement of Niger People for Justice (MNJ)', '23 May Democratic Alliance (Algeria)', 'Comando Malvinas Argentinas', 'The Jean Marc Rouillan Armed and Heartless Columns', 'Khumbuwan Mukti Morcha', 'Mullah Dadullah Front', 'Kurdish Democratic Party-Iraq (KDP)', 'Islamic Shashantantra Andolon (ISA)', \"Defenders of the Nation's Sovereignty\", 'Colombian Guerrillas', 'Islamist extremists', 'Gunmen', 'Shahid Khalsa Force', 'Janatantrik Terai Mukti Morcha- Goit (JTMM-G)', 'Labor Union Leaders', 'Bharat Zinc Workers', 'Al-Khobar', 'Urhobo Revolutionary Army', 'Fighting For Freedom Coalition (FFFC-Ottawa)', 'National Redemption Front', 'Bougainville Revolutionary Army (BRA)', 'Sunni Supporters', 'Al-Nasirin (India)', 'Khmer Rouge', 'Parbatya Chattagram Jana Sanghati Samity (PCJSS) - Bangladesh', 'Thai Islamic Militants', 'National Liberation Army (Nepal)', 'Rally of Democratic Forces (RAFD)', 'Local Extremist', 'Albanian extremists', 'Group of Carlo Giuliani', 'Al-Mujahedin Brigades (Palestine)', 'Pro-Indonesia extremists', 'Ejercito Revolucionario Guevarista (Guevarist Revolutionary Army)', 'Tamil Liberation Army', 'Jund al-Sahabah Group', 'National Renewal Party', 'Uganda Federal Democratic Alliance (UFEDA)', 'Mujahedeen Corps in Iraq', 'Tribal Group', 'Robin Food', 'Guaycaipuro Indians', \"Dagestani Shari'ah Jamaat\", 'Earth Liberation Front (ELF)', 'Jadid Al-Qaida Bangladesh (JAQB)', 'Pahadi Cheetah', 'Al-Bakazim', 'Serb Radical Party', 'Arab Socialist Baath Party of Iraq', 'Students Islamic Movement of India (SIMI)', 'National Army for the Liberation of Uganda (NALU)', 'Force Etudiante Critique', 'Bengali Sangram Mukti Bahini', 'Cuban Exiles', 'Georgian extremists', 'Shabelle Valley militia', 'Wolves of Islam', 'Pokot extremists', 'Yarmouk Martyrs Brigade', 'Union of Forces for Democracy and Development (UFDD)', \"Free Democratic People's Government of Laos\", 'National Bolshevik Party (Partiya Natsionalnikh Bolshevikov - PNB)', \"Niger Delta People's Volunteer Force (NDPVF)\", 'Resistencia Galega', 'Armed Islamic Group (GIA)', 'Arauco Malleco Coordinating Group (CAM) - Chile', 'Jamaat-E-Islami (Bangladesh)', 'Rohingya Solidarity Organization', 'Jamaah Ansharut Tauhid (JAT)', 'Group of Popular Fighters', 'Chin National Army', 'Guatemalan hired assasins', 'Pro-Pakistani extremists', 'September 11', 'Mouhajiroune Brigade', 'Kurdish Rebels', 'Ahlu-sunah Wal-jamea (Somalia)', 'Coordination Committee (CORCOM)', 'Karbi Longri North Cachar Liberation Front (KLNLF)', 'Students', 'National Liberation Front (FNL) (Burundi)', \"Karbi People's Liberation Tigers (KPLT)\", 'Bodo Militants', 'November 17 Revolutionary Organization (N17RO)', 'Hekla Reception Committee-Initiative for More Social Eruptions', 'Athens and Thessaloniki Arsonist Nuclei', 'Anti-Muslim extremists', 'Popular Resistance Brigade', 'Karbi Longri National Liberation Front (KLNLF)', 'Modakeke Ethnics', 'Anti-Liberal extremists', 'South Ossetian Separatists', 'Adivasi National Liberation Army (ANLA)', 'White Legion (Ecuador)', 'National Socialist Council of Nagaland', 'Cambodian Freedom Fighters (CFF)', 'Aibed Er-Rahman katibet', 'United National Party', 'Naxalites', 'Ansar Wa Mohajir (Pakistan)', 'National Council for Defense of Democracy (NCDD)', 'Revolutionary Insurgent Armed Forces of Ecuador (FAIRE)', 'Awami League', 'E. Timorese Youths', \"Sa'ad Militia\", 'Tritiya Prastuti Committee (TPC)', 'Erotic Anti-authority Cells', 'Gbagbo Loyalists', 'Hanchongryun', 'Modakeke Ethnic Activists', 'Bani Hilal Tribe', 'Peasant Self-Defense Group (ACCU)', 'Yakariya Bango Insurgent Group', 'Kach', 'All Ethiopian Unity Party (AEUP)', 'Bhumi Uchched Pratirodh Committee (BUPC)', 'Devrimici Halk Kurtulus Cephesi (DHKP/C)', 'Revolutionary Leninist Brigades', 'Liberation and Justice Movement (LJM)', 'Janatantrik Terai Mukti Morcha- Ranbir Singh (JTMM-RS)', 'Beja Congress', 'Sovereign Citizen', 'Four Martyrs Brigade', 'Ahrar al-Sham', 'Amal', 'Jihadist Soldiers', 'Peasant protesters', \"Landless Peasants' Movement (MST)\", 'Jamaica Labor Party', 'Corsican National Liberation Front (FLNC)', 'Grey Wolves', 'Afghans', 'Paramilitary members', \"People's Tamil Organization\", 'Animal Rights Militia', \"Sudan People's Liberation Movement - North\", 'Rival Afghan Group', 'Forum for the Restoration of Democracy-Kenya', \"Habi's Er'roub seriat\", \"People's United Democratic Movement (PUDEMO)\", 'Popular Front for the Liberation of Palestine (PFLP)', 'GN-95', 'Jaish-e-Mohammad (JeM)', 'Coalition to Save the Preserves (CSP)', 'Friends of Freedom', 'U/I Liberian Gunmen', 'Sayfullakh', 'Laskar Jihad', 'Praveen Dalam', 'SKIF Detachment', 'Cambodian Gunmen', 'Hizb al-Tahrir al-Islami (HT)', 'Self Defense Forces', 'Republic of Texas', 'Janatantrik Terai Mukti Morcha (JTMM)', 'Bedouin tribesmen', 'Lashkar-e-Islam (Pakistan)', 'Turkish Revenge Brigade', 'Caspian Group', 'Revolutionary Combat Brigades', 'Recontras', 'Free Vietnam Movement', 'Commander Luciano Varela Antiguerrilla Group', 'Rashtriya Swayamsevak Sangh', 'Mahan Madhesh Janakantri Party (MMJP)- Nepal', 'Baloch Nationalists', 'Niger Delta Freedom Fighters (NDDF)', 'Lashkar-e-Taiba (LeT)', 'Protestant extremists', 'Movement for the Actualization of the Sovereign State of Biafra (MASSOB)', 'The Inevitables', 'Bangladesh Sarbahara Party', 'Sabaot Land Defense Force (SLDF)', 'Basque Separatists', 'Popular Front for Justice in the Congo', 'Conspiracy of Cells of Fire', 'Former Soldiers/Police', 'Mujahedin-e Khalq (MEK)', 'Anti-Democratic Struggle', 'National Youth Service of Zimbabwe', \"Islamic Defenders' Front (FPI)\", 'Ansarullah Bangla Team', 'Communist Party of Nepal- Unified Marxist-Leninist (CPN-UML)', 'Jerusalem Groups Hebrew (Qvutzot Yerushalayim)', 'Ingush Rebels', 'Turkish Hezbollah', 'Macedonian nationalists', 'Jammu and Kashmir Liberation Front', 'Jundallah (Iran)', \"Manipur Naga People's Army (MNPA)\", 'Movement for Oneness and Jihad in West Africa (MUJAO)', 'Kuki Revolutionary Army (KRA)', 'Muslim Rebels', 'Al-Mansoorian', 'Unification Army Sons Brigade', 'Anti-Government Group', 'Turkish Leftists', \"People's Militia of Dagestan\", 'Powers of the Revolutionary Arc', 'Iparretarrak (IK)', \"People's Alliance\", 'Party for the Liberation of the Hutu People (PALIPEHUTU)', 'Mujahedeen Shura Council in the Environs of Jerusalem', 'Friendly Company', 'Liwa al-Tawhid', 'Lashkar-e-Balochistan', 'Al-Ittihaad al-Islami (AIAI)', 'Army of the Republic of Ilirida', 'Allied Democratic Forces of Guinea (RDFG)', 'Kirat Janabadi Workers Party', 'Provisional RSPCA', 'Hindu extremists', 'Civil Association for Peace in Colombia, Asocipaz', 'Palestinians', 'Paramilitaries', \"People's War Group (PWG)\", 'Rastas', 'Al-Qaida in Iraq', 'Just Punishment Brigades', 'Separatists', 'United Democratic Liberation Army (UDLA)', 'Jharkhand Liberation Tigers (JLT)', 'Anti-Abortion extremists', 'Muslim Fundamentalists', 'Red Brigades Fighting Communist Union (BR-UCC)', 'Islamic Tendency', 'Turkish Communist Party/Marxist (TKP-ML)', \"United People's Democratic Solidarity (UPDS)\", 'Anti-Authority Group (Greece)', 'Armed Forces of the Chechen Republic of Ichkeria', 'Abdullah Azzam Brigades', 'Aniban ng Ayaw sa Komunista (ANAK)\\xa0', 'Enyele Militia', 'Iconoclasts', 'Mahaz-e-Inquilab', 'Supporters of Pascal Lissouba', 'Forest Brothers', 'Zapatista National Liberation Army', 'Matan Abdulle', 'Jarrai', 'Badr Brigades', 'Islamic Swords of Justice in the Land of Ribat', 'Al-Adl Wal Ihsane', 'National United Front of Democracy Against Dictatorship (UDD)', 'International Solidarity', 'Liberation Army for Presevo, Medvedja and Bujanovac (UCPMB)', 'Guerrilla Command Force 97', 'Turkish radicals', 'Pattali Makkal Katchi (PMK)', 'Liberals of Galilee', \"Paraguayan People's Army (EPP)\", 'Gugama Youth Federation', 'Progressive Socialist Party (PSP)', 'Organization 544', 'Revolted Persons of the Polytech School', 'Juarez Cartel (Carrillo-Fuentes / Mexico)', \"People's Liberation Organization of Tamil Eelam\", 'Porattom', 'Loyalists', 'Jund al-Sham for Tawhid and Jihad', 'Islamic State of Iraq (ISI)', 'Urban Guerrilla War', 'Ansar al-Sharia (Tunisia)', 'Kuki tribesmen', 'Cannibal Army', 'Muslim United Liberation Tigers of Assam (MULTA)', 'Anti-Capitalist Action', 'Vandalicia Teodoro Suarez', 'Diraa al-Shahbaa Rebel Brigade', 'Shanti Bahini - Peace Force', 'Himali Tigers', 'Iraqi Sunni Extremists', 'Mujahideen Ansar', 'Harakat ul-Mujahidin (HuM)', 'Unsubordinated Desires', 'Sagrado Corazon Fanatic Group', 'Anti-State Proletarian Nuclei', 'Aba Cheali Group', 'Democratic Karen Buddhist Army (DKBA)', 'Tajamo Ansar al-Islam', 'Autonomous Decorators', 'Terai Madheshi Mukti Morcha (TMMM)', 'Muslim extremists', 'Baloch Mussalah Diffah Tanzim (BMDT)', 'Raul Ernesto Cruz Leon, Salvadorian', 'Black Star', 'National Organization of Cypriot Fighters (EOKA)', 'Civil Defense Force (CDF)', 'Support of Ocalan-The Hawks of Thrace', 'Croat Democratic Union', 'Guerrillas', 'The Joint Revolutionary Council', 'Janatantrik Terai Mukti Morcha- Prithvi Singh (JTMM-P)', 'All Kamatapur Liberation Force', \"Comite d'Action Viticole\", 'Mujahidin Indonesia Timur (MIT)', 'New Revolutionary Popular Struggle (NELA)', 'Samyukta Jatiya Mukti Morcha (SJMM)', 'Brigade of al-Mukhtar al-Thaqafi', 'Terai Janatantrik Madhes Party', 'Kamajor Hunters', 'Harakat ul-Mujahidin Al-Almi', 'National Anti-Corruption Front (FNA)', 'Kosovo Liberation Army (KLA)', 'Mukhtar Army', 'Angry Brigade', 'Kuki Liberation Army (KLA)', \"United Front for Nigeria's Liberation (UFNL)\", 'Democratic Movement for the Liberation of the Eritrean Kunamas (DMLEK)', 'East Turkistan Liberation Organization', 'Al-Nasireen Group', 'Tawhid and Jihad', 'National Liberation Army of Colombia (ELN)', \"Iraq's Jihadist Leagues\", 'Jaljala Army', 'Martyr Sami al-Ghul Brigades', 'Communist Party of Nepal- Maoist (CPN-M)', 'Al-Masni Tribe', 'Congolese Patriotic Resistence-Patriotic Armed Forces (Pareco/FAP)', 'Bangsamoro National Liberation Army', 'Communist Party of Nepal-Maoist (Baidya)', 'Uighur Liberation Organization', 'Union of Democratic Forces', 'Grozny Jamaat', 'Anti-Clerical Pro-Sex Toys Group', 'Anti-Balaka Militia', 'Eritrean Salvation Front (ESF)', 'Jacinto Araujo Internationalist Rebel Insurrectionist Brigade', 'Guatemalan National Revolutionary Unity (URNG)', 'Jaish al-Muhajireen wal-Ansar (Muhajireen Army)', \"Bodo People's Front (BPF)\", 'Al-Arifeen', 'Etnocacerista Movement', 'Zero Tolerance', 'Squadrons of Terror (Katibat El Ahoual)', 'Ansar al-Islam', 'Future movement (Lebanon)', 'Al-Herak Al-Tihami Movement', 'Dima Halao Daoga (DHD)', 'The New Irish Republican Army', 'Los Rastrojos (Colombia)', 'Mozambique National Resistance Movement (MNR)', 'Corsican National Liberation Front- Historic Channel', 'Koreans', 'Swatantra Nepal Dal', 'Sudan Revolutionary Front (SRF)', 'Unidentified Infiltrators', 'Vigorous Burmese Student Warriors', 'Angola Rebels', 'Al-Zaidi Tribe - Mareb', 'Insurgents', 'Wild Freedom', 'Draa El Mizan Seriat', 'Al-Sunna wal Jamma', 'Salafist Group for Preaching and Fighting (GSPC)', 'Kamal Boulander Group', 'Terena Indians', 'Bengali Tiger Force (BTF)', 'Al-Fajr', 'Tigers', 'Seleka', '313 Brigade (Syria)', 'Revolutionary Front for an Independent East Timor (FRETILIN)', 'Colonel Karuna Faction', 'Tuareg Guerrillas', 'Swaziland Youth Congress (Swayoco)', 'Sect of Revolutionaries (Greece)', 'United Liberation Front of Barak Valley (ULFBV) - India', 'Animal Rights extremists', 'Popular Front for the Liberation of Palestine, Gen Cmd (PFLP-GC)', 'Jund Al-Tawid', 'Young Officer Union of the New Generation and Reformist Armed Forces of the Philippines (YOU-RAFP)', 'The United Revolutionary Front of Bhutan', 'The Mujahadeen Room in Latakia Countryside', 'Chechen Lone Wolf Group', 'Real Ulster Freedom Fighters (UFF) - Northern Ireland', 'Viviana Gallardo Command', 'Sindh Liberation Front', 'Baloch Liberation Army (BLA)', 'The Northern Alliance (or United Islamic Front for Salvation of Afghanistan - UIFSA)', 'Kisii Activists', 'Bersatu', 'Columbia PM', 'Merille Militia', 'Tehrik-e-Nifaz-e-Aman Balochistan-Jhalawan Brigade (TNAB-Jhalawan Brigade)', 'Tribesmen, al-Itada', 'Borana bandits', 'Dynamic Youth Forum', 'Strikers', 'Somali Islamic Front', 'U/I Liberians', 'Army of God', \"United People's Democratic Front (UPDF) - Bangladesh\", 'Proletariat Self-defense Groups', 'Kuki Tribal Militants', 'Left-Wing Terrorists', 'Supporters of Ali Mahdi Mohammed', 'Front for Peace and Reconciliation (FRP)', 'Abu Nidal Organization (ANO)', 'Neo-Fascists', 'Popular Army for the Restoration of Democracy (APRD)', 'Danish Neo-Nazi Group', \"People's Democratic Struggle Movement\", 'Sindhu Desh Liberation Army (SDLA)', 'National United Front for an Independent, Neutral, Peaceful, and Cooperative Cambodia (FUNCINPEC)', 'Al-Ummah', 'Abida Tribe', 'Akhil Terai Mukti Morcha (ATMM)', 'Maori', 'Liberation Tigers of Tamil Eelam (LTTE)', 'National Development Party (NDP)', \"Kurdistan Workers' Party (PKK)\", 'Bosnian refugee', 'Tamils', 'Red Hand Defenders (RHD)', 'Pattani United Liberation Organization-MKP (PULO-MKP)', 'Al-Furqan Brigades', 'Nobles of Jordan', 'Aryan Nation', 'Supporters of Saddam Hussein', 'United Kuki Liberation Front (UKLF) - India', 'Supporters of Laurent Nkunda', 'Isatabu Freedom Movement (IFM)', 'Kachin Independence Army (KIA)', 'Democratic Front for the Liberation of Rwanda (FDLR)', 'Mujahedeen Shura Council', 'Anti-Communist Command (KAK)', 'Solidarity with imprisoned members of Action Directe (AD)', 'National Socialist Council of Nagaland-Khaplang (NSCN-K)', 'Liwa al-Islam', 'Detonators of Social Uprisings', 'Armed Vanguards of a Second Mohammed Army', \"Jaish al-Ta'ifa al-Mansura\", 'Revolutionary Headquarters (Turkey)', 'Zuwar al-Imam Rida', 'Filipino Soldiers for the Country', 'Initiative de Resistance Internationaliste', 'Ujjan Tribe', 'Fighters of Democratic Latvia', 'The Front for the Liberation of the Cabinda Enclave - Renewed (FLEC)', 'Islami Jamiat-e-Talaba (IJT)', 'Mombasa Republican Council (MRC)', 'Vishwa Hindu Parishad (VHP)', 'Tuareg extremists', 'Marhan Clan', 'Al-Intiqami al-Pakistani', 'Supporters of Sultan Abd-al-Bagi', 'Militant Minority (Greece)', 'Palestinian Extremists', 'Tharuhat Joint Struggle Committee (TJSC)', 'Mujahideen Islam Pattani', 'Deniers of Holidays', 'Chinese Illegal Immigrant', 'Jatav Caste', 'Tajik Rebels', 'Algerian Islamic Extremists', 'Resistenza', 'Hamas (Islamic Resistance Movement)', 'Sisters in Arms', 'CSS Movement', 'National Liberation Front of Provence (FLNP)', 'Baby Liberation Army', 'Fanmi Lavalas', \"Jama'atul Mujahideen Bangladesh (JMB)\", 'Revolutionary Perspective', 'Andres Castro United Front', 'Lebanese male', 'Sipah-e-Sahaba/Pakistan (SSP)', 'Movement for Democracy and Justice in Chad (MDJT)', 'Partisan Sharpshooters', 'Tanzim', 'Christian extremists', 'Kuki National Army (KNA)', 'Militant Peasants (NFI)', 'Kokang', 'Al-Jub Tribe', 'Biswabhumi Sena Bishal Nepal', 'Balochistan National Army', 'Southern Yemen Separatists', 'Supreme Council for Islamic Revolution in Iraq (SCIRI)', 'Kawal ng Pilipinas (Soldier of the Philippines)', 'Al-Qaida in Yemen', 'Civil Servants and Unionists', 'Indian Tigers', 'National Liberation Army (Ecuador)', 'Harakat Ansar Iran (HAI)', 'United National Liberation Front (UNLF)', 'Zemun Clan', 'Niger Delta Vigilante (NDV)', 'Convention of Liberal Reformers (CLR)', 'Timorese Students', 'We Who Built Sweden', 'Jihad Islamic League Front', 'Core Conspirators for the Extension of Chaos (Núcleo de Conspiradores por la Extensión de Kaos)', 'Qari Kamran Group', 'Salafia Jihadia', 'Revolutionary Cells-Animal Liberation Brigade', 'Hynniewtrep National Liberation Council (HNLC)', 'Mutahida Majlis-e-Amal', 'Abdul Qader Husseini Battalions of the Free Palestine movement', 'World Church of the Creator', 'Muslim Separatists', \"Farmer's Movement of the Philippines (KMP)\", 'Guadalcanal Liberation Army', 'Supporters of Johnny Paul Koroma', 'Proletarian Nuclei for Communism', 'Gun runners', 'Armed Revolutionary Action (ENEDRA)', 'Left-wing extremists', \"People's Amn Committee\", 'Tribesmen', 'Kashmir Freedom Force', 'Libya Revolutionaries Operations Room (LROR)', 'Revolutionary Military Council', \"Al-Ahwaz Arab People's Democratic Front\", 'Runda Kumpulan Kecil (RKK)', 'Khorasan jihadi group', 'Catholic E. Timurese', 'United Self Defense Units of Colombia (AUC)', 'Arabs', \"Kata'ib Hezbollah\", 'Al-Fatah', 'Political Group', 'Hill Tiger Force (HTF)', 'Sudan Liberation Army-Minni Minawi (SLA-MM)', \"Federation of Students and Scholars of Cote d'Ivoire (FESCI)\", 'Algerian Moslem Fundamentalists', 'Tupamaro Revolutionary Movement', 'Taliban', 'Alcubar group', 'Popular Revolutionary Army (Mexico)', 'Anarchist Struggle', 'Karbi Tribe', 'Kurdistan Free Life Party', 'Supporters of Muhammad Umar Habib', 'Rebel Military Unit', 'Right-Wing Group', 'Al-Qaida', 'Umar al-Mukhtar Martyr Forces', 'Tibetan separatists', 'Karnataka State Farmers Association', 'Popular Liberation Army (EPL)', 'Civil War Veterans', 'Jihadi-inspired extremists', 'Shining Path (SL)', 'Terai Rastriya Mukti Sena (TRMS)', 'Ariska Brodraskapet (Aryan Brotherhood)', 'Timorese guerrillas', 'Anti-Imperialist Territorial Nuclei (NTA)', 'Chechen Rebels', 'Gilad Shalhevet Brigades', 'Anarchist Liberation Brigade', 'Islamic Jihad Union (Uzbekistan)', 'Hells Angels', 'Sanghiya Limbuwan Committee (SLC)', 'National Alliance (Chad)', 'Al-Qaida Kurdish Battalions (AQKB)', 'Armata di Liberazione Naziunale (ALN)', 'Pakistan Muslim League (PML)', 'Corsican Separatists', \"Al-Gama'at al-Islamiyya (IG)\", 'Organization of Soldiers of the Levant', 'Terai Janatantrik Party', 'Egyptians', 'Mob', 'Madhesh Rastra Janatantrik Revolutionary (RJR) - Nepal', 'Black Widows', 'Jenin Martyrs Brigades', 'First of October Antifascist Resistance Group (GRAPO)', 'Al Zawahiri Loyalists', 'Resistance Cell', 'Maasai', 'Islamic Companies', 'Revolutionary Action of Liberation', 'Anarkista Jorge Banos Front of the Everyone For The Homeland Movement (MTP)', 'Hezbollah Palestine', 'Rival caste', 'Anti-Semitic extremists', 'Karamojong Warriors', 'Informal Anarchist Federation', 'National Socialist Council of Nagaland-Isak-Muivah (NSCN-IM)', 'Tehrik-e-Galba Islam', 'Sudurpaschim Janata Dal', 'Aisha Umm-al Mouemeneen (Brigades of Aisha)', 'Sanatan Sanstha', \"Odua Peoples' Congress (OPC)\", 'West Nile Bank Front (WNBF)', 'Buddhist Monks', 'Kurdish Separatists', 'Phineas Priesthood', 'Lashkar-e-Omar', 'Hoodie Wearers', 'South Sudan Liberation Army (SSLA)', 'Terai Communist Party', 'Jammu and Kashmir Islamic Front', 'Ansar al-Din', 'Communist Party of India - Maoist (CPI-Maoist)', 'Comando Autónomo Voltaire Argandoña', 'Rival peasant band', 'Qaddafi loyalists', 'Banyamulenge rebels', 'Pirates', 'Red Flag (Venezuela)', 'Gazteriak', 'Tribesmen Murad Tribe', 'Karenni National Progressive Party', 'The Black Sun', 'Liberians United for Reconciliation and Democracy (LURD)', \"Indigenous People's Federal Army (IPFA)\", 'Basque Fatherland and Freedom (ETA)', 'Loyalist Volunteer Forces (LVF)', 'Fundamentalists', 'Dissident', 'Punjabi Taliban', 'Armed Forces Revolutionary Council (AFRC)', 'White Legion (Georgia)', 'Pemuda Pancasila', 'Misseriya Arab Tribesmen', 'Ansarul Islam (Pakistan)', 'Islamic Unification Movement', 'Patriotic Resistance Front in Ituri (FRPI)', 'Anti-Israeli extremists', 'Civilian Joint Task Force (JTF)', 'Brigades of Imprisoned Sheikh Omar Abdel-Rahman', 'Conscientious Arsonists (CA)', 'Libya Shield Force', 'Ogaden National Liberation Front (ONLF)', 'Revolutionary Proletarian Army', 'Jagrata Towhidi Janata (Rising Faithfuls)', 'Macheteros', 'White Wolves (UK)', 'Colombian Patriotic Resistance', 'Black Eagles', 'Sympathizers of Al-Qaida Organization', 'Front for the Liberation of the Enclave of Cabinda (FLEC)', 'Al-Nawaz', 'Janatantrik Terai Madhesh Mukti Morcha (JTMMM)', 'Ansar al-Jihad', 'Armed People', 'Angry Brigade (Italy)', 'Kidnapping gang', 'Anti-Government Guerrillas', \"Madhesi People's Rights Forum (MPRF)\", \"People's Committee against Police Atrocities (PCPA)\", 'Rebellious Group Lambros Foundas', 'Allied Democratic Forces (ADF)', 'Militia Members', 'Manuel Rodriguez Patriotic Front (FPMR)', 'Unarmed Algerian', 'Nepal Defense Army', 'Yimchunger Liberation Front (YLF)', 'Ombatse Cult', 'Jordanian Islamic Resistance', 'Groups for Dissemination of Revolutionary Theory and Action', 'Civilian Defense', 'Serbs', 'Shia Muslim extremists', 'Naga National Council (NNC)', 'Golden Dawn', 'Hezbollah', 'Death Squad', 'Ranbir Sena', \"Al-Mua'qi'oon Biddam Brigade (Those who Sign with Blood)\", 'The Extraditables', \"Pakistani People's Party (PPP)\", 'Militants', 'Revolutionary Liberation Action (Epanastatiki Apelevtherotiki Drasi) - Greece', 'Hizb-I-Islami', 'Government Supporters', 'Baloch Militant Defense Army', 'Ethiopian Dongiro tribesmen', 'Iraqi Islamic Vanguards for National Salvation (IIVNS)', 'Miscreants', 'Dignity for Colombia', 'Tawheedul Islam', 'Al-Nusrah Front', 'Bandits', 'New Revolutionary Alternative (NRA)', 'Islamic Army in Iraq (al-Jaish al-Islami fi al-Iraq)', 'Black Hawks (Anti-Wahhabists)', 'Aqmur', 'Mujahedeen Group', 'Nepalbad Party', 'Islamic Movement of Martyrs', 'Hassan Mabkhut Group', 'Muslim Guerrillas', 'Bahujan Samaj Party', 'Mazdoor Kisan Sangram Samiti (MKSS)', 'Anti-Zionist Movement', 'Fatherland and Liberty Nationalist Front (FNPL - Frente Nacionalista Patria y Libertad FNPL)', 'Zeliangrong United Front', 'Islambouli Brigades of al-Qaida', 'Movement for the Emancipation of the Niger Delta (MEND)', 'Guadalcanal Liberation Front (GLF)', 'Tamil Nadu Liberation Army', 'Rodolfo Walsh National Command', 'Mapuche Ancestral Resistance (RAM)', 'Irish National Liberation Army (INLA)', 'Left-Wing Guerrillas', 'Al-Qaida Network for Southwestern Khulna Division', 'Extortionists', 'Hutus Former Soldiers', 'Ansar al-Tahwid wal Sunna', 'Mlada Bosna', 'Animal Liberation Front (ALF)', 'Kamtapur Liberation Organization (KLO)', 'Fedayeen Imam Mahdi', 'Liberation War Veterans Association', 'Real Irish Republican Army (RIRA)', 'Mariano Moreno National Liberation Commando', 'Islamic Movement of Kashmir', 'United Bengali Liberation Front (UBLF)', 'Anti-Imperialist Commando', 'Ummah Liberation Army', 'Revolutionary Nuclei', 'Al-Qaida in Saudi Arabia', 'Yemenis', 'Volunteers of Innocent People of Nagas (VIPN)', 'Boko Haram', 'Gulf Cartel', 'National Democratic Alliance Army (NDAA-ESSA)', 'Southern Mobility Movement (Yemen)', \"Arab People's Group\", 'Colonel Albert Kahasha Militia', 'Anti-Christian extremists', 'Ikhwan Jammu and Kashmir', \"Umbane People's Liberation Army (Swaziland)\", 'Army of Islam', 'Youths', 'Last Generation', 'Fatah Hawks', \"Al-Shabaab al-Mu'minin\", 'Jewish Defense League (JDL)', 'Al-Aqsa Martyrs Brigade', 'Popular Resistance (Laiki Antistasi)', 'Al-Badr', \"National People's Movement Coordination Committee\", 'Muslim Brotherhood', 'Niger Delta Liberation Force (NDLF)-Nigeria', 'First Capital Command (PCC)', 'Beli Orlovi (White Eagles)', 'Barisan Revolusi Nasional (BRN)', 'Patriotic Union of Kurdistan (PUK)', 'Intifada Martyrs', 'New Patriotic Party (NPP)', 'Children of November', 'Saharan Revolutionary Armed Front (FARS)', 'Supporters of ret. Gen. Lino Oviedo', 'Diyala Salvation Council', 'Militant Organization of Russian Nationalists', 'Telangana Separatists', 'National Union for the Total Independence of Angola (UNITA)', 'Israeli extremists', 'Islamic Front', 'Save Kashmir Movement', \"People's Protection Units (YPG)\", 'Kara clan', 'Kuki National Liberation Front (KNLF)', 'Association of Mobil Spill Affected Communities (AMSAC)', 'Supreme Command for Jihad and Liberation', 'Minutemen American Defense', 'Revolutionary Front', 'Mujahidin Ambon', 'Kaka-Tribesmen', \"New People's Army (NPA)\", 'Red Brigades Fighting Communist Party (BR-PCC)', 'Zomi Revolutionary Army (ZRA)', 'Kaingang Indians', 'Democratic Iraqi Opposition of Germany', 'Moro National Liberation Front (MNLF)', 'Jaime Bateman Cayon Group (JBC)', 'Attack Teams for the Dissolution of the Nation (Greece)', 'Tawhid and Jihad (Palestine)', 'Israeli settlers', 'Red Line', 'Islamic Jihad Brigades', 'El-Feth katibat', 'National Patriotic Front of Liberia (NPFL)', 'Al-Ashtar Brigades', 'The Justice Department', 'Majerten clansmen', 'Communist Party of India- Marxist-Leninist', 'Bodo Liberation Tigers (BLT)', 'Balakhani Group', 'Institutional Revolutionary Party (PRI)', 'Moroccan extremists', 'Adivasi Cobra Militants of Assam (ACMA)', 'Rival Activists', 'Republican Anticlerical Group', 'Free Aceh Movement (GAM)', 'Party Unity', 'Madhesi Mukti Tigers (MMT)', 'Armenian Secret Army for the Liberation of Armenia', 'Tehrik-e-Tuhafaz (Pakistan)', 'Jaish al-Muslimin (Army of the Muslims)', 'Popular Front of India', 'Kurdish Militants', 'Islamic Party (Somalia)', 'Union of Congolese Patriots (UPC)', 'Zviadists', 'Karabulak Gang', 'Zwai Tribe', 'Political Activists', 'Right-Wing Militants', 'Armata Corsa', 'Extremists', 'United Jihad Council', 'Activists', 'National Freedom Party', 'Democratic Revolutionary Party', 'Afar Revolutionary Democratic Unity Front', 'Jumuiya ya Taasisi za Kiislam (Community of Muslim Organizations)', 'Karen National Union', 'Chukakuha (Middle Core Faction)', 'United Liberation Front of Assam (ULFA)', 'Popular Will (Greece)', \"Kata'ib al-Khoul\", 'Al-Qaida in the Indian Subcontinent', 'Albanian Separatists', 'Great Eastern Islamic Raiders Front (IBDA-C)', 'Rizvon Sadirov Group', 'Egbema National Front', 'Protectors of Islam Brigade', 'Fatah al-Islam', 'Anonymous Underground Movement (MCA)', 'Forces for the Unification of the Central African Republic (FIRCA)', \"Adivasi People's Army (APA)\", 'Ulster Freedom Fighters (UFF)', 'Palestinian Hezbollah', 'Coalition for Unity and Democracy (CUD)', \"Al-Ma'unah\", 'Sword of Islam', 'English Defense League (EDL)', 'All Tripura Tiger Force (ATTF)', 'Alexandros Grigoropoulos Anarchist Attack Group', 'National Liberation Alliance of Sa Kaeo', 'Association Totalement Anti-Guerre (ATAG)', 'Death to Rustlers', 'Revolutionary Struggle', \"People's Revolutionary Militias (MRP)\", 'Janatantrik Terai Madhes Mukti Party- Bhagat Singh (JTMMP)', 'Armed Group for the Defence of the People', 'Itsekiri', 'LW', 'Syrian Mujahideen', 'Janatantrik Terai Mukti Morcha- Jwala Singh (JTMM-J)', 'Al-Fatihin Army (AFA)', 'Communists', 'February 14th Movement', 'Mapuche activists', 'Muslims', 'Anti-United States extremists', 'Vanguard of Red Youth (AKM)', 'Salafi Abu-Bakr al-Siddiq Army', 'Bhittani tribe', 'Illuminating Paths of Solidarity', 'Shield of Islam Brigade', 'Abkhazian Separatists', 'Catholic Reaction Force', 'National Council of Maubere Resistance', 'Ahrar Al-Jalil (Free People of the Galilee)', 'Protesters', 'Naga People', 'Imam Hussein Brigade', 'Kilafah Islamic Movement', 'Revolutionary United Front (RUF)', 'Revolutionary Popular Left', 'Right-wing extremists', 'Sunni Muslim extremists', 'Civic United Front (CUF)', 'Taxi Drivers', 'Kanglei Yawol Kanna Lup (KYKL)', 'Pentagon Kidnap Group', 'Simon Bolivar Guerrilla Coordinating Board (CGSB)', 'Tehrik-i-Taliban Pakistan (TTP)', 'Bharatiya Janata Party', \"Citizen's Rights Protection Volunteers\", 'Angry Foxes Cell', 'Achik National Volunteer Council-B (ANVC-B)', \"People's Democratic Party (PDP)\", 'United Front for Democratic Change (FUC)', 'Joint Meeting Parties (JMP)', 'Sungu Sungu', 'Shiv Sena', 'Tamil Makkal Viduthalai Pulikal (TMVP)', 'Bani Jaber tribe', 'Fulani extremists', \"Naga People's Council (NPC)\", 'Partido Marxista-Leninista ng Pilipinas (PMLP)', 'Anbar Salvation Council', 'National Democratic Front-Bicol (NDF-Bicol)', 'Narco-Terrorists', 'Brigades of Iman Hassan-al-Basri', 'Revolutionary Proletarian Initiative Nuclei (NIPR)', 'Baloch Liberation Tigers (BLT)', 'Corsican Nationalists', 'National Socialist Underground', 'Rebels', \"People's Revolutionary Organization\", \"God's Army\", 'Akhilesh Singh Gang', 'Environmentalists', 'Besi Merah Putih Militia', 'Right-Wing Paramilitaries', 'Tribal guerrillas', 'Jemaah Islamiya (JI)', 'Islamic Jihad Group (IJG)', \"Communist Party of Nepal (People's War Group)\", 'Supporters of Johnny Adair', 'Al-Sunni muslim sect', 'Mujahedin Kompak', 'Northern Diriangen Front (FND)', 'Afghan Revolutionary Front', \"People's Revolutionary Party of Kangleipak-Progressive (PREPAK-P)\", 'International Revolutionary Front', 'Rival clan', 'Bini-Oru', 'Boere Aanvals Troepe (BAT)', 'Ramzi Nahra Martyr Organization', 'Bangsamoro Islamic Freedom Movement (BIFM)', \"Cambodian People's Party (CPP)\", 'Salafi Daawa Group', 'Irish Republican Extremists', 'Muslim United Army (MUA)', 'Maoists', 'Muslims Against Global Oppression (MAGO)', 'Wahhabi Movement', 'Che Guevara Guerrillas', 'Caucasus Emirate', 'Rabid Brothers of Giuliani', 'Massive escape', 'Popular Army Vanguards- Battalions of Return', \"Ed'daoua Es'salafia Lilqadha\", 'National Liberation Force of Bengalis (Bangali Janamukti Bahini)', 'Moro Islamic Liberation Front (MILF)', 'Brelvi Muslims', 'Ansar Sarallah', 'Tolib Ayombekov loyalists', 'The War That Was Never Declared', 'National Democratic Front of Bodoland (NDFB)', 'Houthi extremists (Ansar Allah)', 'Aitarak Militia', 'Moro Ghuraba', 'Irianese Tribesmen', 'Armed Revolutionary Left (IRA)', 'Elos security firm', 'Jamaat-E-Islami (India/Pakistan)', 'Bhisan Himali Bag', 'All India Anna Dravida Munetra Kazgan Party', 'Convention of Patriots for Justice and Peace', 'Mujahedeen Army', 'United Front for Democracy Against Dictatorship', \"Didier Ratsiraka's Militia\", 'Knights Templar (Caballeros Templarios)', 'Amazigh Islamic Front', 'Skinheads', 'National Front for the Revolution in Burundi (FRONABU-Tabara)', 'Dev Sol', 'Revenge Brigade', 'Friends of Loukanikos', 'Breton Liberation Front (FLB)', 'Young Communist League', 'Palestinian Islamic Jihad (PIJ)', 'Villagers', 'Justice Army for Defenseless Peoples', 'Ansar al-Sunna', 'United Janatantrik Terai Mukti Morcha (U-JTMM)', 'Inkatha Freedom Party (IFP)', 'Jharkhand Janmukti Parishad (JJP)', 'Kashmiri extremists', 'Abu Sayyaf Group (ASG)', 'Last Alternative Guerrilla Front', \"People's Sovereignty Party (PDR)\", 'Garo National Liberation Army', 'South Londonderry Volunteers (SLV)', 'Coca Farmers', 'Karen Insurgents', '14 K Triad', 'Mungiki Sect', 'Georgian Militants', 'Muslim Youth', 'Al-Haramayn Brigades', 'All Nepal National Free Student Union-Revolutionary', 'Mujahedeen Brigades', 'Anarchists', 'Rastriya Janashakti Party (RJP)', 'Students For Insurrection', 'West Side Boys', 'Al-Madina', 'Khalistan Liberation Force', 'Iraqi extremists', 'Fatherland', 'Nihilists Faction', 'Achik National Volunteer Council (ANVC)', 'Fuerzas Autonómicas y Destructivas León Czolgoscz', 'Republican Action Against Drugs (RAAD)', 'Mahsud Tribe', 'Haqqani Network', 'Revolutionary Cells (Argentina)', 'Sudan Alliance Forces', 'Muslim Renewal', 'Overall Deniers of Joining the Existing', 'Free Papua Movement (OPM-Organisasi Papua Merdeka)', 'Islamic Movement for Change'}\n"
     ]
    }
   ],
   "source": [
    "print(set_df)"
   ]
  },
  {
   "cell_type": "code",
   "execution_count": 10,
   "metadata": {},
   "outputs": [
    {
     "data": {
      "text/plain": [
       "'To find number of terrorist group in dataset (without repetition) so that we can find number of the classes\\nfor mapping by converting it into set'"
      ]
     },
     "execution_count": 10,
     "metadata": {},
     "output_type": "execute_result"
    }
   ],
   "source": [
    "'''To find number of terrorist group in dataset (without repetition) so that we can find number of the classes\n",
    "for mapping by converting it into set'''"
   ]
  },
  {
   "cell_type": "code",
   "execution_count": 11,
   "metadata": {},
   "outputs": [
    {
     "name": "stdout",
     "output_type": "stream",
     "text": [
      "1335\n"
     ]
    }
   ],
   "source": [
    "print(len(set_df))"
   ]
  },
  {
   "cell_type": "code",
   "execution_count": 12,
   "metadata": {},
   "outputs": [
    {
     "data": {
      "text/plain": [
       "'Number of terrorist groups field'"
      ]
     },
     "execution_count": 12,
     "metadata": {},
     "output_type": "execute_result"
    }
   ],
   "source": [
    "'''Number of terrorist groups field'''"
   ]
  },
  {
   "cell_type": "code",
   "execution_count": 13,
   "metadata": {},
   "outputs": [
    {
     "name": "stdout",
     "output_type": "stream",
     "text": [
      "1335\n"
     ]
    }
   ],
   "source": [
    "op = []\n",
    "op = list(set_df)\n",
    "print(len(op))"
   ]
  },
  {
   "cell_type": "code",
   "execution_count": 14,
   "metadata": {},
   "outputs": [
    {
     "name": "stdout",
     "output_type": "stream",
     "text": [
      "[1, 1, 18, 4, 3, 6, 1, 44, 1, 1, 2, 2, 3, 2, 1, 1, 1, 1, 7, 34, 472, 1, 11, 1, 5, 33, 7, 2, 1, 10, 1, 1, 1, 4, 10, 2, 1, 1, 1, 1, 1, 1, 8, 1, 21, 1, 1, 1, 1, 3, 1, 3, 1, 1, 1, 3, 1, 63, 80, 1, 1, 1, 2, 4, 7, 6, 1, 27, 5, 1, 2, 1, 28, 12, 1, 36, 1, 3, 1, 1, 1, 142, 1, 1, 1, 1, 1, 10, 1, 1, 10, 1, 96, 6, 1, 1, 1, 1, 1, 6, 3, 1, 1, 1, 10, 1, 6, 1, 1, 2, 10, 1, 2, 2, 17, 3, 18, 1, 3, 221, 1, 2, 1, 1, 12, 3, 11, 2, 60, 1, 2, 3, 37524, 3, 63, 1, 5, 1, 2, 1, 1, 1, 5, 1, 7, 1, 2, 1, 2, 1, 1, 35, 3, 1, 7, 1, 2, 1, 1, 1, 6, 46, 2, 3, 1, 1, 1, 1, 1, 16, 1, 1, 3, 1, 2, 2, 66, 3, 1, 14, 21, 18, 1, 2, 1, 1, 1, 1, 1, 2, 1, 1, 2, 1, 2, 1, 6, 95, 1, 2, 1, 5, 17, 1, 1, 1, 1, 886, 374, 8, 1, 1, 1, 2, 3, 2, 1, 3, 16, 6, 1, 10, 1, 1, 1, 15, 1, 1, 1, 4, 1, 3, 1, 32, 14, 2, 4, 32, 5, 3, 1, 2, 2, 23, 1, 1, 12, 2, 1, 1, 1, 25, 12, 10, 15, 2, 1, 1, 3, 1, 1, 2, 1, 2, 2, 1, 1, 1, 18, 2, 5, 1, 9, 3, 207, 38, 5, 1, 44, 1, 5, 2, 31, 2, 3, 2, 19, 1, 1, 1, 10, 1, 2, 1, 5, 1, 1, 5, 1, 2, 1, 1, 1, 28, 2, 1301, 4, 1, 51, 1, 7, 1, 3, 1, 1, 1, 3, 1, 24, 1, 1, 8, 51, 32, 4, 3, 8, 4, 1, 67, 8, 10, 3, 1, 1, 2, 1, 3, 2, 1, 4, 117, 255, 2, 27, 1, 1, 7, 1, 1, 1, 6, 1, 2, 29, 2, 58, 1, 1, 1, 45, 1, 1, 5, 1, 2, 1, 1, 1, 2, 33, 4, 1, 5, 71, 3, 1, 2, 1, 1, 8, 1, 1, 1, 2, 2, 2, 1, 1, 2, 3, 1, 1, 3, 2, 132, 2, 30, 1, 8, 2, 1, 1, 1, 4, 1, 1, 4, 16, 15, 1, 27, 17, 11, 16, 5, 8, 10, 2, 2, 4, 1, 10, 5, 1, 6, 5, 1, 1, 39, 2, 15, 1, 8, 1, 1, 9, 1, 7, 1, 2, 1, 23, 2, 2, 1, 1, 24, 1, 3, 1, 4, 1, 1, 2, 3, 1, 2, 6, 1, 165, 5, 1, 1, 2, 1, 22, 1, 1, 1, 1, 57, 1, 22, 8, 2, 1, 1, 7, 1, 1, 1, 2, 1, 1, 29, 10, 81, 1, 1, 1, 7, 1, 1, 4, 4, 13, 1, 116, 22, 3, 1, 2, 4, 1, 5, 48, 1, 22, 2, 1, 2, 2, 3, 1, 1, 4, 1, 2, 13, 1, 36, 4, 30, 17, 1, 4, 8, 2, 1, 9, 1, 37, 5, 1, 1, 8, 4, 2, 1, 5, 1, 4, 1, 31, 39, 73, 2, 638, 1, 240, 4, 6, 47, 4, 1, 1, 12, 7, 6, 12, 19, 1, 1, 1, 3, 1, 2, 5, 1, 1, 1, 1, 1, 1, 2, 3, 1, 2, 4, 1, 20, 1, 1, 1, 1, 1, 1, 1, 14, 7, 145, 1, 11, 4, 4, 1, 1, 1, 1, 13, 1, 1, 12, 3, 1, 1, 1, 1, 14, 1, 1, 1, 202, 1, 3, 7, 1, 1, 1, 1, 2, 7, 2, 1, 4, 6, 1, 12, 1, 1, 2, 1, 1, 55, 3, 1, 4, 1, 2, 1, 3, 50, 422, 3, 1, 1, 23, 1, 2, 1, 33, 1, 1, 1, 2, 5, 1, 1, 6, 1, 1, 4, 1, 3, 2, 27, 1, 1, 24, 11, 1, 20, 84, 2, 1, 3, 1, 2, 1, 1, 9, 1, 2, 1, 214, 1, 2, 1, 1, 1, 1, 3, 7, 9, 1, 1, 3, 2, 13, 3, 1, 1, 2, 1, 2, 4, 1, 2, 95, 5, 1, 1, 2, 3, 1, 1, 1, 2, 8, 3, 1, 7, 5, 3, 1, 1, 1, 1, 1, 2, 1, 1, 1, 47, 2, 15, 3, 12, 1, 863, 1, 403, 1, 2, 23, 1, 2, 1, 1, 1, 4, 2, 1, 6, 40, 8, 1, 2, 17, 1, 1, 1, 2, 1, 1, 2, 1, 1, 1, 2, 2, 6, 9, 13, 1, 2, 1, 7, 41, 2, 4, 1, 1, 1, 1, 373, 48, 240, 1, 1, 2, 1, 1, 22, 5, 3, 1, 9, 2, 1, 5, 1, 3, 2, 1, 1, 1, 1, 5, 8, 1, 12, 1, 1, 1, 1, 16, 1, 3, 1, 2, 1, 1, 1, 1, 5, 2, 2, 2, 1, 6, 70, 2, 1, 1, 2, 1, 2, 11, 2, 35, 1, 1, 1, 3, 51, 2, 1, 67, 2, 3, 28, 8, 4, 5, 1, 2, 4, 3231, 1, 22, 1, 1, 11, 1, 2, 2, 72, 2, 1, 1, 14, 1, 13, 95, 1, 1, 2, 2, 322, 1, 1, 2, 1, 1, 3, 2, 8, 1, 16, 53, 1, 1, 2, 1, 5, 12, 1, 17, 1, 1, 1, 1, 4, 1, 1, 5, 13, 3, 33, 44, 2, 1, 1, 1, 3, 1, 34, 2, 4, 2, 1, 3, 2, 3, 1, 1518, 1, 1, 4, 1, 2, 1, 1, 4, 1, 1, 6, 1, 335, 26, 1, 1, 2, 2, 3, 1, 2, 2, 2, 1, 1, 1, 3, 5, 1, 6, 1, 1, 3, 1, 3, 2, 4, 5, 1, 8, 1, 6, 2, 1, 12, 3, 22, 1, 50, 10, 3, 1, 6, 1, 1, 2, 1, 1, 3, 8, 2, 1, 147, 2, 15, 1, 3, 5, 75, 3, 31, 2, 1, 1, 1, 3, 2, 1, 65, 5, 1, 7, 1, 1, 1, 1, 1, 2, 1, 2, 1, 2, 1, 4, 5, 78, 1, 1, 1, 1, 16, 60, 2, 2, 3, 1, 1, 72, 13, 1, 1, 41, 3, 2, 3, 1, 1, 12, 8, 2, 1, 810, 1, 1, 36, 1, 1, 1, 2, 2, 3, 11, 1, 1, 4, 2, 161, 2, 2, 3, 3, 3, 1, 1, 11, 1, 1, 1, 2, 3, 1, 1, 1, 2, 145, 18, 5, 3, 1, 1, 2, 1, 2, 1, 1, 1, 1, 665, 4, 1, 1, 1, 21, 4, 3, 2, 5, 1, 1, 1, 1, 3, 15, 1, 8, 9, 1, 14, 1, 1, 8, 1, 110, 1, 8, 1, 2, 2, 1, 3, 2, 2, 1, 1, 1, 4, 1, 3, 4, 1, 4, 1, 7, 2, 1, 41, 2, 266, 3, 2, 1, 1, 14, 2, 1, 1, 2, 1, 1, 3, 16, 2, 4, 2, 1, 1, 11, 1, 1, 1, 3, 22, 4, 1, 2, 1, 1, 1, 78, 1, 3, 3, 4, 13, 4, 1, 2, 1, 6, 2, 2, 2, 1, 4, 6, 3, 2, 1, 34, 1, 8, 28, 1, 4, 9, 1, 2, 882, 1, 2, 1, 1, 2, 4, 1, 1, 2, 3, 1, 20, 1, 1, 1, 1, 2, 1, 2, 6, 2, 14, 33, 3, 2, 1, 2, 3, 13, 2, 75, 3, 8, 1, 1, 1, 3, 1, 3, 1, 1, 1, 3, 1, 91, 4, 1, 19, 1, 620, 1, 1, 5, 38, 1, 1, 2, 1, 4, 321, 2, 1, 1, 1, 104, 35, 2, 1, 2, 2, 1, 8, 1, 1, 8, 2, 21, 1, 1, 1, 3, 2, 5, 1, 1, 5, 10, 150, 3, 1, 17, 1, 2, 1, 8, 243, 1, 1, 95, 2, 2, 1, 4, 5, 1, 1, 3, 3, 1, 17, 1, 1, 1, 4, 3, 11, 1, 2, 1, 1, 1, 1, 65, 2, 4, 1, 3, 23, 1]\n"
     ]
    }
   ],
   "source": [
    "a = [0] * len(op)\n",
    "for p in range(0,len(op)):\n",
    "    for qw in range(0,len(df1)):\n",
    "        if(op[p] == df1[qw]):\n",
    "            a[p] = a[p] + 1\n",
    "print(a)"
   ]
  },
  {
   "cell_type": "code",
   "execution_count": 15,
   "metadata": {},
   "outputs": [
    {
     "data": {
      "text/plain": [
       "'Frequency of each terrorist groups field in dataset'"
      ]
     },
     "execution_count": 15,
     "metadata": {},
     "output_type": "execute_result"
    }
   ],
   "source": [
    "'''Frequency of each terrorist groups field in dataset'''"
   ]
  },
  {
   "cell_type": "code",
   "execution_count": 16,
   "metadata": {},
   "outputs": [
    {
     "name": "stdout",
     "output_type": "stream",
     "text": [
      "[[0, 'Thavar Caste', 1], [1, 'Ashuar Tribe', 1], [2, 'Purbo Banglar Communist Party', 18], [3, 'Islamic Movement of Uzbekistan (IMU)', 4], [4, 'Al-Umar Mujahideen', 3], [5, \"Ansaru (Jama'atu Ansarul Muslimina Fi Biladis Sudan)\", 6], [6, 'Zintani Militia', 1], [7, 'Bangladesh Nationalist Party (BNP)', 44], [8, 'U/I Somali Militiamen', 1], [9, 'Arsonists', 1], [10, 'Grupo de Combatientes Populares', 2], [11, 'African National Congress (South Africa)', 2], [12, 'Combat 18', 3], [13, 'Anarchist Faction', 2], [14, 'Jaish Al-Umma (Army of the Nation)', 1], [15, 'Anti-Racist Guerrilla Nuclei', 1], [16, 'Abkhazian guerrillas', 1], [17, 'Black Mambas', 1], [18, \"People's United Liberation Front (PULF)\", 7], [19, 'Baloch Liberation Front (BLF)', 34], [20, 'Al-Qaida in the Arabian Peninsula (AQAP)', 472], [21, \"Militant People's Revolutionary Forces\", 1], [22, 'Orange Volunteers (OV)', 11], [23, 'Black and Red Anarchist and Anti-Authoritarians Initiative (Greece)', 1], [24, 'Alex Boncayao Brigade (ABB)', 5], [25, 'Oglaigh na hEireann', 33], [26, 'Ijaw extremists', 7], [27, 'Soldiers of the Caliphate', 2], [28, 'Anarchist Squad', 1], [29, 'Jundallah (Pakistan)', 10], [30, 'Bin Zabyan Tribesmen', 1], [31, 'Gang', 1], [32, 'Shinwari Tribe', 1], [33, 'Eastern Turkistan Islamic Movement (ETIM)', 4], [34, 'Riyadus-Salikhin Reconnaissance and Sabotage Battalion of Chechen Martyrs', 10], [35, 'Islamic Jihad Organization (Yemen)', 2], [36, 'Junaid Jihadist Battalion', 1], [37, 'Popular Front for Recovery (FPR)', 1], [38, 'Revolutionary Force', 1], [39, 'Armenian nationalists', 1], [40, 'Korubo Tribe', 1], [41, 'Supporters of Muse Sudi Yalahow', 1], [42, 'Deccan Mujahideen', 8], [43, 'National Committee for the Restoration of Democracy and State (CNRDR)', 1], [44, 'Mayi Mayi', 21], [45, 'Jamaat Tauhid Wal Jihad (Pakistan)', 1], [46, 'Young Liberators of Pattani', 1], [47, 'Forbidden Blockade (Greece)', 1], [48, 'Zionist Resistance Fighters', 1], [49, 'Arsonists for Social Cohesion', 3], [50, 'Al-Naqshabandiya Army', 1], [51, 'Fuerzas Armadas Revolucionarias del Pueblo (FARP)', 3], [52, 'Al-Qaida Organization for Jihad in Sweden', 1], [53, 'Islamic Front for the Liberation of Bahrain', 1], [54, 'Al-Yemenia al-Ulia Tribesmen', 1], [55, 'Karbi National Volunteers (KNV)', 3], [56, 'Popular Revolutionary Action', 1], [57, 'Irish Republican Army (IRA)', 63], [58, 'Lashkar-e-Jhangvi', 80], [59, 'Haika', 1], [60, 'Holders of the Black Banners', 1], [61, 'Mahdaviyat', 1], [62, 'Freedom Eagles of Africa', 2], [63, 'Al-Shuda Brigade', 4], [64, 'Communist Party of India- Marxist', 7], [65, 'Oromo Liberation Front', 6], [66, 'Islamic Movement of Iraqi Mujahidin', 1], [67, 'Anti-Government extremists', 27], [68, 'Ansar al-Sharia (Libya)', 5], [69, 'Epanastatiki Anatropi (Revolutionary Overthrow)', 1], [70, 'Gangs of Conscience', 2], [71, 'Makhachkala Gang', 1], [72, 'Continuity Irish Republican Army (CIRA)', 28], [73, 'Sindhudesh Revolutionary Army (SRA)', 12], [74, 'Revenge of the Trees', 1], [75, 'Free Syrian Army', 36], [76, 'Syrian Army deserters', 1], [77, 'Janatantrik Terai Mukti Morcha- Bisphot Singh (JTMM-B)', 3], [78, 'National League for Democracy', 1], [79, 'Tehrik-e-Taliban Islami (TTI)', 1], [80, 'Direct Action Against Drugs (DADD)', 1], [81, 'Hutu extremists', 142], [82, 'Congolese Rally for Democracy (RCD)', 1], [83, 'Loyalist Action Force', 1], [84, 'Hofstad Network', 1], [85, 'Face to Face (Face-a-Face)', 1], [86, 'Ansaru ash-Sharia (Russia)', 1], [87, 'Takfir wal-Hijra (Excommunication and Exodus)', 10], [88, 'Youth of Islamic Awakening', 1], [89, 'Vanguards of the Caliphate', 1], [90, \"People's Revolutionary Army (ERP)\", 10], [91, \"The Nation's Army\", 1], [92, 'Hizbul Mujahideen (HM)', 96], [93, 'East Timorese extremists', 6], [94, 'Anti-Bhutto demonstrators', 1], [95, 'Hushaysh Tribal Members', 1], [96, 'Liwa al-Haqq', 1], [97, 'Anti-Apostate Movement Alliance (AGAP)', 1], [98, 'Liwa al-Sham', 1], [99, 'Ansar al-Dine (Mali)', 6], [100, 'Anti-Independence extremists', 3], [101, 'Jaish Usama', 1], [102, 'Popular Movement for the Liberation of Angola', 1], [103, 'Sardinian Autonomy Movement', 1], [104, 'People Against Gangsterism and Drugs (PAGAD)', 10], [105, 'Khalid ibn Walid Brigade', 1], [106, 'David Yau Yau Militia', 6], [107, 'Enraged Revolutionaries', 1], [108, 'Habr Gedir Clan', 1], [109, 'Harkat ul Ansar', 2], [110, 'Pattani United Liberation Organization (PULO)', 10], [111, 'Tela Mohammed', 1], [112, 'Individuals Tending Toward Savagery', 2], [113, 'Bedouin Movement (Sudan)', 2], [114, 'Azawad National Liberation Movement (MNLA)', 17], [115, 'Anti-State Action', 3], [116, 'Justice and Equality Movement (JEM)', 18], [117, 'Anti-Gentrification Front', 1], [118, 'Sipah-I-Mohammed', 3], [119, \"Lord's Resistance Army (LRA)\", 221], [120, 'Anonima Sequestri', 1], [121, 'Congolese Democratic Coalition', 2], [122, 'Anti-Nuclear Society for a Silent Counter-Offensive (ANGST)', 1], [123, 'Retired Soldier', 1], [124, 'Islamic Courts Union (ICU)', 12], [125, 'Mahaz Fedai Tahrik Islami Afghanistan', 3], [126, 'Jewish Extremists', 11], [127, 'Khasi Students Union', 2], [128, 'Uighur Separatists', 60], [129, 'U/I Snipers', 1], [130, 'Likud Political Party', 2], [131, 'Secessionists', 3], [132, 'Unknown', 37524], [133, 'Amr Bil Maroof Wa Nahi Anil Munkir', 3], [134, 'Opposition Group', 63], [135, 'Salafi Extremists', 1], [136, 'Fighting Guerrilla Formation', 5], [137, 'Lufa Tribesmen', 1], [138, 'May 98', 2], [139, 'Al-Qaida in Lebanon', 1], [140, 'Mahidi', 1], [141, 'Supporters of General Lino Oviedo', 1], [142, 'Anti-State Justice', 5], [143, 'Union of Chadian Forces (UFNT)', 1], [144, 'Kuki National Front (KNF)', 7], [145, 'Samyukta Terai Madhes Mukti Party', 1], [146, 'Tehrik al-Mojahedin', 2], [147, 'Al-Hamas Mujahideen', 1], [148, 'Sandinista National Liberation Front (FSLN)', 2], [149, 'Comando Bautista B', 1], [150, 'Belarusian Liberation Army', 1], [151, 'National Liberation Army (NLA) (Macedonia)', 35], [152, 'Baathist extremists', 3], [153, 'Pataxo Indians', 1], [154, 'Ninjas', 7], [155, 'French Armed Islamic Front', 1], [156, 'Vanuatu Mobile Force (VMF)', 2], [157, 'Arbav Martyrs of Khuzestan', 1], [158, 'Supporters of Ali Abdullah Saleh', 1], [159, 'Bru National Liberation Front (BNLF)', 1], [160, 'Tupac Amaru Revolutionary Movement (MRTA)', 6], [161, \"People's Liberation Army (India)\", 46], [162, 'Al-Toaiman Tribesmen', 2], [163, 'Turkestan Islamic Party', 3], [164, 'Sudanese Rebels', 1], [165, 'Borderless Solidarity Cell (BSC)', 1], [166, 'Islamic Fateh', 1], [167, 'Afridi Tribe', 1], [168, 'Tribal Separatists', 1], [169, 'Ulster Volunteer Force (UVF)', 16], [170, 'Student Militants', 1], [171, 'Anti-Kim Jong-il extremists', 1], [172, 'Opposition Militants', 3], [173, 'Otpor', 1], [174, 'Adan Abyan Islamic Army (AAIA)', 2], [175, 'Egbesu Youths of the Bayelsa', 2], [176, 'Muslim Militants', 66], [177, 'Global Intifada', 3], [178, 'Vietnamese', 1], [179, 'Janatantrik Terai Mukti Morcha- Rajan Mukti (JTMM-R)', 14], [180, \"People's Revolutionary Party of Kangleipak (PREPAK)\", 21], [181, 'Hizbul al Islam (Somalia)', 18], [182, 'Gholam Yahya Akbar', 1], [183, 'Egyptian Tawhid and Jihad', 2], [184, 'Madhesh Mukti Sangram (MMS)', 1], [185, 'South Sudan Democratic Army', 1], [186, 'Pro-LGBT Rights extremists', 1], [187, 'Jihadi Movement of the Sunna People of Iran', 1], [188, 'Delta Democratic Militia', 1], [189, 'Mai Mai Simba Militia', 2], [190, 'Supporters of Ernest Wamba dia Wamba', 1], [191, 'Afrikaner Resistance Movement (AWB)', 1], [192, 'Asbat al-Ansar', 2], [193, 'Munadil al-Jumalyi Brigade', 1], [194, 'Conqueror Army', 2], [195, 'Demonstrators', 1], [196, 'Albanian National Army (ANA)', 6], [197, 'Baloch Republican Army (BRA)', 95], [198, 'Mongolian Mukti Morcha', 1], [199, 'Mateo Morral Insurrectionist Commandos', 2], [200, 'Musa Sudi Yalahow Militia', 1], [201, 'Samyukta Janatantrik Terai Mukti Morcha (SJTMM)', 5], [202, 'Neo-Nazi extremists', 17], [203, 'National Democratic Alliance of Sudan', 1], [204, 'Nepali Congress Party (NC)', 1], [205, '14 March Coalition', 1], [206, 'Revolutionary Continuity', 1], [207, 'Al-Shabaab', 886], [208, 'Islamic State of Iraq and the Levant (ISIL)', 374], [209, 'Basque extremists', 8], [210, 'Revolutionary Violence Units', 1], [211, 'Army of State Liberators', 1], [212, 'Bunda Dia Kongo (BDK)', 1], [213, 'Terai Cobra', 2], [214, 'Right-Wing Death Squad', 3], [215, 'Avengers of the Infants', 2], [216, 'Jaish-e-Mohammad (Iraq)', 1], [217, 'Ansar Al Sunnah (Palestine)', 3], [218, 'Ansar Bayt al-Maqdis (Ansar Jerusalem)', 16], [219, 'Tehrik-e-Nafaz-e-Shariat-e-Mohammadi (TNSM)', 6], [220, 'Miners', 1], [221, 'Jaish-e-Islam', 10], [222, 'Baloch National Liberation Front', 1], [223, 'Incendiary Committee of Solidarity for Detainees', 1], [224, 'Supporters of Colonel Mahmud Khudoyberdiyev', 1], [225, 'Kurdistan Freedom Hawks (TAK)', 15], [226, 'Council for the Destruction of Order', 1], [227, 'Maoist Communist Party of Manipur', 1], [228, 'Ayesha bint al-Sadiq Brigade', 1], [229, 'M-19 (Movement of April 19)', 4], [230, 'May 15', 1], [231, 'Movement for Democratic Change (MDC)', 3], [232, 'Social Christian Party (PSC)', 1], [233, 'United Baloch Army (UBA)', 32], [234, 'White extremists', 14], [235, 'United Achik Liberation Army (UALA)', 2], [236, 'Zimbabwe African Nationalist Union (ZANU)', 4], [237, 'Kangleipak Communist Party (KCP)', 32], [238, 'Jaish al-Adl', 5], [239, 'Anti-Gun Control extremists', 3], [240, 'Pro Hartal Activists', 1], [241, 'Okba Ibn Nafaa Brigade', 2], [242, 'Clandestini Corsi', 2], [243, 'Mujahideen Youth Movement (MYM)', 23], [244, 'United Democratic Terai Liberation Front (UDTLF)', 1], [245, 'Serb demonstrators', 1], [246, 'Sudan Liberation Movement', 12], [247, 'Serbian extremists', 2], [248, '28s', 1], [249, 'Saif-ul-Muslimeen', 1], [250, 'Banner of Islam', 1], [251, 'Muttahida Qami Movement (MQM)', 25], [252, 'Jamiat ul-Mujahedin (JuM)', 12], [253, 'Terai Army', 10], [254, 'Harkatul Jihad-e-Islami', 15], [255, 'Veterans United for Non-Religious Memorials', 2], [256, 'Zehri Youth Force (ZYF)', 1], [257, 'Democratic Front for Renewal (FDR)', 1], [258, 'Shan State Army - South (SSA-S)', 3], [259, 'Anarchist Action (CA / United States)', 1], [260, 'Jaish al-Mukhtar', 1], [261, 'Kenya African National Union (KANU)', 2], [262, 'Union Parishad', 1], [263, '1920 Revolution Brigades', 2], [264, 'Anti-Nuclear extremists', 2], [265, 'The Organization for the Return of Legality', 1], [266, 'Union of Revolutionary Communists in Turkey (TIKB)', 1], [267, 'Ku Klux Klan', 1], [268, 'Democratic Front for the Liberation of Palestine (DFLP)', 18], [269, 'Croatians', 2], [270, 'Shan United Revolutionary Army', 5], [271, 'All Karanataka Youth Council', 1], [272, 'Tutsi extremists', 9], [273, 'Farmers', 3], [274, 'Al-Qaida in the Islamic Maghreb (AQIM)', 207], [275, 'Taliban (Pakistan)', 38], [276, 'Forces for the Defense of Democracy (FDD)', 5], [277, 'Ethiopians', 1], [278, 'Popular Resistance Committees', 44], [279, 'Dayak gang', 1], [280, 'CCCCC', 5], [281, 'Nationalist Integrationist Front (FNI)', 2], [282, 'Dissident Republicans', 31], [283, 'Babbar Khalsa International (BKI)', 2], [284, 'Red Sea Afar Democratic Organization (RSADO)', 3], [285, 'Gono Bahini (GB)', 2], [286, 'Mahdi Army', 19], [287, 'Izberbash Gang', 1], [288, 'The Islamic Revolution to Liberate Palestine', 1], [289, 'Madhesi Virus Killers', 1], [290, \"Asa'ib Ahl al-Haqq\", 10], [291, 'Syrian Social Nationalist Party', 1], [292, 'Scottish National Liberation Army', 2], [293, 'Ticuna Indian', 1], [294, 'Africa Marine Commando', 5], [295, 'Right-Wing Gunmen', 1], [296, 'Fight Against Authority', 1], [297, 'National Congress for the Defense of the People (CNDP)', 5], [298, 'Anarchists Attack Team', 1], [299, 'Zetas', 2], [300, 'Chukakuha Revolutionary Army', 1], [301, 'Anti-Police extremists', 1], [302, \"National People's Party (Rashtriya Janata Dal - RJD)\", 1], [303, \"Sudan People's Liberation Army (SPLA)\", 28], [304, 'Anti-Environmentalists', 2], [305, 'Revolutionary Armed Forces of Colombia (FARC)', 1301], [306, 'NVF', 4], [307, 'Lendu extremists', 1], [308, 'Movement of Democratic Forces of Casamance', 51], [309, 'Saudi Hezbollah', 1], [310, 'Rahanwein Resistance Army (RRA)', 7], [311, 'Youth Gang', 1], [312, \"Revolutionary Workers' Council (Kakurokyo)\", 3], [313, 'Human Rights Renewal Movement (Renovacion por los Derechos Humanos)', 1], [314, 'Chakma tribal group', 1], [315, 'Omar Bin Khattab Group', 1], [316, 'National Front Against Tigers (NFAT)', 3], [317, \"Hmar People's Convention-Democracy (HPC-D)\", 1], [318, \"People's Liberation Front of India\", 24], [319, 'Dissident Republican Guard', 1], [320, \"The Husayn Ubayyat Martyrs' Brigades\", 1], [321, 'Balochistan Liberation United Front (BLUF)', 8], [322, 'Indian Mujahideen', 51], [323, 'Maoist Communist Center (MCC)', 32], [324, 'Resistenza Corsa', 4], [325, 'Special Purpose Islamic Regiment (SPIR)', 3], [326, 'M23', 8], [327, \"All Burma Students' Democratic Front (ABSDF)\", 4], [328, 'Militant Forces Against Huntingdon', 1], [329, 'National Liberation Front of Tripura (NLFT)', 67], [330, 'Janjaweed', 8], [331, 'Movement of Niger People for Justice (MNJ)', 10], [332, '23 May Democratic Alliance (Algeria)', 3], [333, 'Comando Malvinas Argentinas', 1], [334, 'The Jean Marc Rouillan Armed and Heartless Columns', 1], [335, 'Khumbuwan Mukti Morcha', 2], [336, 'Mullah Dadullah Front', 1], [337, 'Kurdish Democratic Party-Iraq (KDP)', 3], [338, 'Islamic Shashantantra Andolon (ISA)', 2], [339, \"Defenders of the Nation's Sovereignty\", 1], [340, 'Colombian Guerrillas', 4], [341, 'Islamist extremists', 117], [342, 'Gunmen', 255], [343, 'Shahid Khalsa Force', 2], [344, 'Janatantrik Terai Mukti Morcha- Goit (JTMM-G)', 27], [345, 'Labor Union Leaders', 1], [346, 'Bharat Zinc Workers', 1], [347, 'Al-Khobar', 7], [348, 'Urhobo Revolutionary Army', 1], [349, 'Fighting For Freedom Coalition (FFFC-Ottawa)', 1], [350, 'National Redemption Front', 1], [351, 'Bougainville Revolutionary Army (BRA)', 6], [352, 'Sunni Supporters', 1], [353, 'Al-Nasirin (India)', 2], [354, 'Khmer Rouge', 29], [355, 'Parbatya Chattagram Jana Sanghati Samity (PCJSS) - Bangladesh', 2], [356, 'Thai Islamic Militants', 58], [357, 'National Liberation Army (Nepal)', 1], [358, 'Rally of Democratic Forces (RAFD)', 1], [359, 'Local Extremist', 1], [360, 'Albanian extremists', 45], [361, 'Group of Carlo Giuliani', 1], [362, 'Al-Mujahedin Brigades (Palestine)', 1], [363, 'Pro-Indonesia extremists', 5], [364, 'Ejercito Revolucionario Guevarista (Guevarist Revolutionary Army)', 1], [365, 'Tamil Liberation Army', 2], [366, 'Jund al-Sahabah Group', 1], [367, 'National Renewal Party', 1], [368, 'Uganda Federal Democratic Alliance (UFEDA)', 1], [369, 'Mujahedeen Corps in Iraq', 2], [370, 'Tribal Group', 33], [371, 'Robin Food', 4], [372, 'Guaycaipuro Indians', 1], [373, \"Dagestani Shari'ah Jamaat\", 5], [374, 'Earth Liberation Front (ELF)', 71], [375, 'Jadid Al-Qaida Bangladesh (JAQB)', 3], [376, 'Pahadi Cheetah', 1], [377, 'Al-Bakazim', 2], [378, 'Serb Radical Party', 1], [379, 'Arab Socialist Baath Party of Iraq', 1], [380, 'Students Islamic Movement of India (SIMI)', 8], [381, 'National Army for the Liberation of Uganda (NALU)', 1], [382, 'Force Etudiante Critique', 1], [383, 'Bengali Sangram Mukti Bahini', 1], [384, 'Cuban Exiles', 2], [385, 'Georgian extremists', 2], [386, 'Shabelle Valley militia', 2], [387, 'Wolves of Islam', 1], [388, 'Pokot extremists', 1], [389, 'Yarmouk Martyrs Brigade', 2], [390, 'Union of Forces for Democracy and Development (UFDD)', 3], [391, \"Free Democratic People's Government of Laos\", 1], [392, 'National Bolshevik Party (Partiya Natsionalnikh Bolshevikov - PNB)', 1], [393, \"Niger Delta People's Volunteer Force (NDPVF)\", 3], [394, 'Resistencia Galega', 2], [395, 'Armed Islamic Group (GIA)', 132], [396, 'Arauco Malleco Coordinating Group (CAM) - Chile', 2], [397, 'Jamaat-E-Islami (Bangladesh)', 30], [398, 'Rohingya Solidarity Organization', 1], [399, 'Jamaah Ansharut Tauhid (JAT)', 8], [400, 'Group of Popular Fighters', 2], [401, 'Chin National Army', 1], [402, 'Guatemalan hired assasins', 1], [403, 'Pro-Pakistani extremists', 1], [404, 'September 11', 4], [405, 'Mouhajiroune Brigade', 1], [406, 'Kurdish Rebels', 1], [407, 'Ahlu-sunah Wal-jamea (Somalia)', 4], [408, 'Coordination Committee (CORCOM)', 16], [409, 'Karbi Longri North Cachar Liberation Front (KLNLF)', 15], [410, 'Students', 1], [411, 'National Liberation Front (FNL) (Burundi)', 27], [412, \"Karbi People's Liberation Tigers (KPLT)\", 17], [413, 'Bodo Militants', 11], [414, 'November 17 Revolutionary Organization (N17RO)', 16], [415, 'Hekla Reception Committee-Initiative for More Social Eruptions', 5], [416, 'Athens and Thessaloniki Arsonist Nuclei', 8], [417, 'Anti-Muslim extremists', 10], [418, 'Popular Resistance Brigade', 2], [419, 'Karbi Longri National Liberation Front (KLNLF)', 2], [420, 'Modakeke Ethnics', 4], [421, 'Anti-Liberal extremists', 1], [422, 'South Ossetian Separatists', 10], [423, 'Adivasi National Liberation Army (ANLA)', 5], [424, 'White Legion (Ecuador)', 1], [425, 'National Socialist Council of Nagaland', 6], [426, 'Cambodian Freedom Fighters (CFF)', 5], [427, 'Aibed Er-Rahman katibet', 1], [428, 'United National Party', 1], [429, 'Naxalites', 39], [430, 'Ansar Wa Mohajir (Pakistan)', 2], [431, 'National Council for Defense of Democracy (NCDD)', 15], [432, 'Revolutionary Insurgent Armed Forces of Ecuador (FAIRE)', 1], [433, 'Awami League', 8], [434, 'E. Timorese Youths', 1], [435, \"Sa'ad Militia\", 1], [436, 'Tritiya Prastuti Committee (TPC)', 9], [437, 'Erotic Anti-authority Cells', 1], [438, 'Gbagbo Loyalists', 7], [439, 'Hanchongryun', 1], [440, 'Modakeke Ethnic Activists', 2], [441, 'Bani Hilal Tribe', 1], [442, 'Peasant Self-Defense Group (ACCU)', 23], [443, 'Yakariya Bango Insurgent Group', 2], [444, 'Kach', 2], [445, 'All Ethiopian Unity Party (AEUP)', 1], [446, 'Bhumi Uchched Pratirodh Committee (BUPC)', 1], [447, 'Devrimici Halk Kurtulus Cephesi (DHKP/C)', 24], [448, 'Revolutionary Leninist Brigades', 1], [449, 'Liberation and Justice Movement (LJM)', 3], [450, 'Janatantrik Terai Mukti Morcha- Ranbir Singh (JTMM-RS)', 1], [451, 'Beja Congress', 4], [452, 'Sovereign Citizen', 1], [453, 'Four Martyrs Brigade', 1], [454, 'Ahrar al-Sham', 2], [455, 'Amal', 3], [456, 'Jihadist Soldiers', 1], [457, 'Peasant protesters', 2], [458, \"Landless Peasants' Movement (MST)\", 6], [459, 'Jamaica Labor Party', 1], [460, 'Corsican National Liberation Front (FLNC)', 165], [461, 'Grey Wolves', 5], [462, 'Afghans', 1], [463, 'Paramilitary members', 1], [464, \"People's Tamil Organization\", 2], [465, 'Animal Rights Militia', 1], [466, \"Sudan People's Liberation Movement - North\", 22], [467, 'Rival Afghan Group', 1], [468, 'Forum for the Restoration of Democracy-Kenya', 1], [469, \"Habi's Er'roub seriat\", 1], [470, \"People's United Democratic Movement (PUDEMO)\", 1], [471, 'Popular Front for the Liberation of Palestine (PFLP)', 57], [472, 'GN-95', 1], [473, 'Jaish-e-Mohammad (JeM)', 22], [474, 'Coalition to Save the Preserves (CSP)', 8], [475, 'Friends of Freedom', 2], [476, 'U/I Liberian Gunmen', 1], [477, 'Sayfullakh', 1], [478, 'Laskar Jihad', 7], [479, 'Praveen Dalam', 1], [480, 'SKIF Detachment', 1], [481, 'Cambodian Gunmen', 1], [482, 'Hizb al-Tahrir al-Islami (HT)', 2], [483, 'Self Defense Forces', 1], [484, 'Republic of Texas', 1], [485, 'Janatantrik Terai Mukti Morcha (JTMM)', 29], [486, 'Bedouin tribesmen', 10], [487, 'Lashkar-e-Islam (Pakistan)', 81], [488, 'Turkish Revenge Brigade', 1], [489, 'Caspian Group', 1], [490, 'Revolutionary Combat Brigades', 1], [491, 'Recontras', 7], [492, 'Free Vietnam Movement', 1], [493, 'Commander Luciano Varela Antiguerrilla Group', 1], [494, 'Rashtriya Swayamsevak Sangh', 4], [495, 'Mahan Madhesh Janakantri Party (MMJP)- Nepal', 4], [496, 'Baloch Nationalists', 13], [497, 'Niger Delta Freedom Fighters (NDDF)', 1], [498, 'Lashkar-e-Taiba (LeT)', 116], [499, 'Protestant extremists', 22], [500, 'Movement for the Actualization of the Sovereign State of Biafra (MASSOB)', 3], [501, 'The Inevitables', 1], [502, 'Bangladesh Sarbahara Party', 2], [503, 'Sabaot Land Defense Force (SLDF)', 4], [504, 'Basque Separatists', 1], [505, 'Popular Front for Justice in the Congo', 5], [506, 'Conspiracy of Cells of Fire', 48], [507, 'Former Soldiers/Police', 1], [508, 'Mujahedin-e Khalq (MEK)', 22], [509, 'Anti-Democratic Struggle', 2], [510, 'National Youth Service of Zimbabwe', 1], [511, \"Islamic Defenders' Front (FPI)\", 2], [512, 'Ansarullah Bangla Team', 2], [513, 'Communist Party of Nepal- Unified Marxist-Leninist (CPN-UML)', 3], [514, 'Jerusalem Groups Hebrew (Qvutzot Yerushalayim)', 1], [515, 'Ingush Rebels', 1], [516, 'Turkish Hezbollah', 4], [517, 'Macedonian nationalists', 1], [518, 'Jammu and Kashmir Liberation Front', 2], [519, 'Jundallah (Iran)', 13], [520, \"Manipur Naga People's Army (MNPA)\", 1], [521, 'Movement for Oneness and Jihad in West Africa (MUJAO)', 36], [522, 'Kuki Revolutionary Army (KRA)', 4], [523, 'Muslim Rebels', 30], [524, 'Al-Mansoorian', 17], [525, 'Unification Army Sons Brigade', 1], [526, 'Anti-Government Group', 4], [527, 'Turkish Leftists', 8], [528, \"People's Militia of Dagestan\", 2], [529, 'Powers of the Revolutionary Arc', 1], [530, 'Iparretarrak (IK)', 9], [531, \"People's Alliance\", 1], [532, 'Party for the Liberation of the Hutu People (PALIPEHUTU)', 37], [533, 'Mujahedeen Shura Council in the Environs of Jerusalem', 5], [534, 'Friendly Company', 1], [535, 'Liwa al-Tawhid', 1], [536, 'Lashkar-e-Balochistan', 8], [537, 'Al-Ittihaad al-Islami (AIAI)', 4], [538, 'Army of the Republic of Ilirida', 2], [539, 'Allied Democratic Forces of Guinea (RDFG)', 1], [540, 'Kirat Janabadi Workers Party', 5], [541, 'Provisional RSPCA', 1], [542, 'Hindu extremists', 4], [543, 'Civil Association for Peace in Colombia, Asocipaz', 1], [544, 'Palestinians', 31], [545, 'Paramilitaries', 39], [546, \"People's War Group (PWG)\", 73], [547, 'Rastas', 2], [548, 'Al-Qaida in Iraq', 638], [549, 'Just Punishment Brigades', 1], [550, 'Separatists', 240], [551, 'United Democratic Liberation Army (UDLA)', 4], [552, 'Jharkhand Liberation Tigers (JLT)', 6], [553, 'Anti-Abortion extremists', 47], [554, 'Muslim Fundamentalists', 4], [555, 'Red Brigades Fighting Communist Union (BR-UCC)', 1], [556, 'Islamic Tendency', 1], [557, 'Turkish Communist Party/Marxist (TKP-ML)', 12], [558, \"United People's Democratic Solidarity (UPDS)\", 7], [559, 'Anti-Authority Group (Greece)', 6], [560, 'Armed Forces of the Chechen Republic of Ichkeria', 12], [561, 'Abdullah Azzam Brigades', 19], [562, 'Aniban ng Ayaw sa Komunista (ANAK)\\xa0', 1], [563, 'Enyele Militia', 1], [564, 'Iconoclasts', 1], [565, 'Mahaz-e-Inquilab', 3], [566, 'Supporters of Pascal Lissouba', 1], [567, 'Forest Brothers', 2], [568, 'Zapatista National Liberation Army', 5], [569, 'Matan Abdulle', 1], [570, 'Jarrai', 1], [571, 'Badr Brigades', 1], [572, 'Islamic Swords of Justice in the Land of Ribat', 1], [573, 'Al-Adl Wal Ihsane', 1], [574, 'National United Front of Democracy Against Dictatorship (UDD)', 1], [575, 'International Solidarity', 2], [576, 'Liberation Army for Presevo, Medvedja and Bujanovac (UCPMB)', 3], [577, 'Guerrilla Command Force 97', 1], [578, 'Turkish radicals', 2], [579, 'Pattali Makkal Katchi (PMK)', 4], [580, 'Liberals of Galilee', 1], [581, \"Paraguayan People's Army (EPP)\", 20], [582, 'Gugama Youth Federation', 1], [583, 'Progressive Socialist Party (PSP)', 1], [584, 'Organization 544', 1], [585, 'Revolted Persons of the Polytech School', 1], [586, 'Juarez Cartel (Carrillo-Fuentes / Mexico)', 1], [587, \"People's Liberation Organization of Tamil Eelam\", 1], [588, 'Porattom', 1], [589, 'Loyalists', 14], [590, 'Jund al-Sham for Tawhid and Jihad', 7], [591, 'Islamic State of Iraq (ISI)', 145], [592, 'Urban Guerrilla War', 1], [593, 'Ansar al-Sharia (Tunisia)', 11], [594, 'Kuki tribesmen', 4], [595, 'Cannibal Army', 4], [596, 'Muslim United Liberation Tigers of Assam (MULTA)', 1], [597, 'Anti-Capitalist Action', 1], [598, 'Vandalicia Teodoro Suarez', 1], [599, 'Diraa al-Shahbaa Rebel Brigade', 1], [600, 'Shanti Bahini - Peace Force', 13], [601, 'Himali Tigers', 1], [602, 'Iraqi Sunni Extremists', 1], [603, 'Mujahideen Ansar', 12], [604, 'Harakat ul-Mujahidin (HuM)', 3], [605, 'Unsubordinated Desires', 1], [606, 'Sagrado Corazon Fanatic Group', 1], [607, 'Anti-State Proletarian Nuclei', 1], [608, 'Aba Cheali Group', 1], [609, 'Democratic Karen Buddhist Army (DKBA)', 14], [610, 'Tajamo Ansar al-Islam', 1], [611, 'Autonomous Decorators', 1], [612, 'Terai Madheshi Mukti Morcha (TMMM)', 1], [613, 'Muslim extremists', 202], [614, 'Baloch Mussalah Diffah Tanzim (BMDT)', 1], [615, 'Raul Ernesto Cruz Leon, Salvadorian', 3], [616, 'Black Star', 7], [617, 'National Organization of Cypriot Fighters (EOKA)', 1], [618, 'Civil Defense Force (CDF)', 1], [619, 'Support of Ocalan-The Hawks of Thrace', 1], [620, 'Croat Democratic Union', 1], [621, 'Guerrillas', 2], [622, 'The Joint Revolutionary Council', 7], [623, 'Janatantrik Terai Mukti Morcha- Prithvi Singh (JTMM-P)', 2], [624, 'All Kamatapur Liberation Force', 1], [625, \"Comite d'Action Viticole\", 4], [626, 'Mujahidin Indonesia Timur (MIT)', 6], [627, 'New Revolutionary Popular Struggle (NELA)', 1], [628, 'Samyukta Jatiya Mukti Morcha (SJMM)', 12], [629, 'Brigade of al-Mukhtar al-Thaqafi', 1], [630, 'Terai Janatantrik Madhes Party', 1], [631, 'Kamajor Hunters', 2], [632, 'Harakat ul-Mujahidin Al-Almi', 1], [633, 'National Anti-Corruption Front (FNA)', 1], [634, 'Kosovo Liberation Army (KLA)', 55], [635, 'Mukhtar Army', 3], [636, 'Angry Brigade', 1], [637, 'Kuki Liberation Army (KLA)', 4], [638, \"United Front for Nigeria's Liberation (UFNL)\", 1], [639, 'Democratic Movement for the Liberation of the Eritrean Kunamas (DMLEK)', 2], [640, 'East Turkistan Liberation Organization', 1], [641, 'Al-Nasireen Group', 3], [642, 'Tawhid and Jihad', 50], [643, 'National Liberation Army of Colombia (ELN)', 422], [644, \"Iraq's Jihadist Leagues\", 3], [645, 'Jaljala Army', 1], [646, 'Martyr Sami al-Ghul Brigades', 1], [647, 'Communist Party of Nepal- Maoist (CPN-M)', 23], [648, 'Al-Masni Tribe', 1], [649, 'Congolese Patriotic Resistence-Patriotic Armed Forces (Pareco/FAP)', 2], [650, 'Bangsamoro National Liberation Army', 1], [651, 'Communist Party of Nepal-Maoist (Baidya)', 33], [652, 'Uighur Liberation Organization', 1], [653, 'Union of Democratic Forces', 1], [654, 'Grozny Jamaat', 1], [655, 'Anti-Clerical Pro-Sex Toys Group', 2], [656, 'Anti-Balaka Militia', 5], [657, 'Eritrean Salvation Front (ESF)', 1], [658, 'Jacinto Araujo Internationalist Rebel Insurrectionist Brigade', 1], [659, 'Guatemalan National Revolutionary Unity (URNG)', 6], [660, 'Jaish al-Muhajireen wal-Ansar (Muhajireen Army)', 1], [661, \"Bodo People's Front (BPF)\", 1], [662, 'Al-Arifeen', 4], [663, 'Etnocacerista Movement', 1], [664, 'Zero Tolerance', 3], [665, 'Squadrons of Terror (Katibat El Ahoual)', 2], [666, 'Ansar al-Islam', 27], [667, 'Future movement (Lebanon)', 1], [668, 'Al-Herak Al-Tihami Movement', 1], [669, 'Dima Halao Daoga (DHD)', 24], [670, 'The New Irish Republican Army', 11], [671, 'Los Rastrojos (Colombia)', 1], [672, 'Mozambique National Resistance Movement (MNR)', 20], [673, 'Corsican National Liberation Front- Historic Channel', 84], [674, 'Koreans', 2], [675, 'Swatantra Nepal Dal', 1], [676, 'Sudan Revolutionary Front (SRF)', 3], [677, 'Unidentified Infiltrators', 1], [678, 'Vigorous Burmese Student Warriors', 2], [679, 'Angola Rebels', 1], [680, 'Al-Zaidi Tribe - Mareb', 1], [681, 'Insurgents', 9], [682, 'Wild Freedom', 1], [683, 'Draa El Mizan Seriat', 2], [684, 'Al-Sunna wal Jamma', 1], [685, 'Salafist Group for Preaching and Fighting (GSPC)', 214], [686, 'Kamal Boulander Group', 1], [687, 'Terena Indians', 2], [688, 'Bengali Tiger Force (BTF)', 1], [689, 'Al-Fajr', 1], [690, 'Tigers', 1], [691, 'Seleka', 1], [692, '313 Brigade (Syria)', 3], [693, 'Revolutionary Front for an Independent East Timor (FRETILIN)', 7], [694, 'Colonel Karuna Faction', 9], [695, 'Tuareg Guerrillas', 1], [696, 'Swaziland Youth Congress (Swayoco)', 1], [697, 'Sect of Revolutionaries (Greece)', 3], [698, 'United Liberation Front of Barak Valley (ULFBV) - India', 2], [699, 'Animal Rights extremists', 13], [700, 'Popular Front for the Liberation of Palestine, Gen Cmd (PFLP-GC)', 3], [701, 'Jund Al-Tawid', 1], [702, 'Young Officer Union of the New Generation and Reformist Armed Forces of the Philippines (YOU-RAFP)', 1], [703, 'The United Revolutionary Front of Bhutan', 2], [704, 'The Mujahadeen Room in Latakia Countryside', 1], [705, 'Chechen Lone Wolf Group', 2], [706, 'Real Ulster Freedom Fighters (UFF) - Northern Ireland', 4], [707, 'Viviana Gallardo Command', 1], [708, 'Sindh Liberation Front', 2], [709, 'Baloch Liberation Army (BLA)', 95], [710, 'The Northern Alliance (or United Islamic Front for Salvation of Afghanistan - UIFSA)', 5], [711, 'Kisii Activists', 1], [712, 'Bersatu', 1], [713, 'Columbia PM', 2], [714, 'Merille Militia', 3], [715, 'Tehrik-e-Nifaz-e-Aman Balochistan-Jhalawan Brigade (TNAB-Jhalawan Brigade)', 1], [716, 'Tribesmen, al-Itada', 1], [717, 'Borana bandits', 1], [718, 'Dynamic Youth Forum', 2], [719, 'Strikers', 8], [720, 'Somali Islamic Front', 3], [721, 'U/I Liberians', 1], [722, 'Army of God', 7], [723, \"United People's Democratic Front (UPDF) - Bangladesh\", 5], [724, 'Proletariat Self-defense Groups', 3], [725, 'Kuki Tribal Militants', 1], [726, 'Left-Wing Terrorists', 1], [727, 'Supporters of Ali Mahdi Mohammed', 1], [728, 'Front for Peace and Reconciliation (FRP)', 1], [729, 'Abu Nidal Organization (ANO)', 1], [730, 'Neo-Fascists', 2], [731, 'Popular Army for the Restoration of Democracy (APRD)', 1], [732, 'Danish Neo-Nazi Group', 1], [733, \"People's Democratic Struggle Movement\", 1], [734, 'Sindhu Desh Liberation Army (SDLA)', 47], [735, 'National United Front for an Independent, Neutral, Peaceful, and Cooperative Cambodia (FUNCINPEC)', 2], [736, 'Al-Ummah', 15], [737, 'Abida Tribe', 3], [738, 'Akhil Terai Mukti Morcha (ATMM)', 12], [739, 'Maori', 1], [740, 'Liberation Tigers of Tamil Eelam (LTTE)', 863], [741, 'National Development Party (NDP)', 1], [742, \"Kurdistan Workers' Party (PKK)\", 403], [743, 'Bosnian refugee', 1], [744, 'Tamils', 2], [745, 'Red Hand Defenders (RHD)', 23], [746, 'Pattani United Liberation Organization-MKP (PULO-MKP)', 1], [747, 'Al-Furqan Brigades', 2], [748, 'Nobles of Jordan', 1], [749, 'Aryan Nation', 1], [750, 'Supporters of Saddam Hussein', 1], [751, 'United Kuki Liberation Front (UKLF) - India', 4], [752, 'Supporters of Laurent Nkunda', 2], [753, 'Isatabu Freedom Movement (IFM)', 1], [754, 'Kachin Independence Army (KIA)', 6], [755, 'Democratic Front for the Liberation of Rwanda (FDLR)', 40], [756, 'Mujahedeen Shura Council', 8], [757, 'Anti-Communist Command (KAK)', 1], [758, 'Solidarity with imprisoned members of Action Directe (AD)', 2], [759, 'National Socialist Council of Nagaland-Khaplang (NSCN-K)', 17], [760, 'Liwa al-Islam', 1], [761, 'Detonators of Social Uprisings', 1], [762, 'Armed Vanguards of a Second Mohammed Army', 1], [763, \"Jaish al-Ta'ifa al-Mansura\", 2], [764, 'Revolutionary Headquarters (Turkey)', 1], [765, 'Zuwar al-Imam Rida', 1], [766, 'Filipino Soldiers for the Country', 2], [767, 'Initiative de Resistance Internationaliste', 1], [768, 'Ujjan Tribe', 1], [769, 'Fighters of Democratic Latvia', 1], [770, 'The Front for the Liberation of the Cabinda Enclave - Renewed (FLEC)', 2], [771, 'Islami Jamiat-e-Talaba (IJT)', 2], [772, 'Mombasa Republican Council (MRC)', 6], [773, 'Vishwa Hindu Parishad (VHP)', 9], [774, 'Tuareg extremists', 13], [775, 'Marhan Clan', 1], [776, 'Al-Intiqami al-Pakistani', 2], [777, 'Supporters of Sultan Abd-al-Bagi', 1], [778, 'Militant Minority (Greece)', 7], [779, 'Palestinian Extremists', 41], [780, 'Tharuhat Joint Struggle Committee (TJSC)', 2], [781, 'Mujahideen Islam Pattani', 4], [782, 'Deniers of Holidays', 1], [783, 'Chinese Illegal Immigrant', 1], [784, 'Jatav Caste', 1], [785, 'Tajik Rebels', 1], [786, 'Algerian Islamic Extremists', 373], [787, 'Resistenza', 48], [788, 'Hamas (Islamic Resistance Movement)', 240], [789, 'Sisters in Arms', 1], [790, 'CSS Movement', 1], [791, 'National Liberation Front of Provence (FLNP)', 2], [792, 'Baby Liberation Army', 1], [793, 'Fanmi Lavalas', 1], [794, \"Jama'atul Mujahideen Bangladesh (JMB)\", 22], [795, 'Revolutionary Perspective', 5], [796, 'Andres Castro United Front', 3], [797, 'Lebanese male', 1], [798, 'Sipah-e-Sahaba/Pakistan (SSP)', 9], [799, 'Movement for Democracy and Justice in Chad (MDJT)', 2], [800, 'Partisan Sharpshooters', 1], [801, 'Tanzim', 5], [802, 'Christian extremists', 1], [803, 'Kuki National Army (KNA)', 3], [804, 'Militant Peasants (NFI)', 2], [805, 'Kokang', 1], [806, 'Al-Jub Tribe', 1], [807, 'Biswabhumi Sena Bishal Nepal', 1], [808, 'Balochistan National Army', 1], [809, 'Southern Yemen Separatists', 5], [810, 'Supreme Council for Islamic Revolution in Iraq (SCIRI)', 8], [811, 'Kawal ng Pilipinas (Soldier of the Philippines)', 1], [812, 'Al-Qaida in Yemen', 12], [813, 'Civil Servants and Unionists', 1], [814, 'Indian Tigers', 1], [815, 'National Liberation Army (Ecuador)', 1], [816, 'Harakat Ansar Iran (HAI)', 1], [817, 'United National Liberation Front (UNLF)', 16], [818, 'Zemun Clan', 1], [819, 'Niger Delta Vigilante (NDV)', 3], [820, 'Convention of Liberal Reformers (CLR)', 1], [821, 'Timorese Students', 2], [822, 'We Who Built Sweden', 1], [823, 'Jihad Islamic League Front', 1], [824, 'Core Conspirators for the Extension of Chaos (Núcleo de Conspiradores por la Extensión de Kaos)', 1], [825, 'Qari Kamran Group', 1], [826, 'Salafia Jihadia', 5], [827, 'Revolutionary Cells-Animal Liberation Brigade', 2], [828, 'Hynniewtrep National Liberation Council (HNLC)', 2], [829, 'Mutahida Majlis-e-Amal', 2], [830, 'Abdul Qader Husseini Battalions of the Free Palestine movement', 1], [831, 'World Church of the Creator', 6], [832, 'Muslim Separatists', 70], [833, \"Farmer's Movement of the Philippines (KMP)\", 2], [834, 'Guadalcanal Liberation Army', 1], [835, 'Supporters of Johnny Paul Koroma', 1], [836, 'Proletarian Nuclei for Communism', 2], [837, 'Gun runners', 1], [838, 'Armed Revolutionary Action (ENEDRA)', 2], [839, 'Left-wing extremists', 11], [840, \"People's Amn Committee\", 2], [841, 'Tribesmen', 35], [842, 'Kashmir Freedom Force', 1], [843, 'Libya Revolutionaries Operations Room (LROR)', 1], [844, 'Revolutionary Military Council', 1], [845, \"Al-Ahwaz Arab People's Democratic Front\", 3], [846, 'Runda Kumpulan Kecil (RKK)', 51], [847, 'Khorasan jihadi group', 2], [848, 'Catholic E. Timurese', 1], [849, 'United Self Defense Units of Colombia (AUC)', 67], [850, 'Arabs', 2], [851, \"Kata'ib Hezbollah\", 3], [852, 'Al-Fatah', 28], [853, 'Political Group', 8], [854, 'Hill Tiger Force (HTF)', 4], [855, 'Sudan Liberation Army-Minni Minawi (SLA-MM)', 5], [856, \"Federation of Students and Scholars of Cote d'Ivoire (FESCI)\", 1], [857, 'Algerian Moslem Fundamentalists', 2], [858, 'Tupamaro Revolutionary Movement', 4], [859, 'Taliban', 3231], [860, 'Alcubar group', 1], [861, 'Popular Revolutionary Army (Mexico)', 22], [862, 'Anarchist Struggle', 1], [863, 'Karbi Tribe', 1], [864, 'Kurdistan Free Life Party', 11], [865, 'Supporters of Muhammad Umar Habib', 1], [866, 'Rebel Military Unit', 2], [867, 'Right-Wing Group', 2], [868, 'Al-Qaida', 72], [869, 'Umar al-Mukhtar Martyr Forces', 2], [870, 'Tibetan separatists', 1], [871, 'Karnataka State Farmers Association', 1], [872, 'Popular Liberation Army (EPL)', 14], [873, 'Civil War Veterans', 1], [874, 'Jihadi-inspired extremists', 13], [875, 'Shining Path (SL)', 95], [876, 'Terai Rastriya Mukti Sena (TRMS)', 1], [877, 'Ariska Brodraskapet (Aryan Brotherhood)', 1], [878, 'Timorese guerrillas', 2], [879, 'Anti-Imperialist Territorial Nuclei (NTA)', 2], [880, 'Chechen Rebels', 322], [881, 'Gilad Shalhevet Brigades', 1], [882, 'Anarchist Liberation Brigade', 1], [883, 'Islamic Jihad Union (Uzbekistan)', 2], [884, 'Hells Angels', 1], [885, 'Sanghiya Limbuwan Committee (SLC)', 1], [886, 'National Alliance (Chad)', 3], [887, 'Al-Qaida Kurdish Battalions (AQKB)', 2], [888, 'Armata di Liberazione Naziunale (ALN)', 8], [889, 'Pakistan Muslim League (PML)', 1], [890, 'Corsican Separatists', 16], [891, \"Al-Gama'at al-Islamiyya (IG)\", 53], [892, 'Organization of Soldiers of the Levant', 1], [893, 'Terai Janatantrik Party', 1], [894, 'Egyptians', 2], [895, 'Mob', 1], [896, 'Madhesh Rastra Janatantrik Revolutionary (RJR) - Nepal', 5], [897, 'Black Widows', 12], [898, 'Jenin Martyrs Brigades', 1], [899, 'First of October Antifascist Resistance Group (GRAPO)', 17], [900, 'Al Zawahiri Loyalists', 1], [901, 'Resistance Cell', 1], [902, 'Maasai', 1], [903, 'Islamic Companies', 1], [904, 'Revolutionary Action of Liberation', 4], [905, 'Anarkista Jorge Banos Front of the Everyone For The Homeland Movement (MTP)', 1], [906, 'Hezbollah Palestine', 1], [907, 'Rival caste', 5], [908, 'Anti-Semitic extremists', 13], [909, 'Karamojong Warriors', 3], [910, 'Informal Anarchist Federation', 33], [911, 'National Socialist Council of Nagaland-Isak-Muivah (NSCN-IM)', 44], [912, 'Tehrik-e-Galba Islam', 2], [913, 'Sudurpaschim Janata Dal', 1], [914, 'Aisha Umm-al Mouemeneen (Brigades of Aisha)', 1], [915, 'Sanatan Sanstha', 1], [916, \"Odua Peoples' Congress (OPC)\", 3], [917, 'West Nile Bank Front (WNBF)', 1], [918, 'Buddhist Monks', 34], [919, 'Kurdish Separatists', 2], [920, 'Phineas Priesthood', 4], [921, 'Lashkar-e-Omar', 2], [922, 'Hoodie Wearers', 1], [923, 'South Sudan Liberation Army (SSLA)', 3], [924, 'Terai Communist Party', 2], [925, 'Jammu and Kashmir Islamic Front', 3], [926, 'Ansar al-Din', 1], [927, 'Communist Party of India - Maoist (CPI-Maoist)', 1518], [928, 'Comando Autónomo Voltaire Argandoña', 1], [929, 'Rival peasant band', 1], [930, 'Qaddafi loyalists', 4], [931, 'Banyamulenge rebels', 1], [932, 'Pirates', 2], [933, 'Red Flag (Venezuela)', 1], [934, 'Gazteriak', 1], [935, 'Tribesmen Murad Tribe', 4], [936, 'Karenni National Progressive Party', 1], [937, 'The Black Sun', 1], [938, 'Liberians United for Reconciliation and Democracy (LURD)', 6], [939, \"Indigenous People's Federal Army (IPFA)\", 1], [940, 'Basque Fatherland and Freedom (ETA)', 335], [941, 'Loyalist Volunteer Forces (LVF)', 26], [942, 'Fundamentalists', 1], [943, 'Dissident', 1], [944, 'Punjabi Taliban', 2], [945, 'Armed Forces Revolutionary Council (AFRC)', 2], [946, 'White Legion (Georgia)', 3], [947, 'Pemuda Pancasila', 1], [948, 'Misseriya Arab Tribesmen', 2], [949, 'Ansarul Islam (Pakistan)', 2], [950, 'Islamic Unification Movement', 2], [951, 'Patriotic Resistance Front in Ituri (FRPI)', 1], [952, 'Anti-Israeli extremists', 1], [953, 'Civilian Joint Task Force (JTF)', 1], [954, 'Brigades of Imprisoned Sheikh Omar Abdel-Rahman', 3], [955, 'Conscientious Arsonists (CA)', 5], [956, 'Libya Shield Force', 1], [957, 'Ogaden National Liberation Front (ONLF)', 6], [958, 'Revolutionary Proletarian Army', 1], [959, 'Jagrata Towhidi Janata (Rising Faithfuls)', 1], [960, 'Macheteros', 3], [961, 'White Wolves (UK)', 1], [962, 'Colombian Patriotic Resistance', 3], [963, 'Black Eagles', 2], [964, 'Sympathizers of Al-Qaida Organization', 4], [965, 'Front for the Liberation of the Enclave of Cabinda (FLEC)', 5], [966, 'Al-Nawaz', 1], [967, 'Janatantrik Terai Madhesh Mukti Morcha (JTMMM)', 8], [968, 'Ansar al-Jihad', 1], [969, 'Armed People', 6], [970, 'Angry Brigade (Italy)', 2], [971, 'Kidnapping gang', 1], [972, 'Anti-Government Guerrillas', 12], [973, \"Madhesi People's Rights Forum (MPRF)\", 3], [974, \"People's Committee against Police Atrocities (PCPA)\", 22], [975, 'Rebellious Group Lambros Foundas', 1], [976, 'Allied Democratic Forces (ADF)', 50], [977, 'Militia Members', 10], [978, 'Manuel Rodriguez Patriotic Front (FPMR)', 3], [979, 'Unarmed Algerian', 1], [980, 'Nepal Defense Army', 6], [981, 'Yimchunger Liberation Front (YLF)', 1], [982, 'Ombatse Cult', 1], [983, 'Jordanian Islamic Resistance', 2], [984, 'Groups for Dissemination of Revolutionary Theory and Action', 1], [985, 'Civilian Defense', 1], [986, 'Serbs', 3], [987, 'Shia Muslim extremists', 8], [988, 'Naga National Council (NNC)', 2], [989, 'Golden Dawn', 1], [990, 'Hezbollah', 147], [991, 'Death Squad', 2], [992, 'Ranbir Sena', 15], [993, \"Al-Mua'qi'oon Biddam Brigade (Those who Sign with Blood)\", 1], [994, 'The Extraditables', 3], [995, \"Pakistani People's Party (PPP)\", 5], [996, 'Militants', 75], [997, 'Revolutionary Liberation Action (Epanastatiki Apelevtherotiki Drasi) - Greece', 3], [998, 'Hizb-I-Islami', 31], [999, 'Government Supporters', 2], [1000, 'Baloch Militant Defense Army', 1], [1001, 'Ethiopian Dongiro tribesmen', 1], [1002, 'Iraqi Islamic Vanguards for National Salvation (IIVNS)', 1], [1003, 'Miscreants', 3], [1004, 'Dignity for Colombia', 2], [1005, 'Tawheedul Islam', 1], [1006, 'Al-Nusrah Front', 65], [1007, 'Bandits', 5], [1008, 'New Revolutionary Alternative (NRA)', 1], [1009, 'Islamic Army in Iraq (al-Jaish al-Islami fi al-Iraq)', 7], [1010, 'Black Hawks (Anti-Wahhabists)', 1], [1011, 'Aqmur', 1], [1012, 'Mujahedeen Group', 1], [1013, 'Nepalbad Party', 1], [1014, 'Islamic Movement of Martyrs', 1], [1015, 'Hassan Mabkhut Group', 2], [1016, 'Muslim Guerrillas', 1], [1017, 'Bahujan Samaj Party', 2], [1018, 'Mazdoor Kisan Sangram Samiti (MKSS)', 1], [1019, 'Anti-Zionist Movement', 2], [1020, 'Fatherland and Liberty Nationalist Front (FNPL - Frente Nacionalista Patria y Libertad FNPL)', 1], [1021, 'Zeliangrong United Front', 4], [1022, 'Islambouli Brigades of al-Qaida', 5], [1023, 'Movement for the Emancipation of the Niger Delta (MEND)', 78], [1024, 'Guadalcanal Liberation Front (GLF)', 1], [1025, 'Tamil Nadu Liberation Army', 1], [1026, 'Rodolfo Walsh National Command', 1], [1027, 'Mapuche Ancestral Resistance (RAM)', 1], [1028, 'Irish National Liberation Army (INLA)', 16], [1029, 'Left-Wing Guerrillas', 60], [1030, 'Al-Qaida Network for Southwestern Khulna Division', 2], [1031, 'Extortionists', 2], [1032, 'Hutus Former Soldiers', 3], [1033, 'Ansar al-Tahwid wal Sunna', 1], [1034, 'Mlada Bosna', 1], [1035, 'Animal Liberation Front (ALF)', 72], [1036, 'Kamtapur Liberation Organization (KLO)', 13], [1037, 'Fedayeen Imam Mahdi', 1], [1038, 'Liberation War Veterans Association', 1], [1039, 'Real Irish Republican Army (RIRA)', 41], [1040, 'Mariano Moreno National Liberation Commando', 3], [1041, 'Islamic Movement of Kashmir', 2], [1042, 'United Bengali Liberation Front (UBLF)', 3], [1043, 'Anti-Imperialist Commando', 1], [1044, 'Ummah Liberation Army', 1], [1045, 'Revolutionary Nuclei', 12], [1046, 'Al-Qaida in Saudi Arabia', 8], [1047, 'Yemenis', 2], [1048, 'Volunteers of Innocent People of Nagas (VIPN)', 1], [1049, 'Boko Haram', 810], [1050, 'Gulf Cartel', 1], [1051, 'National Democratic Alliance Army (NDAA-ESSA)', 1], [1052, 'Southern Mobility Movement (Yemen)', 36], [1053, \"Arab People's Group\", 1], [1054, 'Colonel Albert Kahasha Militia', 1], [1055, 'Anti-Christian extremists', 1], [1056, 'Ikhwan Jammu and Kashmir', 2], [1057, \"Umbane People's Liberation Army (Swaziland)\", 2], [1058, 'Army of Islam', 3], [1059, 'Youths', 11], [1060, 'Last Generation', 1], [1061, 'Fatah Hawks', 1], [1062, \"Al-Shabaab al-Mu'minin\", 4], [1063, 'Jewish Defense League (JDL)', 2], [1064, 'Al-Aqsa Martyrs Brigade', 161], [1065, 'Popular Resistance (Laiki Antistasi)', 2], [1066, 'Al-Badr', 2], [1067, \"National People's Movement Coordination Committee\", 3], [1068, 'Muslim Brotherhood', 3], [1069, 'Niger Delta Liberation Force (NDLF)-Nigeria', 3], [1070, 'First Capital Command (PCC)', 1], [1071, 'Beli Orlovi (White Eagles)', 1], [1072, 'Barisan Revolusi Nasional (BRN)', 11], [1073, 'Patriotic Union of Kurdistan (PUK)', 1], [1074, 'Intifada Martyrs', 1], [1075, 'New Patriotic Party (NPP)', 1], [1076, 'Children of November', 2], [1077, 'Saharan Revolutionary Armed Front (FARS)', 3], [1078, 'Supporters of ret. Gen. Lino Oviedo', 1], [1079, 'Diyala Salvation Council', 1], [1080, 'Militant Organization of Russian Nationalists', 1], [1081, 'Telangana Separatists', 2], [1082, 'National Union for the Total Independence of Angola (UNITA)', 145], [1083, 'Israeli extremists', 18], [1084, 'Islamic Front', 5], [1085, 'Save Kashmir Movement', 3], [1086, \"People's Protection Units (YPG)\", 1], [1087, 'Kara clan', 1], [1088, 'Kuki National Liberation Front (KNLF)', 2], [1089, 'Association of Mobil Spill Affected Communities (AMSAC)', 1], [1090, 'Supreme Command for Jihad and Liberation', 2], [1091, 'Minutemen American Defense', 1], [1092, 'Revolutionary Front', 1], [1093, 'Mujahidin Ambon', 1], [1094, 'Kaka-Tribesmen', 1], [1095, \"New People's Army (NPA)\", 665], [1096, 'Red Brigades Fighting Communist Party (BR-PCC)', 4], [1097, 'Zomi Revolutionary Army (ZRA)', 1], [1098, 'Kaingang Indians', 1], [1099, 'Democratic Iraqi Opposition of Germany', 1], [1100, 'Moro National Liberation Front (MNLF)', 21], [1101, 'Jaime Bateman Cayon Group (JBC)', 4], [1102, 'Attack Teams for the Dissolution of the Nation (Greece)', 3], [1103, 'Tawhid and Jihad (Palestine)', 2], [1104, 'Israeli settlers', 5], [1105, 'Red Line', 1], [1106, 'Islamic Jihad Brigades', 1], [1107, 'El-Feth katibat', 1], [1108, 'National Patriotic Front of Liberia (NPFL)', 1], [1109, 'Al-Ashtar Brigades', 3], [1110, 'The Justice Department', 15], [1111, 'Majerten clansmen', 1], [1112, 'Communist Party of India- Marxist-Leninist', 8], [1113, 'Bodo Liberation Tigers (BLT)', 9], [1114, 'Balakhani Group', 1], [1115, 'Institutional Revolutionary Party (PRI)', 14], [1116, 'Moroccan extremists', 1], [1117, 'Adivasi Cobra Militants of Assam (ACMA)', 1], [1118, 'Rival Activists', 8], [1119, 'Republican Anticlerical Group', 1], [1120, 'Free Aceh Movement (GAM)', 110], [1121, 'Party Unity', 1], [1122, 'Madhesi Mukti Tigers (MMT)', 8], [1123, 'Armenian Secret Army for the Liberation of Armenia', 1], [1124, 'Tehrik-e-Tuhafaz (Pakistan)', 2], [1125, 'Jaish al-Muslimin (Army of the Muslims)', 2], [1126, 'Popular Front of India', 1], [1127, 'Kurdish Militants', 3], [1128, 'Islamic Party (Somalia)', 2], [1129, 'Union of Congolese Patriots (UPC)', 2], [1130, 'Zviadists', 1], [1131, 'Karabulak Gang', 1], [1132, 'Zwai Tribe', 1], [1133, 'Political Activists', 4], [1134, 'Right-Wing Militants', 1], [1135, 'Armata Corsa', 3], [1136, 'Extremists', 4], [1137, 'United Jihad Council', 1], [1138, 'Activists', 4], [1139, 'National Freedom Party', 1], [1140, 'Democratic Revolutionary Party', 7], [1141, 'Afar Revolutionary Democratic Unity Front', 2], [1142, 'Jumuiya ya Taasisi za Kiislam (Community of Muslim Organizations)', 1], [1143, 'Karen National Union', 41], [1144, 'Chukakuha (Middle Core Faction)', 2], [1145, 'United Liberation Front of Assam (ULFA)', 266], [1146, 'Popular Will (Greece)', 3], [1147, \"Kata'ib al-Khoul\", 2], [1148, 'Al-Qaida in the Indian Subcontinent', 1], [1149, 'Albanian Separatists', 1], [1150, 'Great Eastern Islamic Raiders Front (IBDA-C)', 14], [1151, 'Rizvon Sadirov Group', 2], [1152, 'Egbema National Front', 1], [1153, 'Protectors of Islam Brigade', 1], [1154, 'Fatah al-Islam', 2], [1155, 'Anonymous Underground Movement (MCA)', 1], [1156, 'Forces for the Unification of the Central African Republic (FIRCA)', 1], [1157, \"Adivasi People's Army (APA)\", 3], [1158, 'Ulster Freedom Fighters (UFF)', 16], [1159, 'Palestinian Hezbollah', 2], [1160, 'Coalition for Unity and Democracy (CUD)', 4], [1161, \"Al-Ma'unah\", 2], [1162, 'Sword of Islam', 1], [1163, 'English Defense League (EDL)', 1], [1164, 'All Tripura Tiger Force (ATTF)', 11], [1165, 'Alexandros Grigoropoulos Anarchist Attack Group', 1], [1166, 'National Liberation Alliance of Sa Kaeo', 1], [1167, 'Association Totalement Anti-Guerre (ATAG)', 1], [1168, 'Death to Rustlers', 3], [1169, 'Revolutionary Struggle', 22], [1170, \"People's Revolutionary Militias (MRP)\", 4], [1171, 'Janatantrik Terai Madhes Mukti Party- Bhagat Singh (JTMMP)', 1], [1172, 'Armed Group for the Defence of the People', 2], [1173, 'Itsekiri', 1], [1174, 'LW', 1], [1175, 'Syrian Mujahideen', 1], [1176, 'Janatantrik Terai Mukti Morcha- Jwala Singh (JTMM-J)', 78], [1177, 'Al-Fatihin Army (AFA)', 1], [1178, 'Communists', 3], [1179, 'February 14th Movement', 3], [1180, 'Mapuche activists', 4], [1181, 'Muslims', 13], [1182, 'Anti-United States extremists', 4], [1183, 'Vanguard of Red Youth (AKM)', 1], [1184, 'Salafi Abu-Bakr al-Siddiq Army', 2], [1185, 'Bhittani tribe', 1], [1186, 'Illuminating Paths of Solidarity', 6], [1187, 'Shield of Islam Brigade', 2], [1188, 'Abkhazian Separatists', 2], [1189, 'Catholic Reaction Force', 2], [1190, 'National Council of Maubere Resistance', 1], [1191, 'Ahrar Al-Jalil (Free People of the Galilee)', 4], [1192, 'Protesters', 6], [1193, 'Naga People', 3], [1194, 'Imam Hussein Brigade', 2], [1195, 'Kilafah Islamic Movement', 1], [1196, 'Revolutionary United Front (RUF)', 34], [1197, 'Revolutionary Popular Left', 1], [1198, 'Right-wing extremists', 8], [1199, 'Sunni Muslim extremists', 28], [1200, 'Civic United Front (CUF)', 1], [1201, 'Taxi Drivers', 4], [1202, 'Kanglei Yawol Kanna Lup (KYKL)', 9], [1203, 'Pentagon Kidnap Group', 1], [1204, 'Simon Bolivar Guerrilla Coordinating Board (CGSB)', 2], [1205, 'Tehrik-i-Taliban Pakistan (TTP)', 882], [1206, 'Bharatiya Janata Party', 1], [1207, \"Citizen's Rights Protection Volunteers\", 2], [1208, 'Angry Foxes Cell', 1], [1209, 'Achik National Volunteer Council-B (ANVC-B)', 1], [1210, \"People's Democratic Party (PDP)\", 2], [1211, 'United Front for Democratic Change (FUC)', 4], [1212, 'Joint Meeting Parties (JMP)', 1], [1213, 'Sungu Sungu', 1], [1214, 'Shiv Sena', 2], [1215, 'Tamil Makkal Viduthalai Pulikal (TMVP)', 3], [1216, 'Bani Jaber tribe', 1], [1217, 'Fulani extremists', 20], [1218, \"Naga People's Council (NPC)\", 1], [1219, 'Partido Marxista-Leninista ng Pilipinas (PMLP)', 1], [1220, 'Anbar Salvation Council', 1], [1221, 'National Democratic Front-Bicol (NDF-Bicol)', 1], [1222, 'Narco-Terrorists', 2], [1223, 'Brigades of Iman Hassan-al-Basri', 1], [1224, 'Revolutionary Proletarian Initiative Nuclei (NIPR)', 2], [1225, 'Baloch Liberation Tigers (BLT)', 6], [1226, 'Corsican Nationalists', 2], [1227, 'National Socialist Underground', 14], [1228, 'Rebels', 33], [1229, \"People's Revolutionary Organization\", 3], [1230, \"God's Army\", 2], [1231, 'Akhilesh Singh Gang', 1], [1232, 'Environmentalists', 2], [1233, 'Besi Merah Putih Militia', 3], [1234, 'Right-Wing Paramilitaries', 13], [1235, 'Tribal guerrillas', 2], [1236, 'Jemaah Islamiya (JI)', 75], [1237, 'Islamic Jihad Group (IJG)', 3], [1238, \"Communist Party of Nepal (People's War Group)\", 8], [1239, 'Supporters of Johnny Adair', 1], [1240, 'Al-Sunni muslim sect', 1], [1241, 'Mujahedin Kompak', 1], [1242, 'Northern Diriangen Front (FND)', 3], [1243, 'Afghan Revolutionary Front', 1], [1244, \"People's Revolutionary Party of Kangleipak-Progressive (PREPAK-P)\", 3], [1245, 'International Revolutionary Front', 1], [1246, 'Rival clan', 1], [1247, 'Bini-Oru', 1], [1248, 'Boere Aanvals Troepe (BAT)', 3], [1249, 'Ramzi Nahra Martyr Organization', 1], [1250, 'Bangsamoro Islamic Freedom Movement (BIFM)', 91], [1251, \"Cambodian People's Party (CPP)\", 4], [1252, 'Salafi Daawa Group', 1], [1253, 'Irish Republican Extremists', 19], [1254, 'Muslim United Army (MUA)', 1], [1255, 'Maoists', 620], [1256, 'Muslims Against Global Oppression (MAGO)', 1], [1257, 'Wahhabi Movement', 1], [1258, 'Che Guevara Guerrillas', 5], [1259, 'Caucasus Emirate', 38], [1260, 'Rabid Brothers of Giuliani', 1], [1261, 'Massive escape', 1], [1262, 'Popular Army Vanguards- Battalions of Return', 2], [1263, \"Ed'daoua Es'salafia Lilqadha\", 1], [1264, 'National Liberation Force of Bengalis (Bangali Janamukti Bahini)', 4], [1265, 'Moro Islamic Liberation Front (MILF)', 321], [1266, 'Brelvi Muslims', 2], [1267, 'Ansar Sarallah', 1], [1268, 'Tolib Ayombekov loyalists', 1], [1269, 'The War That Was Never Declared', 1], [1270, 'National Democratic Front of Bodoland (NDFB)', 104], [1271, 'Houthi extremists (Ansar Allah)', 35], [1272, 'Aitarak Militia', 2], [1273, 'Moro Ghuraba', 1], [1274, 'Irianese Tribesmen', 2], [1275, 'Armed Revolutionary Left (IRA)', 2], [1276, 'Elos security firm', 1], [1277, 'Jamaat-E-Islami (India/Pakistan)', 8], [1278, 'Bhisan Himali Bag', 1], [1279, 'All India Anna Dravida Munetra Kazgan Party', 1], [1280, 'Convention of Patriots for Justice and Peace', 8], [1281, 'Mujahedeen Army', 2], [1282, 'United Front for Democracy Against Dictatorship', 21], [1283, \"Didier Ratsiraka's Militia\", 1], [1284, 'Knights Templar (Caballeros Templarios)', 1], [1285, 'Amazigh Islamic Front', 1], [1286, 'Skinheads', 3], [1287, 'National Front for the Revolution in Burundi (FRONABU-Tabara)', 2], [1288, 'Dev Sol', 5], [1289, 'Revenge Brigade', 1], [1290, 'Friends of Loukanikos', 1], [1291, 'Breton Liberation Front (FLB)', 5], [1292, 'Young Communist League', 10], [1293, 'Palestinian Islamic Jihad (PIJ)', 150], [1294, 'Villagers', 3], [1295, 'Justice Army for Defenseless Peoples', 1], [1296, 'Ansar al-Sunna', 17], [1297, 'United Janatantrik Terai Mukti Morcha (U-JTMM)', 1], [1298, 'Inkatha Freedom Party (IFP)', 2], [1299, 'Jharkhand Janmukti Parishad (JJP)', 1], [1300, 'Kashmiri extremists', 8], [1301, 'Abu Sayyaf Group (ASG)', 243], [1302, 'Last Alternative Guerrilla Front', 1], [1303, \"People's Sovereignty Party (PDR)\", 1], [1304, 'Garo National Liberation Army', 95], [1305, 'South Londonderry Volunteers (SLV)', 2], [1306, 'Coca Farmers', 2], [1307, 'Karen Insurgents', 1], [1308, '14 K Triad', 4], [1309, 'Mungiki Sect', 5], [1310, 'Georgian Militants', 1], [1311, 'Muslim Youth', 1], [1312, 'Al-Haramayn Brigades', 3], [1313, 'All Nepal National Free Student Union-Revolutionary', 3], [1314, 'Mujahedeen Brigades', 1], [1315, 'Anarchists', 17], [1316, 'Rastriya Janashakti Party (RJP)', 1], [1317, 'Students For Insurrection', 1], [1318, 'West Side Boys', 1], [1319, 'Al-Madina', 4], [1320, 'Khalistan Liberation Force', 3], [1321, 'Iraqi extremists', 11], [1322, 'Fatherland', 1], [1323, 'Nihilists Faction', 2], [1324, 'Achik National Volunteer Council (ANVC)', 1], [1325, 'Fuerzas Autonómicas y Destructivas León Czolgoscz', 1], [1326, 'Republican Action Against Drugs (RAAD)', 1], [1327, 'Mahsud Tribe', 1], [1328, 'Haqqani Network', 65], [1329, 'Revolutionary Cells (Argentina)', 2], [1330, 'Sudan Alliance Forces', 4], [1331, 'Muslim Renewal', 1], [1332, 'Overall Deniers of Joining the Existing', 3], [1333, 'Free Papua Movement (OPM-Organisasi Papua Merdeka)', 23], [1334, 'Islamic Movement for Change', 1]]\n"
     ]
    }
   ],
   "source": [
    "arr = []\n",
    "for _ in range(0,len(op)):\n",
    "    arr.append([_,op[_],a[_]])\n",
    "print(arr)"
   ]
  },
  {
   "cell_type": "code",
   "execution_count": 17,
   "metadata": {},
   "outputs": [
    {
     "data": {
      "text/plain": [
       "'Mapped frequency with its terrorist groups'"
      ]
     },
     "execution_count": 17,
     "metadata": {},
     "output_type": "execute_result"
    }
   ],
   "source": [
    "'''Mapped frequency with its terrorist groups'''"
   ]
  },
  {
   "cell_type": "code",
   "execution_count": 18,
   "metadata": {},
   "outputs": [
    {
     "name": "stdout",
     "output_type": "stream",
     "text": [
      "2218 64084\n"
     ]
    }
   ],
   "source": [
    "import numpy as np\n",
    "fin = []\n",
    "df_fin = (df['gname'])\n",
    "df_f = df[['gname','country','multiple','suicide','attacktype1','targtype1']]\n",
    "\n",
    "df_fin = list(df_fin)\n",
    "\n",
    "i =101\n",
    "#change\n",
    "for _ in range (0,5000): # I am performing training for only 5000 fields in dataset because of less computation power resource\n",
    "    if df_fin[_] != 'Unknown':\n",
    "        fin.append([df_f['country'][_],df_f['multiple'][_],df_f['suicide'][_],df_f['attacktype1'][_],df_f['targtype1'][_],_])\n",
    "        i = i+1\n",
    "print(len(fin),len(df_fin))"
   ]
  },
  {
   "cell_type": "code",
   "execution_count": 20,
   "metadata": {
    "scrolled": true
   },
   "outputs": [
    {
     "name": "stdout",
     "output_type": "stream",
     "text": [
      "['country', 'multiple', 'suicide', 'attacktype1', 'targtype1', 'gname']\n"
     ]
    }
   ],
   "source": [
    "import csv\n",
    "myFile = open('mastercsv3.csv', 'w')  \n",
    "fields = ['country','multiple','suicide','attacktype1','targtype1']\n",
    "fields.append('gname')\n",
    "print(fields)\n",
    "with myFile:  \n",
    "   writer = csv.writer(myFile)\n",
    "   #writer.writerow(fields)\n",
    "   writer.writerows(fin)"
   ]
  },
  {
   "cell_type": "code",
   "execution_count": 21,
   "metadata": {},
   "outputs": [
    {
     "data": {
      "text/plain": [
       "'created different dataset with specific field (\\'country\\',\\'multiple\\',\\'suicide\\',\\'attacktype1\\',\\'targtype1\\').\\nthese fields are going to show most important role in prediction of terrorist groups where \"Unknown\" field need to remove because \\nit can\\'t help in training. many fields are empty which can be filled using missing data preprossing because it\\'s a texature data. '"
      ]
     },
     "execution_count": 21,
     "metadata": {},
     "output_type": "execute_result"
    }
   ],
   "source": [
    "'''created different dataset with specific field ('country','multiple','suicide','attacktype1','targtype1').\n",
    "these fields are going to show most important role in prediction of terrorist groups where \"Unknown\" field need to remove because \n",
    "it can't help in training. many fields are empty which can be filled using missing data preprossing because it's a texature data. '''\n"
   ]
  },
  {
   "cell_type": "code",
   "execution_count": 22,
   "metadata": {},
   "outputs": [],
   "source": [
    "finarr = fin\n",
    "for _ in range(0,len(fin)):\n",
    "    finarr.append([])\n",
    "    for l in range(0,len(op)):\n",
    "        if(op[l]==df_fin[_]):\n",
    "            finarr[_].append(1)\n",
    "        else:\n",
    "            finarr[_].append(0)"
   ]
  },
  {
   "cell_type": "code",
   "execution_count": 23,
   "metadata": {},
   "outputs": [
    {
     "name": "stdout",
     "output_type": "stream",
     "text": [
      "1340 4436\n"
     ]
    }
   ],
   "source": [
    "myFile = open('resultcsv1.csv', 'w')\n",
    "fields = ['country','multiple','suicide','attacktype1','targtype1']\n",
    "for k in range(0,len(op)):\n",
    "    fields.append(op[k])\n",
    "print(len(fields),len(finarr))\n",
    "#for _ in finarr:\n",
    "#    fields.append(_)\n",
    "#fields.append('gname')\n",
    "with myFile:\n",
    "   writer = csv.writer(myFile)\n",
    "   writer.writerow(fields)\n",
    "   writer.writerows(fin)"
   ]
  },
  {
   "cell_type": "code",
   "execution_count": 24,
   "metadata": {},
   "outputs": [
    {
     "data": {
      "text/plain": [
       "'Created sparse matrix for different classes to map with their feature\\nwhere if \"terrorist groups\" is involved then 1 otherwise 0'"
      ]
     },
     "execution_count": 24,
     "metadata": {},
     "output_type": "execute_result"
    }
   ],
   "source": [
    "'''Created sparse matrix for different classes to map with their feature\n",
    "where if \"terrorist groups\" is involved then 1 otherwise 0'''"
   ]
  },
  {
   "cell_type": "code",
   "execution_count": 25,
   "metadata": {},
   "outputs": [
    {
     "name": "stderr",
     "output_type": "stream",
     "text": [
      "/usr/lib/python3.5/importlib/_bootstrap.py:222: RuntimeWarning: numpy.dtype size changed, may indicate binary incompatibility. Expected 96, got 88\n",
      "  return f(*args, **kwds)\n",
      "/usr/lib/python3.5/importlib/_bootstrap.py:222: RuntimeWarning: numpy.dtype size changed, may indicate binary incompatibility. Expected 96, got 88\n",
      "  return f(*args, **kwds)\n",
      "/usr/lib/python3.5/importlib/_bootstrap.py:222: RuntimeWarning: numpy.dtype size changed, may indicate binary incompatibility. Expected 96, got 88\n",
      "  return f(*args, **kwds)\n",
      "/usr/lib/python3.5/importlib/_bootstrap.py:222: RuntimeWarning: numpy.dtype size changed, may indicate binary incompatibility. Expected 96, got 88\n",
      "  return f(*args, **kwds)\n",
      "/home/siddharth/.local/lib/python3.5/site-packages/sklearn/cross_validation.py:41: DeprecationWarning: This module was deprecated in version 0.18 in favor of the model_selection module into which all the refactored classes and functions are moved. Also note that the interface of the new CV iterators are different from that of this module. This module will be removed in 0.20.\n",
      "  \"This module will be removed in 0.20.\", DeprecationWarning)\n"
     ]
    }
   ],
   "source": [
    "import pandas as pd\n",
    "import numpy as np\n",
    "from sklearn import linear_model\n",
    "from sklearn import metrics\n",
    "from sklearn.cross_validation import train_test_split\n",
    "\n",
    "import plotly.graph_objs as go\n",
    "import plotly.plotly as py\n",
    "from plotly.graph_objs import *\n",
    "py.sign_in('singhaisid0', 'HxcQupFJfhxnyI9uqYay')"
   ]
  },
  {
   "cell_type": "code",
   "execution_count": null,
   "metadata": {},
   "outputs": [],
   "source": [
    "'''Imported libraries for multi-class logistic regression'''"
   ]
  },
  {
   "cell_type": "code",
   "execution_count": 26,
   "metadata": {},
   "outputs": [
    {
     "name": "stdout",
     "output_type": "stream",
     "text": [
      "       69  1  0  3  1.1   0.1\n",
      "0      69  1  0  3    1     1\n",
      "1      69  1  0  3    1    14\n",
      "2      69  1  0  3    1    15\n",
      "3      69  1  0  3    1    16\n",
      "4      69  0  0  1    2    17\n",
      "5     603  0  0  1   14    19\n",
      "6     142  0  0  3    1    20\n",
      "7      92  0  0  3   14    46\n",
      "8     186  0  0  3   16    49\n",
      "9      36  0  0  3   14    50\n",
      "10     45  0  0  3    3    51\n",
      "11     69  0  0  3    2    52\n",
      "12    142  0  0  7    1    53\n",
      "13    142  0  0  7    7    54\n",
      "14    142  0  0  7    7    55\n",
      "15    186  0  0  1   14    56\n",
      "16     69  0  0  3    4    58\n",
      "17     75  1  0  7    1    59\n",
      "18     75  1  0  7    1    60\n",
      "19     75  1  0  7    1    61\n",
      "20     75  1  0  7    1    62\n",
      "21     75  1  0  7    1    63\n",
      "22     75  0  0  7    1    64\n",
      "23     75  0  0  7    1    65\n",
      "24     78  0  0  7    6    66\n",
      "25     45  0  0  3   16    70\n",
      "26     69  0  0  3    2    71\n",
      "27    183  0  0  2    2    75\n",
      "28     60  0  0  2    1    76\n",
      "29    160  0  0  2   14    79\n",
      "...   ... .. .. ..  ...   ...\n",
      "2187    6  0  0  9   14  4914\n",
      "2188   70  0  0  7    3  4917\n",
      "2189  110  0  0  3   14  4918\n",
      "2190  198  0  0  3   14  4923\n",
      "2191    6  0  0  9   14  4924\n",
      "2192   28  0  0  7   14  4925\n",
      "2193  228  0  0  6   14  4940\n",
      "2194   45  0  0  1   14  4944\n",
      "2195   92  0  0  3    3  4945\n",
      "2196    6  0  0  2   14  4950\n",
      "2197  104  0  0  9    3  4955\n",
      "2198  174  0  0  2    4  4957\n",
      "2199   45  0  0  1    2  4963\n",
      "2200   75  0  0  8   14  4965\n",
      "2201    6  0  0  2   14  4970\n",
      "2202   45  0  0  9    4  4971\n",
      "2203   45  1  0  3    1  4972\n",
      "2204   45  1  0  3    1  4973\n",
      "2205   75  0  0  7   14  4974\n",
      "2206  159  0  0  9   14  4975\n",
      "2207  160  0  0  2    3  4976\n",
      "2208   45  0  0  1    3  4982\n",
      "2209   92  0  0  3    7  4984\n",
      "2210   92  0  0  3    3  4985\n",
      "2211   92  0  0  2   14  4987\n",
      "2212   92  0  0  2   14  4988\n",
      "2213  209  0  0  3   19  4990\n",
      "2214    6  0  0  9   14  4994\n",
      "2215   45  0  0  2    1  4996\n",
      "2216   45  0  0  1    2  4998\n",
      "\n",
      "[2217 rows x 6 columns]\n"
     ]
    }
   ],
   "source": [
    "gname_data = pd.read_csv(\"/home/siddharth/mastercsv3.csv\")\n",
    "print(gname_data)"
   ]
  },
  {
   "cell_type": "code",
   "execution_count": 27,
   "metadata": {},
   "outputs": [],
   "source": [
    "DATASET_PATH = \"mastercsv3.csv\""
   ]
  },
  {
   "cell_type": "code",
   "execution_count": 28,
   "metadata": {},
   "outputs": [
    {
     "data": {
      "text/plain": [
       "'we are using different dataset file which is created after preprocessing on given input data'"
      ]
     },
     "execution_count": 28,
     "metadata": {},
     "output_type": "execute_result"
    }
   ],
   "source": [
    "'''we are using different dataset file which is created after preprocessing on given input data'''"
   ]
  },
  {
   "cell_type": "code",
   "execution_count": null,
   "metadata": {
    "scrolled": true
   },
   "outputs": [
    {
     "name": "stdout",
     "output_type": "stream",
     "text": [
      "Number of observations ::  2218\n",
      "Number of columns ::  6\n",
      "Headers ::  ['country' 'multiple' 'suicide' 'attacktype1' 'targtype1' 'gname']\n",
      "Target ::  0          0\n",
      "1          1\n",
      "2         14\n",
      "3         15\n",
      "4         16\n",
      "5         17\n",
      "6         19\n",
      "7         20\n",
      "8         46\n",
      "9         49\n",
      "10        50\n",
      "11        51\n",
      "12        52\n",
      "13        53\n",
      "14        54\n",
      "15        55\n",
      "16        56\n",
      "17        58\n",
      "18        59\n",
      "19        60\n",
      "20        61\n",
      "21        62\n",
      "22        63\n",
      "23        64\n",
      "24        65\n",
      "25        66\n",
      "26        70\n",
      "27        71\n",
      "28        75\n",
      "29        76\n",
      "        ... \n",
      "2188    4914\n",
      "2189    4917\n",
      "2190    4918\n",
      "2191    4923\n",
      "2192    4924\n",
      "2193    4925\n",
      "2194    4940\n",
      "2195    4944\n",
      "2196    4945\n",
      "2197    4950\n",
      "2198    4955\n",
      "2199    4957\n",
      "2200    4963\n",
      "2201    4965\n",
      "2202    4970\n",
      "2203    4971\n",
      "2204    4972\n",
      "2205    4973\n",
      "2206    4974\n",
      "2207    4975\n",
      "2208    4976\n",
      "2209    4982\n",
      "2210    4984\n",
      "2211    4985\n",
      "2212    4987\n",
      "2213    4988\n",
      "2214    4990\n",
      "2215    4994\n",
      "2216    4996\n",
      "2217    4998\n",
      "Name: gname, Length: 2218, dtype: int64\n"
     ]
    }
   ],
   "source": [
    "def main():\n",
    "    gname_headers = ['country','multiple','suicide','attacktype1','targtype1','gname']\n",
    "\n",
    "    gname_data = pd.read_csv('/home/siddharth/mastercsv.csv', names=gname_headers)\n",
    "\n",
    "    print (\"Number of observations :: \", len(gname_data.index))\n",
    "    print (\"Number of columns :: \", len(gname_data.columns))\n",
    "    print (\"Headers :: \", gname_data.columns.values)\n",
    "    print (\"Target :: \", gname_data[gname_headers[-1]])\n",
    "    \n",
    "    graph_labels = [\"Number of Observations\", \"RI & Glass Type\", \"Sample RI - Glass Type Density Graph\"]\n",
    "\n",
    "\n",
    "\n",
    "    y = gname_data[gname_headers[-1]]\n",
    "\n",
    "    train_x, test_x, train_y, test_y = train_test_split(gname_data[gname_headers[0:-1]],y, train_size=0.7)\n",
    "\n",
    "    lr = linear_model.LogisticRegression()\n",
    "    lr.fit(train_x, train_y)\n",
    "\n",
    "    # Train multinomial logistic regression model\n",
    "    mul_lr = linear_model.LogisticRegression(multi_class='multinomial', solver='newton-cg').fit(train_x, train_y)\n",
    "\n",
    "    print (\"Logistic regression Train Accuracy :: \", metrics.accuracy_score(train_y, lr.predict(train_x)))\n",
    "#    print (\"Logistic regression Test Accuracy :: \", metrics.accuracy_score(test_y, lr.predict(test_x)))\n",
    "        \n",
    "    print (\"Multinomial Logistic regression Train Accuracy :: \", metrics.accuracy_score(train_y, mul_lr.predict(train_x)))\n",
    "#    print (\"Multinomial Logistic regression Test Accuracy :: \", metrics.accuracy_score(test_y, mul_lr.predict(test_x)))\n",
    "main()"
   ]
  },
  {
   "cell_type": "code",
   "execution_count": null,
   "metadata": {},
   "outputs": [],
   "source": [
    "'''we have used sklearn to create model for classification where.using both logistic and multinomial logistic regression.\n",
    "I found multinomial logistic regression is much better then  logistic regression.\n",
    "I used 70% data to train model and rest to test it'''"
   ]
  }
 ],
 "metadata": {
  "kernelspec": {
   "display_name": "Python 3",
   "language": "python",
   "name": "python3"
  },
  "language_info": {
   "codemirror_mode": {
    "name": "ipython",
    "version": 3
   },
   "file_extension": ".py",
   "mimetype": "text/x-python",
   "name": "python",
   "nbconvert_exporter": "python",
   "pygments_lexer": "ipython3",
   "version": "3.5.2"
  }
 },
 "nbformat": 4,
 "nbformat_minor": 2
}
